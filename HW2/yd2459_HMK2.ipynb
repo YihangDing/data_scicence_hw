{
 "cells": [
  {
   "cell_type": "code",
   "execution_count": 38,
   "metadata": {},
   "outputs": [],
   "source": [
    "%matplotlib inline\n",
    "from datascience import *\n",
    "import numpy as np\n",
    "from sql import *\n",
    "from matplotlib import pyplot as plt\n",
    "import pandas as pd\n"
   ]
  },
  {
   "cell_type": "markdown",
   "metadata": {},
   "source": [
    "# The Burrito Food Cart"
   ]
  },
  {
   "cell_type": "markdown",
   "metadata": {},
   "source": [
    "In 1990, Mr. A decided to invest in a Mexican food cart in Manhattan. He would work 5 days a week from 11:30 AM to 1:30 PM. His focus was to sell the best burritos in town. In the neighborhood, he remained the only burrito cart owner for 4 years, until 1995, when a competitor, Mr. B, decided to open up another burrito cart in the neighborhood. Mr. B was able to build a name very fast. People liked his burritos much more and with time, he became people's #1 choice. In 2000, two new burrito carts opened and 5 years later the fifth one opened. These last carts used to sell their burritos for much less but were never able to offer burritos that were as tasty as those offered by Mr. B. By then, Mr. A was unable to compete anymore; he neither had a price nor quality advantage and decided to shut down his business in 2008. To see each cart's market share from 1990 - 2010, load the following file into a table: `marketshare.csv`"
   ]
  },
  {
   "cell_type": "markdown",
   "metadata": {},
   "source": [
    "Q1. For simplicity, relabel the \"Market Share\" column to MS."
   ]
  },
  {
   "cell_type": "markdown",
   "metadata": {},
   "source": [
    "Q2. Verify that every year, the total market share of all opened carts for that year adds up to 1."
   ]
  },
  {
   "cell_type": "markdown",
   "metadata": {},
   "source": [
    "Q3. The table below shows daily demand:\n",
    "\n",
    "| Year | Daily Demand | \n",
    "|------|--------------|\n",
    "| 1990 |      100     | \n",
    "| 1991 |      110     | \n",
    "| 1992 |      120     | \n",
    "| 1993 |      130     | \n",
    "| 1994 |      140     |\n",
    "\n",
    "and would increase by 10 customers every year. Create a new table which gives the annual customer demand for burritos in the neighborhood where the carts stand. You can assume 5 days/week and 50 weeks/year.\n"
   ]
  },
  {
   "cell_type": "markdown",
   "metadata": {},
   "source": [
    "Q4. Assume that Mr. A and Mr. B sell their burritos for \\$4, while the other carts offer their burritos for only \\$3. Using the market share and demand data, calculate the annual profit for each cart, where profit is (revenue - cost) and the table below shows how much it costs each of the cart owners to make a burrito. Do all necessary calculations, but your final table should have 3 columns with the following labels: Year, Cart and Annual Profit\n",
    "\n",
    "| Cart | Cost | \n",
    "|------|------|\n",
    "|  A   |  2   | \n",
    "|  B   | 2.5  | \n",
    "|  C   | 1.5  | \n",
    "|  D   | 1.8  | \n",
    "|  E   | 1.3  |"
   ]
  },
  {
   "cell_type": "markdown",
   "metadata": {},
   "source": [
    "Q5. Which cart was able to generate the highest annual profit?"
   ]
  },
  {
   "cell_type": "markdown",
   "metadata": {},
   "source": [
    "Q6. Which cart was able to generate the highest average annual revenue?"
   ]
  },
  {
   "cell_type": "markdown",
   "metadata": {},
   "source": [
    "Q7. If you were the owner of cart A, would you have shut down the business? Explain your answer using the data."
   ]
  },
  {
   "cell_type": "markdown",
   "metadata": {},
   "source": [
    "Q8. In which year did Cart E make the most profit?"
   ]
  },
  {
   "cell_type": "markdown",
   "metadata": {},
   "source": [
    "Q9. Create a matrix that shows the annual profits of each cart. Each row is a year, while each column represents a cart and the cell entry holds the annual profit. "
   ]
  },
  {
   "cell_type": "code",
   "execution_count": 2,
   "metadata": {},
   "outputs": [],
   "source": [
    "market=Table()"
   ]
  },
  {
   "cell_type": "code",
   "execution_count": 3,
   "metadata": {},
   "outputs": [
    {
     "name": "stderr",
     "output_type": "stream",
     "text": [
      "/Users/apple/anaconda3/lib/python3.6/site-packages/datascience/tables.py:132: FutureWarning: read_table is deprecated, use read_csv instead.\n",
      "  df = pandas.read_table(filepath_or_buffer, *args, **vargs)\n"
     ]
    },
    {
     "data": {
      "text/html": [
       "<table border=\"1\" class=\"dataframe\">\n",
       "    <thead>\n",
       "        <tr>\n",
       "            <th>Year</th> <th>Cart</th> <th>Market Share</th>\n",
       "        </tr>\n",
       "    </thead>\n",
       "    <tbody>\n",
       "        <tr>\n",
       "            <td>1990</td> <td>A   </td> <td>1           </td>\n",
       "        </tr>\n",
       "        <tr>\n",
       "            <td>1991</td> <td>A   </td> <td>1           </td>\n",
       "        </tr>\n",
       "        <tr>\n",
       "            <td>1992</td> <td>A   </td> <td>1           </td>\n",
       "        </tr>\n",
       "        <tr>\n",
       "            <td>1993</td> <td>A   </td> <td>1           </td>\n",
       "        </tr>\n",
       "        <tr>\n",
       "            <td>1994</td> <td>A   </td> <td>0.8         </td>\n",
       "        </tr>\n",
       "        <tr>\n",
       "            <td>1994</td> <td>B   </td> <td>0.2         </td>\n",
       "        </tr>\n",
       "        <tr>\n",
       "            <td>1995</td> <td>A   </td> <td>0.5         </td>\n",
       "        </tr>\n",
       "        <tr>\n",
       "            <td>1995</td> <td>B   </td> <td>0.5         </td>\n",
       "        </tr>\n",
       "        <tr>\n",
       "            <td>1996</td> <td>A   </td> <td>0.4         </td>\n",
       "        </tr>\n",
       "        <tr>\n",
       "            <td>1996</td> <td>B   </td> <td>0.6         </td>\n",
       "        </tr>\n",
       "    </tbody>\n",
       "</table>\n",
       "<p>... (53 rows omitted)</p>"
      ],
      "text/plain": [
       "Year | Cart | Market Share\n",
       "1990 | A    | 1\n",
       "1991 | A    | 1\n",
       "1992 | A    | 1\n",
       "1993 | A    | 1\n",
       "1994 | A    | 0.8\n",
       "1994 | B    | 0.2\n",
       "1995 | A    | 0.5\n",
       "1995 | B    | 0.5\n",
       "1996 | A    | 0.4\n",
       "1996 | B    | 0.6\n",
       "... (53 rows omitted)"
      ]
     },
     "execution_count": 3,
     "metadata": {},
     "output_type": "execute_result"
    }
   ],
   "source": [
    "market=Table.read_table('marketshare.csv')\n",
    "market"
   ]
  },
  {
   "cell_type": "code",
   "execution_count": 4,
   "metadata": {},
   "outputs": [
    {
     "data": {
      "text/html": [
       "<table border=\"1\" class=\"dataframe\">\n",
       "    <thead>\n",
       "        <tr>\n",
       "            <th>Year</th> <th>Cart</th> <th>MS</th>\n",
       "        </tr>\n",
       "    </thead>\n",
       "    <tbody>\n",
       "        <tr>\n",
       "            <td>1990</td> <td>A   </td> <td>1   </td>\n",
       "        </tr>\n",
       "        <tr>\n",
       "            <td>1991</td> <td>A   </td> <td>1   </td>\n",
       "        </tr>\n",
       "        <tr>\n",
       "            <td>1992</td> <td>A   </td> <td>1   </td>\n",
       "        </tr>\n",
       "        <tr>\n",
       "            <td>1993</td> <td>A   </td> <td>1   </td>\n",
       "        </tr>\n",
       "        <tr>\n",
       "            <td>1994</td> <td>A   </td> <td>0.8 </td>\n",
       "        </tr>\n",
       "        <tr>\n",
       "            <td>1994</td> <td>B   </td> <td>0.2 </td>\n",
       "        </tr>\n",
       "        <tr>\n",
       "            <td>1995</td> <td>A   </td> <td>0.5 </td>\n",
       "        </tr>\n",
       "        <tr>\n",
       "            <td>1995</td> <td>B   </td> <td>0.5 </td>\n",
       "        </tr>\n",
       "        <tr>\n",
       "            <td>1996</td> <td>A   </td> <td>0.4 </td>\n",
       "        </tr>\n",
       "        <tr>\n",
       "            <td>1996</td> <td>B   </td> <td>0.6 </td>\n",
       "        </tr>\n",
       "    </tbody>\n",
       "</table>\n",
       "<p>... (53 rows omitted)</p>"
      ],
      "text/plain": [
       "Year | Cart | MS\n",
       "1990 | A    | 1\n",
       "1991 | A    | 1\n",
       "1992 | A    | 1\n",
       "1993 | A    | 1\n",
       "1994 | A    | 0.8\n",
       "1994 | B    | 0.2\n",
       "1995 | A    | 0.5\n",
       "1995 | B    | 0.5\n",
       "1996 | A    | 0.4\n",
       "1996 | B    | 0.6\n",
       "... (53 rows omitted)"
      ]
     },
     "execution_count": 4,
     "metadata": {},
     "output_type": "execute_result"
    }
   ],
   "source": [
    "#Q1: rename Market Share to MS\n",
    "market=market.relabeled(2,\"MS\")\n",
    "market"
   ]
  },
  {
   "cell_type": "code",
   "execution_count": 65,
   "metadata": {},
   "outputs": [
    {
     "data": {
      "text/html": [
       "<table border=\"1\" class=\"dataframe\">\n",
       "    <thead>\n",
       "        <tr>\n",
       "            <th>Year</th> <th>MS sum</th>\n",
       "        </tr>\n",
       "    </thead>\n",
       "    <tbody>\n",
       "    </tbody>\n",
       "</table>"
      ],
      "text/plain": [
       "Year | MS sum"
      ]
     },
     "execution_count": 65,
     "metadata": {},
     "output_type": "execute_result"
    }
   ],
   "source": [
    "#Q2:Verify that every year, the total market share of all opened carts for that year adds up to 1.\n",
    "verified=market.group('Year',sum)\n",
    "#verified.row(-6)\n",
    "verified.select('Year','MS sum').where('MS sum',are.not_equal_to(1))"
   ]
  },
  {
   "cell_type": "markdown",
   "metadata": {},
   "source": [
    "By selecting grouped rows w.r.t 'Year' whose market share sum is not 1, none is selected, \n",
    "thus it's verified that every year, the total market share of all opened carts for that year adds up to 1."
   ]
  },
  {
   "cell_type": "code",
   "execution_count": 6,
   "metadata": {},
   "outputs": [
    {
     "data": {
      "text/html": [
       "<table border=\"1\" class=\"dataframe\">\n",
       "    <thead>\n",
       "        <tr>\n",
       "            <th>Year</th> <th>Daily Demand</th>\n",
       "        </tr>\n",
       "    </thead>\n",
       "    <tbody>\n",
       "        <tr>\n",
       "            <td>1990</td> <td>100         </td>\n",
       "        </tr>\n",
       "        <tr>\n",
       "            <td>1991</td> <td>110         </td>\n",
       "        </tr>\n",
       "        <tr>\n",
       "            <td>1992</td> <td>120         </td>\n",
       "        </tr>\n",
       "        <tr>\n",
       "            <td>1993</td> <td>130         </td>\n",
       "        </tr>\n",
       "        <tr>\n",
       "            <td>1994</td> <td>140         </td>\n",
       "        </tr>\n",
       "        <tr>\n",
       "            <td>1995</td> <td>150         </td>\n",
       "        </tr>\n",
       "        <tr>\n",
       "            <td>1996</td> <td>160         </td>\n",
       "        </tr>\n",
       "        <tr>\n",
       "            <td>1997</td> <td>170         </td>\n",
       "        </tr>\n",
       "        <tr>\n",
       "            <td>1998</td> <td>180         </td>\n",
       "        </tr>\n",
       "        <tr>\n",
       "            <td>1999</td> <td>190         </td>\n",
       "        </tr>\n",
       "    </tbody>\n",
       "</table>\n",
       "<p>... (11 rows omitted)</p>"
      ],
      "text/plain": [
       "Year | Daily Demand\n",
       "1990 | 100\n",
       "1991 | 110\n",
       "1992 | 120\n",
       "1993 | 130\n",
       "1994 | 140\n",
       "1995 | 150\n",
       "1996 | 160\n",
       "1997 | 170\n",
       "1998 | 180\n",
       "1999 | 190\n",
       "... (11 rows omitted)"
      ]
     },
     "execution_count": 6,
     "metadata": {},
     "output_type": "execute_result"
    }
   ],
   "source": [
    "#Q3: Create a new table which gives the annual customer demand for burritos in the neighborhood where the carts stand.\n",
    "\n",
    "#get year\n",
    "demand=verified.select('Year')\n",
    "year=list(demand.column(0))\n",
    "#compute daily demand\n",
    "daily_demand=np.array([100+10*i for i in range(len(year))])\n",
    "demand=demand.with_column('Daily Demand',daily_demand)\n",
    "demand"
   ]
  },
  {
   "cell_type": "markdown",
   "metadata": {},
   "source": [
    "Q4. Assume that Mr. A and Mr. B sell their burritos for  4,𝑤ℎ𝑖𝑙𝑒𝑡ℎ𝑒𝑜𝑡ℎ𝑒𝑟𝑐𝑎𝑟𝑡𝑠𝑜𝑓𝑓𝑒𝑟𝑡ℎ𝑒𝑖𝑟𝑏𝑢𝑟𝑟𝑖𝑡𝑜𝑠𝑓𝑜𝑟𝑜𝑛𝑙𝑦 3. Using the market share and demand data, calculate the annual profit for each cart, where profit is (revenue - cost) and the table below shows how much it costs each of the cart owners to make a burrito. Do all necessary calculations, but your final table should have 3 columns with the following labels: Year, Cart and Annual Profit\n",
    "\n",
    "Cart\tCost\n",
    "A\t2\n",
    "B\t2.5\n",
    "C\t1.5\n",
    "D\t1.8\n",
    "E\t1.3\n"
   ]
  },
  {
   "cell_type": "code",
   "execution_count": 7,
   "metadata": {},
   "outputs": [
    {
     "data": {
      "text/html": [
       "<table border=\"1\" class=\"dataframe\">\n",
       "    <thead>\n",
       "        <tr>\n",
       "            <th>Cart</th> <th>Cost</th> <th>Price</th> <th>per profit</th>\n",
       "        </tr>\n",
       "    </thead>\n",
       "    <tbody>\n",
       "        <tr>\n",
       "            <td>A   </td> <td>2   </td> <td>4    </td> <td>2         </td>\n",
       "        </tr>\n",
       "        <tr>\n",
       "            <td>B   </td> <td>2.5 </td> <td>4    </td> <td>1.5       </td>\n",
       "        </tr>\n",
       "        <tr>\n",
       "            <td>C   </td> <td>1.5 </td> <td>3    </td> <td>1.5       </td>\n",
       "        </tr>\n",
       "        <tr>\n",
       "            <td>D   </td> <td>1.8 </td> <td>3    </td> <td>1.2       </td>\n",
       "        </tr>\n",
       "        <tr>\n",
       "            <td>E   </td> <td>1.3 </td> <td>3    </td> <td>1.7       </td>\n",
       "        </tr>\n",
       "    </tbody>\n",
       "</table>"
      ],
      "text/plain": [
       "Cart | Cost | Price | per profit\n",
       "A    | 2    | 4     | 2\n",
       "B    | 2.5  | 4     | 1.5\n",
       "C    | 1.5  | 3     | 1.5\n",
       "D    | 1.8  | 3     | 1.2\n",
       "E    | 1.3  | 3     | 1.7"
      ]
     },
     "execution_count": 7,
     "metadata": {},
     "output_type": "execute_result"
    }
   ],
   "source": [
    "#calculate profit per burrito\n",
    "cost=Table().with_column('Cart',make_array('A','B','C','D','E'),'Cost',make_array(2,2.5,1.5,1.8,1.3),'Price',make_array(4,4,3,3,3))\n",
    "cost=cost.with_column('per profit',cost.column('Price')-cost.column('Cost'))\n",
    "cost"
   ]
  },
  {
   "cell_type": "code",
   "execution_count": 8,
   "metadata": {},
   "outputs": [
    {
     "data": {
      "text/html": [
       "<table border=\"1\" class=\"dataframe\">\n",
       "    <thead>\n",
       "        <tr>\n",
       "            <th>Cart</th> <th>Year</th> <th>MS</th> <th>Daily Demand</th> <th>Cost</th> <th>Price</th> <th>per profit</th> <th>Annual Profit</th>\n",
       "        </tr>\n",
       "    </thead>\n",
       "    <tbody>\n",
       "        <tr>\n",
       "            <td>A   </td> <td>1990</td> <td>1   </td> <td>100         </td> <td>2   </td> <td>4    </td> <td>2         </td> <td>200          </td>\n",
       "        </tr>\n",
       "        <tr>\n",
       "            <td>A   </td> <td>1991</td> <td>1   </td> <td>110         </td> <td>2   </td> <td>4    </td> <td>2         </td> <td>220          </td>\n",
       "        </tr>\n",
       "        <tr>\n",
       "            <td>A   </td> <td>1992</td> <td>1   </td> <td>120         </td> <td>2   </td> <td>4    </td> <td>2         </td> <td>240          </td>\n",
       "        </tr>\n",
       "        <tr>\n",
       "            <td>A   </td> <td>1993</td> <td>1   </td> <td>130         </td> <td>2   </td> <td>4    </td> <td>2         </td> <td>260          </td>\n",
       "        </tr>\n",
       "        <tr>\n",
       "            <td>A   </td> <td>1994</td> <td>0.8 </td> <td>140         </td> <td>2   </td> <td>4    </td> <td>2         </td> <td>224          </td>\n",
       "        </tr>\n",
       "        <tr>\n",
       "            <td>A   </td> <td>1995</td> <td>0.5 </td> <td>150         </td> <td>2   </td> <td>4    </td> <td>2         </td> <td>150          </td>\n",
       "        </tr>\n",
       "        <tr>\n",
       "            <td>A   </td> <td>1996</td> <td>0.4 </td> <td>160         </td> <td>2   </td> <td>4    </td> <td>2         </td> <td>128          </td>\n",
       "        </tr>\n",
       "        <tr>\n",
       "            <td>A   </td> <td>1997</td> <td>0.4 </td> <td>170         </td> <td>2   </td> <td>4    </td> <td>2         </td> <td>136          </td>\n",
       "        </tr>\n",
       "        <tr>\n",
       "            <td>A   </td> <td>1998</td> <td>0.4 </td> <td>180         </td> <td>2   </td> <td>4    </td> <td>2         </td> <td>144          </td>\n",
       "        </tr>\n",
       "        <tr>\n",
       "            <td>A   </td> <td>1999</td> <td>0.4 </td> <td>190         </td> <td>2   </td> <td>4    </td> <td>2         </td> <td>152          </td>\n",
       "        </tr>\n",
       "    </tbody>\n",
       "</table>\n",
       "<p>... (53 rows omitted)</p>"
      ],
      "text/plain": [
       "Cart | Year | MS   | Daily Demand | Cost | Price | per profit | Annual Profit\n",
       "A    | 1990 | 1    | 100          | 2    | 4     | 2          | 200\n",
       "A    | 1991 | 1    | 110          | 2    | 4     | 2          | 220\n",
       "A    | 1992 | 1    | 120          | 2    | 4     | 2          | 240\n",
       "A    | 1993 | 1    | 130          | 2    | 4     | 2          | 260\n",
       "A    | 1994 | 0.8  | 140          | 2    | 4     | 2          | 224\n",
       "A    | 1995 | 0.5  | 150          | 2    | 4     | 2          | 150\n",
       "A    | 1996 | 0.4  | 160          | 2    | 4     | 2          | 128\n",
       "A    | 1997 | 0.4  | 170          | 2    | 4     | 2          | 136\n",
       "A    | 1998 | 0.4  | 180          | 2    | 4     | 2          | 144\n",
       "A    | 1999 | 0.4  | 190          | 2    | 4     | 2          | 152\n",
       "... (53 rows omitted)"
      ]
     },
     "execution_count": 8,
     "metadata": {},
     "output_type": "execute_result"
    }
   ],
   "source": [
    "#profit=demand*marketshare*per_profit\n",
    "combined=market.join('Year',demand).join('Cart',cost)\n",
    "combined=combined.with_column('Annual Profit',combined.column('Daily Demand')*combined.column('MS')*combined.column('per profit'))\n",
    "combined"
   ]
  },
  {
   "cell_type": "code",
   "execution_count": 9,
   "metadata": {},
   "outputs": [
    {
     "data": {
      "text/html": [
       "<table border=\"1\" class=\"dataframe\">\n",
       "    <thead>\n",
       "        <tr>\n",
       "            <th>Year</th> <th>Cart</th> <th>Annual Profit</th>\n",
       "        </tr>\n",
       "    </thead>\n",
       "    <tbody>\n",
       "        <tr>\n",
       "            <td>1990</td> <td>A   </td> <td>200          </td>\n",
       "        </tr>\n",
       "        <tr>\n",
       "            <td>1991</td> <td>A   </td> <td>220          </td>\n",
       "        </tr>\n",
       "        <tr>\n",
       "            <td>1992</td> <td>A   </td> <td>240          </td>\n",
       "        </tr>\n",
       "        <tr>\n",
       "            <td>1993</td> <td>A   </td> <td>260          </td>\n",
       "        </tr>\n",
       "        <tr>\n",
       "            <td>1994</td> <td>A   </td> <td>224          </td>\n",
       "        </tr>\n",
       "        <tr>\n",
       "            <td>1995</td> <td>A   </td> <td>150          </td>\n",
       "        </tr>\n",
       "        <tr>\n",
       "            <td>1996</td> <td>A   </td> <td>128          </td>\n",
       "        </tr>\n",
       "        <tr>\n",
       "            <td>1997</td> <td>A   </td> <td>136          </td>\n",
       "        </tr>\n",
       "        <tr>\n",
       "            <td>1998</td> <td>A   </td> <td>144          </td>\n",
       "        </tr>\n",
       "        <tr>\n",
       "            <td>1999</td> <td>A   </td> <td>152          </td>\n",
       "        </tr>\n",
       "    </tbody>\n",
       "</table>\n",
       "<p>... (53 rows omitted)</p>"
      ],
      "text/plain": [
       "Year | Cart | Annual Profit\n",
       "1990 | A    | 200\n",
       "1991 | A    | 220\n",
       "1992 | A    | 240\n",
       "1993 | A    | 260\n",
       "1994 | A    | 224\n",
       "1995 | A    | 150\n",
       "1996 | A    | 128\n",
       "1997 | A    | 136\n",
       "1998 | A    | 144\n",
       "1999 | A    | 152\n",
       "... (53 rows omitted)"
      ]
     },
     "execution_count": 9,
     "metadata": {},
     "output_type": "execute_result"
    }
   ],
   "source": [
    "annual_profit=combined.select('Year','Cart','Annual Profit')\n",
    "annual_profit"
   ]
  },
  {
   "cell_type": "code",
   "execution_count": 10,
   "metadata": {},
   "outputs": [
    {
     "data": {
      "text/html": [
       "<table border=\"1\" class=\"dataframe\">\n",
       "    <thead>\n",
       "        <tr>\n",
       "            <th>Cart</th> <th>Annual Profit</th>\n",
       "        </tr>\n",
       "    </thead>\n",
       "    <tbody>\n",
       "        <tr>\n",
       "            <td>A   </td> <td>260          </td>\n",
       "        </tr>\n",
       "    </tbody>\n",
       "</table>"
      ],
      "text/plain": [
       "Cart | Annual Profit\n",
       "A    | 260"
      ]
     },
     "execution_count": 10,
     "metadata": {},
     "output_type": "execute_result"
    }
   ],
   "source": [
    "#Q5. Which cart was able to generate the highest annual profit?\n",
    "annual_profit.select('Cart','Annual Profit').sort('Annual Profit',descending=True).take(0)"
   ]
  },
  {
   "cell_type": "code",
   "execution_count": 11,
   "metadata": {},
   "outputs": [
    {
     "data": {
      "text/html": [
       "<table border=\"1\" class=\"dataframe\">\n",
       "    <thead>\n",
       "        <tr>\n",
       "            <th>Cart</th> <th>Year</th> <th>MS</th> <th>Daily Demand</th> <th>Cost</th> <th>Price</th> <th>per profit</th> <th>Annual Profit</th> <th>Annual Revenue</th>\n",
       "        </tr>\n",
       "    </thead>\n",
       "    <tbody>\n",
       "        <tr>\n",
       "            <td>A   </td> <td>1990</td> <td>1   </td> <td>100         </td> <td>2   </td> <td>4    </td> <td>2         </td> <td>200          </td> <td>400           </td>\n",
       "        </tr>\n",
       "        <tr>\n",
       "            <td>A   </td> <td>1991</td> <td>1   </td> <td>110         </td> <td>2   </td> <td>4    </td> <td>2         </td> <td>220          </td> <td>440           </td>\n",
       "        </tr>\n",
       "        <tr>\n",
       "            <td>A   </td> <td>1992</td> <td>1   </td> <td>120         </td> <td>2   </td> <td>4    </td> <td>2         </td> <td>240          </td> <td>480           </td>\n",
       "        </tr>\n",
       "        <tr>\n",
       "            <td>A   </td> <td>1993</td> <td>1   </td> <td>130         </td> <td>2   </td> <td>4    </td> <td>2         </td> <td>260          </td> <td>520           </td>\n",
       "        </tr>\n",
       "        <tr>\n",
       "            <td>A   </td> <td>1994</td> <td>0.8 </td> <td>140         </td> <td>2   </td> <td>4    </td> <td>2         </td> <td>224          </td> <td>448           </td>\n",
       "        </tr>\n",
       "        <tr>\n",
       "            <td>A   </td> <td>1995</td> <td>0.5 </td> <td>150         </td> <td>2   </td> <td>4    </td> <td>2         </td> <td>150          </td> <td>300           </td>\n",
       "        </tr>\n",
       "        <tr>\n",
       "            <td>A   </td> <td>1996</td> <td>0.4 </td> <td>160         </td> <td>2   </td> <td>4    </td> <td>2         </td> <td>128          </td> <td>256           </td>\n",
       "        </tr>\n",
       "        <tr>\n",
       "            <td>A   </td> <td>1997</td> <td>0.4 </td> <td>170         </td> <td>2   </td> <td>4    </td> <td>2         </td> <td>136          </td> <td>272           </td>\n",
       "        </tr>\n",
       "        <tr>\n",
       "            <td>A   </td> <td>1998</td> <td>0.4 </td> <td>180         </td> <td>2   </td> <td>4    </td> <td>2         </td> <td>144          </td> <td>288           </td>\n",
       "        </tr>\n",
       "        <tr>\n",
       "            <td>A   </td> <td>1999</td> <td>0.4 </td> <td>190         </td> <td>2   </td> <td>4    </td> <td>2         </td> <td>152          </td> <td>304           </td>\n",
       "        </tr>\n",
       "    </tbody>\n",
       "</table>\n",
       "<p>... (53 rows omitted)</p>"
      ],
      "text/plain": [
       "Cart | Year | MS   | Daily Demand | Cost | Price | per profit | Annual Profit | Annual Revenue\n",
       "A    | 1990 | 1    | 100          | 2    | 4     | 2          | 200           | 400\n",
       "A    | 1991 | 1    | 110          | 2    | 4     | 2          | 220           | 440\n",
       "A    | 1992 | 1    | 120          | 2    | 4     | 2          | 240           | 480\n",
       "A    | 1993 | 1    | 130          | 2    | 4     | 2          | 260           | 520\n",
       "A    | 1994 | 0.8  | 140          | 2    | 4     | 2          | 224           | 448\n",
       "A    | 1995 | 0.5  | 150          | 2    | 4     | 2          | 150           | 300\n",
       "A    | 1996 | 0.4  | 160          | 2    | 4     | 2          | 128           | 256\n",
       "A    | 1997 | 0.4  | 170          | 2    | 4     | 2          | 136           | 272\n",
       "A    | 1998 | 0.4  | 180          | 2    | 4     | 2          | 144           | 288\n",
       "A    | 1999 | 0.4  | 190          | 2    | 4     | 2          | 152           | 304\n",
       "... (53 rows omitted)"
      ]
     },
     "execution_count": 11,
     "metadata": {},
     "output_type": "execute_result"
    }
   ],
   "source": [
    "#Q6. Which cart was able to generate the highest average annual revenue?\n",
    "#compute annual revenue\n",
    "combined=combined.with_column('Annual Revenue',combined.column('Price')*combined.column('Daily Demand')*combined.column('MS'))\n",
    "combined"
   ]
  },
  {
   "cell_type": "code",
   "execution_count": 21,
   "metadata": {},
   "outputs": [
    {
     "data": {
      "text/html": [
       "<table border=\"1\" class=\"dataframe\">\n",
       "    <thead>\n",
       "        <tr>\n",
       "            <th>Cart</th> <th>count</th> <th>Year sum</th> <th>MS sum</th> <th>Daily Demand sum</th> <th>Cost sum</th> <th>Price sum</th> <th>per profit sum</th> <th>Annual Profit sum</th> <th>Annual Revenue sum</th> <th>Avg Revenue</th>\n",
       "        </tr>\n",
       "    </thead>\n",
       "    <tbody>\n",
       "        <tr>\n",
       "            <td>A   </td> <td>18   </td> <td>35973   </td> <td>8.1   </td> <td>3330            </td> <td>36      </td> <td>72       </td> <td>36            </td> <td>2391             </td> <td>4782              </td> <td>265.667    </td>\n",
       "        </tr>\n",
       "        <tr>\n",
       "            <td>B   </td> <td>17   </td> <td>34034   </td> <td>7.1   </td> <td>3740            </td> <td>42.5    </td> <td>68       </td> <td>25.5          </td> <td>2268.75          </td> <td>6050              </td> <td>355.882    </td>\n",
       "        </tr>\n",
       "        <tr>\n",
       "            <td>C   </td> <td>11   </td> <td>22055   </td> <td>2.37  </td> <td>2750            </td> <td>16.5    </td> <td>33       </td> <td>16.5          </td> <td>891.75           </td> <td>1783.5            </td> <td>162.136    </td>\n",
       "        </tr>\n",
       "        <tr>\n",
       "            <td>D   </td> <td>11   </td> <td>22055   </td> <td>2.23  </td> <td>2750            </td> <td>19.8    </td> <td>33       </td> <td>13.2          </td> <td>676.8            </td> <td>1692              </td> <td>153.818    </td>\n",
       "        </tr>\n",
       "        <tr>\n",
       "            <td>E   </td> <td>6    </td> <td>12045   </td> <td>1.2   </td> <td>1650            </td> <td>7.8     </td> <td>18       </td> <td>10.2          </td> <td>566.95           </td> <td>1000.5            </td> <td>166.75     </td>\n",
       "        </tr>\n",
       "    </tbody>\n",
       "</table>"
      ],
      "text/plain": [
       "Cart | count | Year sum | MS sum | Daily Demand sum | Cost sum | Price sum | per profit sum | Annual Profit sum | Annual Revenue sum | Avg Revenue\n",
       "A    | 18    | 35973    | 8.1    | 3330             | 36       | 72        | 36             | 2391              | 4782               | 265.667\n",
       "B    | 17    | 34034    | 7.1    | 3740             | 42.5     | 68        | 25.5           | 2268.75           | 6050               | 355.882\n",
       "C    | 11    | 22055    | 2.37   | 2750             | 16.5     | 33        | 16.5           | 891.75            | 1783.5             | 162.136\n",
       "D    | 11    | 22055    | 2.23   | 2750             | 19.8     | 33        | 13.2           | 676.8             | 1692               | 153.818\n",
       "E    | 6     | 12045    | 1.2    | 1650             | 7.8      | 18        | 10.2           | 566.95            | 1000.5             | 166.75"
      ]
     },
     "execution_count": 21,
     "metadata": {},
     "output_type": "execute_result"
    }
   ],
   "source": [
    "#Count num of year of each cart and total profit using group\n",
    "annual_profit_sum=combined.group('Cart',sum)\n",
    "year_count=combined.group('Cart')\n",
    "#join everything\n",
    "avg_annual=year_count.join('Cart',annual_profit_sum)\n",
    "avg_annual=avg_annual.with_column('Avg Revenue',avg_annual.column('Annual Revenue sum')/avg_annual.column('count'))\n",
    "avg_annual\n"
   ]
  },
  {
   "cell_type": "code",
   "execution_count": 22,
   "metadata": {},
   "outputs": [
    {
     "data": {
      "text/html": [
       "<table border=\"1\" class=\"dataframe\">\n",
       "    <thead>\n",
       "        <tr>\n",
       "            <th>Cart</th> <th>Avg Revenue</th>\n",
       "        </tr>\n",
       "    </thead>\n",
       "    <tbody>\n",
       "        <tr>\n",
       "            <td>B   </td> <td>355.882    </td>\n",
       "        </tr>\n",
       "    </tbody>\n",
       "</table>"
      ],
      "text/plain": [
       "Cart | Avg Revenue\n",
       "B    | 355.882"
      ]
     },
     "execution_count": 22,
     "metadata": {},
     "output_type": "execute_result"
    }
   ],
   "source": [
    "avg_annual=avg_annual.drop(np.arange(1,10))\n",
    "hi_avg_annual=avg_annual.sort('Avg Revenue', descending=True).take(0)\n",
    "hi_avg_annual"
   ]
  },
  {
   "cell_type": "code",
   "execution_count": 30,
   "metadata": {},
   "outputs": [
    {
     "data": {
      "image/png": "[encoded data removed]",
      "text/plain": [
       "<Figure size 432x288 with 1 Axes>"
      ]
     },
     "metadata": {
      "needs_background": "light"
     },
     "output_type": "display_data"
    }
   ],
   "source": [
    "#Q7. If you were the owner of cart A, would you have shut down the business? Explain your answer using the data.\n",
    "\n",
    "#Draw annual profit plot\n",
    "a_profit=combined.select('Cart','Year','Annual Profit').where('Cart',are.equal_to('A'))\n",
    "b_profit=combined.select('Cart','Year','Annual Profit').where('Cart',are.equal_to('B'))\n",
    "c_profit=combined.select('Cart','Year','Annual Profit').where('Cart',are.equal_to('C'))\n",
    "d_profit=combined.select('Cart','Year','Annual Profit').where('Cart',are.equal_to('D'))\n",
    "e_profit=combined.select('Cart','Year','Annual Profit').where('Cart',are.equal_to('E'))\n",
    "plt.plot(a_profit.column('Year'),a_profit.column('Annual Profit'), label='A')\n",
    "plt.plot(b_profit.column('Year'),b_profit.column('Annual Profit'), label='B')\n",
    "plt.plot(c_profit.column('Year'),c_profit.column('Annual Profit'), label='C')\n",
    "plt.plot(d_profit.column('Year'),d_profit.column('Annual Profit'), label='D')\n",
    "plt.plot(e_profit.column('Year'),e_profit.column('Annual Profit'), label='E')\n",
    "plt.legend()\n",
    "plt.show()"
   ]
  },
  {
   "cell_type": "markdown",
   "metadata": {},
   "source": [
    "Based on the annual profit plot above, we can tell that A's annual profit is dropping significantly, \n",
    "and has been so low that I think I would shut down the business if I were him."
   ]
  },
  {
   "cell_type": "code",
   "execution_count": 33,
   "metadata": {},
   "outputs": [
    {
     "data": {
      "text/html": [
       "<table border=\"1\" class=\"dataframe\">\n",
       "    <thead>\n",
       "        <tr>\n",
       "            <th>Cart</th> <th>Year</th> <th>Annual Profit</th>\n",
       "        </tr>\n",
       "    </thead>\n",
       "    <tbody>\n",
       "        <tr>\n",
       "            <td>E   </td> <td>2009</td> <td>123.25       </td>\n",
       "        </tr>\n",
       "    </tbody>\n",
       "</table>"
      ],
      "text/plain": [
       "Cart | Year | Annual Profit\n",
       "E    | 2009 | 123.25"
      ]
     },
     "execution_count": 33,
     "metadata": {},
     "output_type": "execute_result"
    }
   ],
   "source": [
    "#Q8. In which year did Cart E make the most profit?\n",
    "#e_profit=combined.select('Cart','Year','Annual Profit').where('Cart',are.equal_to('E')).sort('Annual Profit',descending=True).take(0)\n",
    "e_profit.sort('Annual Profit',descending=True).take(0)"
   ]
  },
  {
   "cell_type": "code",
   "execution_count": 50,
   "metadata": {},
   "outputs": [
    {
     "data": {
      "text/html": [
       "<div>\n",
       "<style scoped>\n",
       "    .dataframe tbody tr th:only-of-type {\n",
       "        vertical-align: middle;\n",
       "    }\n",
       "\n",
       "    .dataframe tbody tr th {\n",
       "        vertical-align: top;\n",
       "    }\n",
       "\n",
       "    .dataframe thead th {\n",
       "        text-align: right;\n",
       "    }\n",
       "</style>\n",
       "<table border=\"1\" class=\"dataframe\">\n",
       "  <thead>\n",
       "    <tr style=\"text-align: right;\">\n",
       "      <th></th>\n",
       "      <th>Year</th>\n",
       "      <th>A</th>\n",
       "      <th>B</th>\n",
       "      <th>C</th>\n",
       "      <th>D</th>\n",
       "      <th>E</th>\n",
       "    </tr>\n",
       "  </thead>\n",
       "  <tbody>\n",
       "    <tr>\n",
       "      <th>0</th>\n",
       "      <td>1990</td>\n",
       "      <td>200.0</td>\n",
       "      <td>NaN</td>\n",
       "      <td>NaN</td>\n",
       "      <td>NaN</td>\n",
       "      <td>NaN</td>\n",
       "    </tr>\n",
       "    <tr>\n",
       "      <th>1</th>\n",
       "      <td>1991</td>\n",
       "      <td>220.0</td>\n",
       "      <td>NaN</td>\n",
       "      <td>NaN</td>\n",
       "      <td>NaN</td>\n",
       "      <td>NaN</td>\n",
       "    </tr>\n",
       "    <tr>\n",
       "      <th>2</th>\n",
       "      <td>1992</td>\n",
       "      <td>240.0</td>\n",
       "      <td>NaN</td>\n",
       "      <td>NaN</td>\n",
       "      <td>NaN</td>\n",
       "      <td>NaN</td>\n",
       "    </tr>\n",
       "    <tr>\n",
       "      <th>3</th>\n",
       "      <td>1993</td>\n",
       "      <td>260.0</td>\n",
       "      <td>NaN</td>\n",
       "      <td>NaN</td>\n",
       "      <td>NaN</td>\n",
       "      <td>NaN</td>\n",
       "    </tr>\n",
       "    <tr>\n",
       "      <th>4</th>\n",
       "      <td>1994</td>\n",
       "      <td>224.0</td>\n",
       "      <td>42.00</td>\n",
       "      <td>NaN</td>\n",
       "      <td>NaN</td>\n",
       "      <td>NaN</td>\n",
       "    </tr>\n",
       "    <tr>\n",
       "      <th>5</th>\n",
       "      <td>1995</td>\n",
       "      <td>150.0</td>\n",
       "      <td>112.50</td>\n",
       "      <td>NaN</td>\n",
       "      <td>NaN</td>\n",
       "      <td>NaN</td>\n",
       "    </tr>\n",
       "    <tr>\n",
       "      <th>6</th>\n",
       "      <td>1996</td>\n",
       "      <td>128.0</td>\n",
       "      <td>144.00</td>\n",
       "      <td>NaN</td>\n",
       "      <td>NaN</td>\n",
       "      <td>NaN</td>\n",
       "    </tr>\n",
       "    <tr>\n",
       "      <th>7</th>\n",
       "      <td>1997</td>\n",
       "      <td>136.0</td>\n",
       "      <td>153.00</td>\n",
       "      <td>NaN</td>\n",
       "      <td>NaN</td>\n",
       "      <td>NaN</td>\n",
       "    </tr>\n",
       "    <tr>\n",
       "      <th>8</th>\n",
       "      <td>1998</td>\n",
       "      <td>144.0</td>\n",
       "      <td>162.00</td>\n",
       "      <td>NaN</td>\n",
       "      <td>NaN</td>\n",
       "      <td>NaN</td>\n",
       "    </tr>\n",
       "    <tr>\n",
       "      <th>9</th>\n",
       "      <td>1999</td>\n",
       "      <td>152.0</td>\n",
       "      <td>171.00</td>\n",
       "      <td>NaN</td>\n",
       "      <td>NaN</td>\n",
       "      <td>NaN</td>\n",
       "    </tr>\n",
       "    <tr>\n",
       "      <th>10</th>\n",
       "      <td>2000</td>\n",
       "      <td>100.0</td>\n",
       "      <td>120.00</td>\n",
       "      <td>60.00</td>\n",
       "      <td>36.0</td>\n",
       "      <td>NaN</td>\n",
       "    </tr>\n",
       "    <tr>\n",
       "      <th>11</th>\n",
       "      <td>2001</td>\n",
       "      <td>105.0</td>\n",
       "      <td>110.25</td>\n",
       "      <td>63.00</td>\n",
       "      <td>50.4</td>\n",
       "      <td>NaN</td>\n",
       "    </tr>\n",
       "    <tr>\n",
       "      <th>12</th>\n",
       "      <td>2002</td>\n",
       "      <td>110.0</td>\n",
       "      <td>132.00</td>\n",
       "      <td>66.00</td>\n",
       "      <td>39.6</td>\n",
       "      <td>NaN</td>\n",
       "    </tr>\n",
       "    <tr>\n",
       "      <th>13</th>\n",
       "      <td>2003</td>\n",
       "      <td>46.0</td>\n",
       "      <td>172.50</td>\n",
       "      <td>69.00</td>\n",
       "      <td>55.2</td>\n",
       "      <td>NaN</td>\n",
       "    </tr>\n",
       "    <tr>\n",
       "      <th>14</th>\n",
       "      <td>2004</td>\n",
       "      <td>48.0</td>\n",
       "      <td>144.00</td>\n",
       "      <td>90.00</td>\n",
       "      <td>72.0</td>\n",
       "      <td>NaN</td>\n",
       "    </tr>\n",
       "    <tr>\n",
       "      <th>15</th>\n",
       "      <td>2005</td>\n",
       "      <td>75.0</td>\n",
       "      <td>131.25</td>\n",
       "      <td>75.00</td>\n",
       "      <td>60.0</td>\n",
       "      <td>42.50</td>\n",
       "    </tr>\n",
       "    <tr>\n",
       "      <th>16</th>\n",
       "      <td>2006</td>\n",
       "      <td>26.0</td>\n",
       "      <td>117.00</td>\n",
       "      <td>97.50</td>\n",
       "      <td>62.4</td>\n",
       "      <td>88.40</td>\n",
       "    </tr>\n",
       "    <tr>\n",
       "      <th>17</th>\n",
       "      <td>2007</td>\n",
       "      <td>27.0</td>\n",
       "      <td>121.50</td>\n",
       "      <td>101.25</td>\n",
       "      <td>64.8</td>\n",
       "      <td>91.80</td>\n",
       "    </tr>\n",
       "    <tr>\n",
       "      <th>18</th>\n",
       "      <td>2008</td>\n",
       "      <td>NaN</td>\n",
       "      <td>126.00</td>\n",
       "      <td>84.00</td>\n",
       "      <td>84.0</td>\n",
       "      <td>119.00</td>\n",
       "    </tr>\n",
       "    <tr>\n",
       "      <th>19</th>\n",
       "      <td>2009</td>\n",
       "      <td>NaN</td>\n",
       "      <td>152.25</td>\n",
       "      <td>87.00</td>\n",
       "      <td>69.6</td>\n",
       "      <td>123.25</td>\n",
       "    </tr>\n",
       "    <tr>\n",
       "      <th>20</th>\n",
       "      <td>2010</td>\n",
       "      <td>NaN</td>\n",
       "      <td>157.50</td>\n",
       "      <td>99.00</td>\n",
       "      <td>82.8</td>\n",
       "      <td>102.00</td>\n",
       "    </tr>\n",
       "  </tbody>\n",
       "</table>\n",
       "</div>"
      ],
      "text/plain": [
       "    Year      A       B       C     D       E\n",
       "0   1990  200.0     NaN     NaN   NaN     NaN\n",
       "1   1991  220.0     NaN     NaN   NaN     NaN\n",
       "2   1992  240.0     NaN     NaN   NaN     NaN\n",
       "3   1993  260.0     NaN     NaN   NaN     NaN\n",
       "4   1994  224.0   42.00     NaN   NaN     NaN\n",
       "5   1995  150.0  112.50     NaN   NaN     NaN\n",
       "6   1996  128.0  144.00     NaN   NaN     NaN\n",
       "7   1997  136.0  153.00     NaN   NaN     NaN\n",
       "8   1998  144.0  162.00     NaN   NaN     NaN\n",
       "9   1999  152.0  171.00     NaN   NaN     NaN\n",
       "10  2000  100.0  120.00   60.00  36.0     NaN\n",
       "11  2001  105.0  110.25   63.00  50.4     NaN\n",
       "12  2002  110.0  132.00   66.00  39.6     NaN\n",
       "13  2003   46.0  172.50   69.00  55.2     NaN\n",
       "14  2004   48.0  144.00   90.00  72.0     NaN\n",
       "15  2005   75.0  131.25   75.00  60.0   42.50\n",
       "16  2006   26.0  117.00   97.50  62.4   88.40\n",
       "17  2007   27.0  121.50  101.25  64.8   91.80\n",
       "18  2008    NaN  126.00   84.00  84.0  119.00\n",
       "19  2009    NaN  152.25   87.00  69.6  123.25\n",
       "20  2010    NaN  157.50   99.00  82.8  102.00"
      ]
     },
     "execution_count": 50,
     "metadata": {},
     "output_type": "execute_result"
    }
   ],
   "source": [
    "#Q9. Create a matrix that shows the annual profits of each cart. Each row is a year,\n",
    "#while each column represents a cart and the cell entry holds the annual profit.\n",
    "\n",
    "#use pandas for left outer join\n",
    "demand_df=demand.to_df()\n",
    "a_profit_df=a_profit.relabeled('Annual Profit','A').to_df()\n",
    "b_profit_df=b_profit.relabeled('Annual Profit','B').to_df()\n",
    "c_profit_df=c_profit.relabeled('Annual Profit','C').to_df()\n",
    "d_profit_df=d_profit.relabeled('Annual Profit','D').to_df()\n",
    "e_profit_df=e_profit.relabeled('Annual Profit','E').to_df()\n",
    "result = pd.merge(demand_df['Year'],a_profit_df[['Year', 'A']],on='Year', how='left')\n",
    "result = pd.merge(result[['Year','A']],b_profit_df[['Year', 'B']],on='Year', how='left')\n",
    "result = pd.merge(result[['Year','A','B']],c_profit_df[['Year', 'C']],on='Year', how='left')\n",
    "result = pd.merge(result[['Year','A','B','C']],d_profit_df[['Year', 'D']],on='Year', how='left')\n",
    "result = pd.merge(result[['Year','A','B','C','D']],e_profit_df[['Year', 'E']],on='Year', how='left')\n",
    "result"
   ]
  },
  {
   "cell_type": "markdown",
   "metadata": {},
   "source": [
    "# Unemployment "
   ]
  },
  {
   "cell_type": "markdown",
   "metadata": {},
   "source": [
    "The Federal Reserve Bank of St. Louis publishes data about jobs in the US. Load the file `unemployment.csv` for data on unemployment in the United States. There are many ways of defining unemployment, and our dataset includes two notions of the unemployment rate. Among people who are able to work and are looking for a full-time job:\n",
    "\n",
    "1. NEI is the percentage who can't find a job (Non-Employment Index).\n",
    "2. PTER is the percentage of those are only working at a part-time job ( Part-Time for Economic Reasons). \n",
    "\n",
    "Our data has a column for NEI and a columnd for NEI-PTER, which is the combined percentage of both groups. "
   ]
  },
  {
   "cell_type": "markdown",
   "metadata": {},
   "source": [
    "Q1. Create a table which containts data for the top 10 quarters, where the Non-Employment Index was highest."
   ]
  },
  {
   "cell_type": "markdown",
   "metadata": {},
   "source": [
    "Q2. Create a table which only contains information for Years 2000-2005."
   ]
  },
  {
   "cell_type": "markdown",
   "metadata": {},
   "source": [
    "Q3. It is believed that many people became PTER in the \"Great Recession\" of 2008-2009 and so the PTER became very high during those quarters. Does the data show reasonable evidence for such assumption? Explain your answer."
   ]
  },
  {
   "cell_type": "code",
   "execution_count": 53,
   "metadata": {},
   "outputs": [
    {
     "data": {
      "text/html": [
       "<table border=\"1\" class=\"dataframe\">\n",
       "    <thead>\n",
       "        <tr>\n",
       "            <th>Date</th> <th>NEI</th> <th>NEI-PTER</th>\n",
       "        </tr>\n",
       "    </thead>\n",
       "    <tbody>\n",
       "        <tr>\n",
       "            <td>1994-01-01</td> <td>10.0974</td> <td>11.172  </td>\n",
       "        </tr>\n",
       "        <tr>\n",
       "            <td>1994-04-01</td> <td>9.6239 </td> <td>10.7883 </td>\n",
       "        </tr>\n",
       "        <tr>\n",
       "            <td>1994-07-01</td> <td>9.3276 </td> <td>10.4831 </td>\n",
       "        </tr>\n",
       "        <tr>\n",
       "            <td>1994-10-01</td> <td>9.1071 </td> <td>10.2361 </td>\n",
       "        </tr>\n",
       "        <tr>\n",
       "            <td>1995-01-01</td> <td>8.9693 </td> <td>10.1832 </td>\n",
       "        </tr>\n",
       "        <tr>\n",
       "            <td>1995-04-01</td> <td>9.0314 </td> <td>10.1071 </td>\n",
       "        </tr>\n",
       "        <tr>\n",
       "            <td>1995-07-01</td> <td>8.9802 </td> <td>10.1084 </td>\n",
       "        </tr>\n",
       "        <tr>\n",
       "            <td>1995-10-01</td> <td>8.9932 </td> <td>10.1046 </td>\n",
       "        </tr>\n",
       "        <tr>\n",
       "            <td>1996-01-01</td> <td>9.0002 </td> <td>10.0531 </td>\n",
       "        </tr>\n",
       "        <tr>\n",
       "            <td>1996-04-01</td> <td>8.9038 </td> <td>9.9782  </td>\n",
       "        </tr>\n",
       "    </tbody>\n",
       "</table>\n",
       "<p>... (80 rows omitted)</p>"
      ],
      "text/plain": [
       "Date       | NEI     | NEI-PTER\n",
       "1994-01-01 | 10.0974 | 11.172\n",
       "1994-04-01 | 9.6239  | 10.7883\n",
       "1994-07-01 | 9.3276  | 10.4831\n",
       "1994-10-01 | 9.1071  | 10.2361\n",
       "1995-01-01 | 8.9693  | 10.1832\n",
       "1995-04-01 | 9.0314  | 10.1071\n",
       "1995-07-01 | 8.9802  | 10.1084\n",
       "1995-10-01 | 8.9932  | 10.1046\n",
       "1996-01-01 | 9.0002  | 10.0531\n",
       "1996-04-01 | 8.9038  | 9.9782\n",
       "... (80 rows omitted)"
      ]
     },
     "execution_count": 53,
     "metadata": {},
     "output_type": "execute_result"
    }
   ],
   "source": [
    "unemploy=Table()\n",
    "unemploy=unemploy.read_table('unemployment.csv')\n",
    "unemploy"
   ]
  },
  {
   "cell_type": "code",
   "execution_count": 60,
   "metadata": {},
   "outputs": [
    {
     "data": {
      "text/html": [
       "<table border=\"1\" class=\"dataframe\">\n",
       "    <thead>\n",
       "        <tr>\n",
       "            <th>Date</th> <th>NEI</th> <th>NEI-PTER</th>\n",
       "        </tr>\n",
       "    </thead>\n",
       "    <tbody>\n",
       "        <tr>\n",
       "            <td>2009-10-01</td> <td>10.9698</td> <td>12.8557 </td>\n",
       "        </tr>\n",
       "        <tr>\n",
       "            <td>2010-01-01</td> <td>10.9054</td> <td>12.7311 </td>\n",
       "        </tr>\n",
       "        <tr>\n",
       "            <td>2009-07-01</td> <td>10.8089</td> <td>12.7404 </td>\n",
       "        </tr>\n",
       "        <tr>\n",
       "            <td>2009-04-01</td> <td>10.7082</td> <td>12.5497 </td>\n",
       "        </tr>\n",
       "        <tr>\n",
       "            <td>2010-04-01</td> <td>10.6597</td> <td>12.5664 </td>\n",
       "        </tr>\n",
       "        <tr>\n",
       "            <td>2010-10-01</td> <td>10.5856</td> <td>12.4329 </td>\n",
       "        </tr>\n",
       "        <tr>\n",
       "            <td>2010-07-01</td> <td>10.5521</td> <td>12.3897 </td>\n",
       "        </tr>\n",
       "        <tr>\n",
       "            <td>2011-01-01</td> <td>10.5024</td> <td>12.3017 </td>\n",
       "        </tr>\n",
       "        <tr>\n",
       "            <td>2011-07-01</td> <td>10.4856</td> <td>12.2507 </td>\n",
       "        </tr>\n",
       "        <tr>\n",
       "            <td>2011-04-01</td> <td>10.4409</td> <td>12.247  </td>\n",
       "        </tr>\n",
       "    </tbody>\n",
       "</table>"
      ],
      "text/plain": [
       "Date       | NEI     | NEI-PTER\n",
       "2009-10-01 | 10.9698 | 12.8557\n",
       "2010-01-01 | 10.9054 | 12.7311\n",
       "2009-07-01 | 10.8089 | 12.7404\n",
       "2009-04-01 | 10.7082 | 12.5497\n",
       "2010-04-01 | 10.6597 | 12.5664\n",
       "2010-10-01 | 10.5856 | 12.4329\n",
       "2010-07-01 | 10.5521 | 12.3897\n",
       "2011-01-01 | 10.5024 | 12.3017\n",
       "2011-07-01 | 10.4856 | 12.2507\n",
       "2011-04-01 | 10.4409 | 12.247"
      ]
     },
     "execution_count": 60,
     "metadata": {},
     "output_type": "execute_result"
    }
   ],
   "source": [
    "#Q1. Create a table which containts data for the top 10 quarters, where the Non-Employment Index was highest.\n",
    "nei_10=unemploy.sort(unemploy.column('NEI'),descending=True).take(np.arange(10))\n",
    "nei_10"
   ]
  },
  {
   "cell_type": "code",
   "execution_count": 75,
   "metadata": {},
   "outputs": [
    {
     "data": {
      "text/html": [
       "<table border=\"1\" class=\"dataframe\">\n",
       "    <thead>\n",
       "        <tr>\n",
       "            <th>Date</th> <th>NEI</th> <th>NEI-PTER</th>\n",
       "        </tr>\n",
       "    </thead>\n",
       "    <tbody>\n",
       "        <tr>\n",
       "            <td>2000-01-01</td> <td>7.6128</td> <td>8.3379  </td>\n",
       "        </tr>\n",
       "        <tr>\n",
       "            <td>2000-04-01</td> <td>7.6754</td> <td>8.4199  </td>\n",
       "        </tr>\n",
       "        <tr>\n",
       "            <td>2000-07-01</td> <td>7.6915</td> <td>8.4458  </td>\n",
       "        </tr>\n",
       "        <tr>\n",
       "            <td>2000-10-01</td> <td>7.6769</td> <td>8.4192  </td>\n",
       "        </tr>\n",
       "        <tr>\n",
       "            <td>2001-01-01</td> <td>7.757 </td> <td>8.4969  </td>\n",
       "        </tr>\n",
       "        <tr>\n",
       "            <td>2001-04-01</td> <td>8.0353</td> <td>8.804   </td>\n",
       "        </tr>\n",
       "        <tr>\n",
       "            <td>2001-07-01</td> <td>8.1444</td> <td>8.9862  </td>\n",
       "        </tr>\n",
       "        <tr>\n",
       "            <td>2001-10-01</td> <td>8.6782</td> <td>9.6705  </td>\n",
       "        </tr>\n",
       "        <tr>\n",
       "            <td>2002-01-01</td> <td>9.0119</td> <td>9.93    </td>\n",
       "        </tr>\n",
       "        <tr>\n",
       "            <td>2002-04-01</td> <td>8.9295</td> <td>9.8924  </td>\n",
       "        </tr>\n",
       "    </tbody>\n",
       "</table>\n",
       "<p>... (14 rows omitted)</p>"
      ],
      "text/plain": [
       "Date       | NEI    | NEI-PTER\n",
       "2000-01-01 | 7.6128 | 8.3379\n",
       "2000-04-01 | 7.6754 | 8.4199\n",
       "2000-07-01 | 7.6915 | 8.4458\n",
       "2000-10-01 | 7.6769 | 8.4192\n",
       "2001-01-01 | 7.757  | 8.4969\n",
       "2001-04-01 | 8.0353 | 8.804\n",
       "2001-07-01 | 8.1444 | 8.9862\n",
       "2001-10-01 | 8.6782 | 9.6705\n",
       "2002-01-01 | 9.0119 | 9.93\n",
       "2002-04-01 | 8.9295 | 9.8924\n",
       "... (14 rows omitted)"
      ]
     },
     "execution_count": 75,
     "metadata": {},
     "output_type": "execute_result"
    }
   ],
   "source": [
    "#Q2. Create a table which only contains information for Years 2000-2005.\n",
    "#year_5=unemploy.where('Date',are.containing('2000') or are.containing('2001') \n",
    "#                      or are.containing('2002') or are.containing('2003')\n",
    "#                     or are.containing('2004') or are.contaning('2005'))\n",
    "\n",
    "#get year from date\n",
    "year=list(unemploy.column('Date'))\n",
    "year=np.array([int(item[:4]) for item in year])\n",
    "\n",
    "#select using where(year) then drop year\n",
    "year_5=unemploy.with_column('year',year)\n",
    "year_5_display=year_5.where('year',are.between(2000,2006)).drop('year')\n",
    "year_5_display"
   ]
  },
  {
   "cell_type": "code",
   "execution_count": 77,
   "metadata": {},
   "outputs": [
    {
     "data": {
      "image/png": "[encoded data removed]",
      "text/plain": [
       "<Figure size 432x288 with 1 Axes>"
      ]
     },
     "metadata": {
      "needs_background": "light"
     },
     "output_type": "display_data"
    }
   ],
   "source": [
    "#Q3. It is believed that many people became PTER in the \"Great Recession\" of 2008-2009 \n",
    "#and so the PTER became very high during those quarters. \n",
    "#Does the data show reasonable evidence for such assumption? Explain your answer.\n",
    "nei_pter=unemploy.column('NEI-PTER')\n",
    "nei=unemploy.column('NEI')\n",
    "plt.plot(year,nei_pter,label='NEI-PTER')\n",
    "plt.plot(year,nei,label='NEI')\n",
    "plt.legend()\n",
    "plt.show()"
   ]
  },
  {
   "cell_type": "markdown",
   "metadata": {},
   "source": [
    "From the plot above, we can see that NEI-PTER increased significantly in 2008-2009, thus the data shows reasonable evidence for such assumption."
   ]
  },
  {
   "cell_type": "code",
   "execution_count": null,
   "metadata": {},
   "outputs": [],
   "source": []
  }
 ],
 "metadata": {
  "kernelspec": {
   "display_name": "Python 3",
   "language": "python",
   "name": "python3"
  },
  "language_info": {
   "codemirror_mode": {
    "name": "ipython",
    "version": 3
   },
   "file_extension": ".py",
   "mimetype": "text/x-python",
   "name": "python",
   "nbconvert_exporter": "python",
   "pygments_lexer": "ipython3",
   "version": "3.6.6"
  }
 },
 "nbformat": 4,
 "nbformat_minor": 2
}
