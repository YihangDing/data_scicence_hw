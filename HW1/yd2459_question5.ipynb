{
 "cells": [
  {
   "cell_type": "markdown",
   "metadata": {},
   "source": [
    "Foundations of Data Science \n",
    "HW1 Jupyter Notebook\n",
    "Yihang Ding, yd2459\n",
    "yd2459@columbia.edu"
   ]
  },
  {
   "cell_type": "markdown",
   "metadata": {},
   "source": [
    "Creates an array with the following daily temperature readings in Faren-\n",
    "heit. (50,54,66,81,80,84,85,67,45,40,42,38,50,40,30,20,25,35,40).\n",
    "• Convert the array to Centigrade\n",
    "• Print the average temperature.\n",
    "• Print the maximum and minimum temperatures\n",
    "• Print the number of days in which the temperature is more than the day before\n",
    "• Print the biggest percentage increase and the biggest percentage decrease\n",
    "The jupyter notebook should intersprese text (the questions answered) and code to compute the quantities listed above."
   ]
  },
  {
   "cell_type": "code",
   "execution_count": 13,
   "metadata": {},
   "outputs": [],
   "source": [
    "temp_h=[50,54,66,81,80,84,85,67,45,40,42,38,50,40,30,20,25,35,40]"
   ]
  },
  {
   "cell_type": "code",
   "execution_count": 14,
   "metadata": {},
   "outputs": [
    {
     "data": {
      "text/plain": [
       "[10.0,\n",
       " 12.22,\n",
       " 18.89,\n",
       " 27.22,\n",
       " 26.67,\n",
       " 28.89,\n",
       " 29.44,\n",
       " 19.44,\n",
       " 7.22,\n",
       " 4.44,\n",
       " 5.56,\n",
       " 3.33,\n",
       " 10.0,\n",
       " 4.44,\n",
       " -1.11,\n",
       " -6.67,\n",
       " -3.89,\n",
       " 1.67,\n",
       " 4.44]"
      ]
     },
     "execution_count": 14,
     "metadata": {},
     "output_type": "execute_result"
    }
   ],
   "source": [
    "#1. Convert the array to Centigrade\n",
    "#F=32+1.8×C\n",
    "temp_c=temp_h.copy()\n",
    "temp_c=[round((item-32)/1.8,2) for item in temp_c]\n",
    "temp_c"
   ]
  },
  {
   "cell_type": "markdown",
   "metadata": {},
   "source": [
    " answer: Temperature in Centigrade: [10.0, 12.22, 18.89, 27.22, 26.67, 28.89, 29.44, 19.44, 7.22, 4.44, 5.56, 3.33,\n",
    " 10.0, 4.44, -1.11, -6.67, -3.89, 1.67, 4.44]"
   ]
  },
  {
   "cell_type": "code",
   "execution_count": 15,
   "metadata": {},
   "outputs": [
    {
     "data": {
      "text/plain": [
       "51.16"
      ]
     },
     "execution_count": 15,
     "metadata": {},
     "output_type": "execute_result"
    }
   ],
   "source": [
    "#2. Print the average temperature\n",
    "avg_temp=round(sum(temp_h)/len(temp_h),2)\n",
    "avg_temp"
   ]
  },
  {
   "cell_type": "markdown",
   "metadata": {},
   "source": [
    "answer: The average temperature is 51.16 F"
   ]
  },
  {
   "cell_type": "code",
   "execution_count": 16,
   "metadata": {},
   "outputs": [
    {
     "name": "stdout",
     "output_type": "stream",
     "text": [
      "Answer: Maximun temperature is 85, lowest temperature is 20\n"
     ]
    }
   ],
   "source": [
    "#3. Print the maximum and minimum temperatures\n",
    "temp_h_tmp=temp_h.copy()\n",
    "temp_h_tmp.sort()\n",
    "print(\"Answer: Maximun temperature is \"+str(temp_h_tmp[-1])+\", lowest temperature is \"+str(temp_h_tmp[0]))"
   ]
  },
  {
   "cell_type": "markdown",
   "metadata": {},
   "source": [
    "Answer: Maximun temperature is 85, lowest temperature is 20"
   ]
  },
  {
   "cell_type": "code",
   "execution_count": 17,
   "metadata": {},
   "outputs": [
    {
     "name": "stdout",
     "output_type": "stream",
     "text": [
      "Answer: the number of days in which the temperature is more than the day before is 9\n"
     ]
    }
   ],
   "source": [
    "#4. Print the number of days in which the temperature is more than the day before\n",
    "num=0\n",
    "for i,item in enumerate(temp_h[:-2]):\n",
    "    if temp_h[i+1]>item:\n",
    "        num+=1\n",
    "print(\"Answer: the number of days in which the temperature is more than the day before is \"+str(num))      "
   ]
  },
  {
   "cell_type": "markdown",
   "metadata": {},
   "source": [
    "Answer: the number of days in which the temperature is more than the day before is 9"
   ]
  },
  {
   "cell_type": "code",
   "execution_count": 18,
   "metadata": {},
   "outputs": [
    {
     "name": "stdout",
     "output_type": "stream",
     "text": [
      "Answer: the biggest percentage increase is 40.0, and the biggest percentage decrease is -33.33\n"
     ]
    }
   ],
   "source": [
    "#5. Print the biggest percentage increase and the biggest percentage decrease\n",
    "inc=0.0\n",
    "dec=0.0\n",
    "for i,item in enumerate(temp_h[:-2]):\n",
    "    change=(temp_h[i+1]-item)/item*100\n",
    "    if change>0 and change > inc:\n",
    "        inc=change\n",
    "    elif change<0 and change < dec:\n",
    "        dec=change\n",
    "print(\"Answer: the biggest percentage increase is \"+str(round(inc,2))+ \", and the biggest percentage decrease is \"+str(round(dec,2)))"
   ]
  },
  {
   "cell_type": "markdown",
   "metadata": {},
   "source": [
    "Answer: the biggest percentage increase is 40.0, and the biggest percentage decrease is -33.33"
   ]
  },
  {
   "cell_type": "code",
   "execution_count": null,
   "metadata": {},
   "outputs": [],
   "source": []
  }
 ],
 "metadata": {
  "kernelspec": {
   "display_name": "Python 3",
   "language": "python",
   "name": "python3"
  },
  "language_info": {
   "codemirror_mode": {
    "name": "ipython",
    "version": 3
   },
   "file_extension": ".py",
   "mimetype": "text/x-python",
   "name": "python",
   "nbconvert_exporter": "python",
   "pygments_lexer": "ipython3",
   "version": "3.6.6"
  }
 },
 "nbformat": 4,
 "nbformat_minor": 2
}
