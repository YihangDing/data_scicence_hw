{
 "cells": [
  {
   "cell_type": "markdown",
   "metadata": {},
   "source": [
    "ORCA 4500 HW5  \n",
    "Problem 3  \n",
    "Yihang Ding, yd2459  "
   ]
  },
  {
   "cell_type": "markdown",
   "metadata": {},
   "source": [
    "We can generalize the Monte Hall problem to have 10 doors with g goats and c = 10 − g cars. First you choose a door. Monte Hall then shows you one with a goat, and then you have a choice to switch to a different curtain or not. The game then ends, and you win if you have now chosen the car. For each value of g from 2, . . . 9, compute the probability that you win if you switch, and the probability that you win if you don’t switch. You can either answer analytically or write code."
   ]
  },
  {
   "cell_type": "code",
   "execution_count": 7,
   "metadata": {},
   "outputs": [],
   "source": [
    "import numpy as np\n",
    "import random"
   ]
  },
  {
   "cell_type": "code",
   "execution_count": 29,
   "metadata": {},
   "outputs": [],
   "source": [
    "#value g from 2 ~ 9\n",
    "#1 for car, 0 for goat\n",
    "res_before,res_after=[],[]\n",
    "for g in range(2,10):\n",
    "    before=after=0\n",
    "    #iter 10000 times\n",
    "    for _ in range(10000): \n",
    "        door=[0]*g+[1]*(10-g)\n",
    "        random.shuffle(door)\n",
    "        choice=random.randint(0,9)\n",
    "        before+=door[choice]\n",
    "        \n",
    "        #choose a goat whose index is not same as choice\n",
    "        while 1:\n",
    "            goat=random.randint(0,9)\n",
    "            if goat!= choice and door[goat]==0:\n",
    "                break\n",
    "        #remove what has been pointed out and the previous choice\n",
    "        if choice<goat:\n",
    "            choice,goat=goat,choice\n",
    "        door.pop(choice)\n",
    "        door.pop(goat)\n",
    "        choice2=random.randint(0,7)\n",
    "        after+=door[choice2]\n",
    "    res_before.append(before/10000)\n",
    "    res_after.append(after/10000)"
   ]
  },
  {
   "cell_type": "code",
   "execution_count": 30,
   "metadata": {},
   "outputs": [
    {
     "data": {
      "text/plain": [
       "[0.795, 0.6976, 0.5982, 0.4988, 0.4025, 0.2924, 0.2034, 0.104]"
      ]
     },
     "execution_count": 30,
     "metadata": {},
     "output_type": "execute_result"
    }
   ],
   "source": [
    "#probability of win if not switch\n",
    "res_before"
   ]
  },
  {
   "cell_type": "code",
   "execution_count": 31,
   "metadata": {},
   "outputs": [
    {
     "data": {
      "text/plain": [
       "[0.8951, 0.7868, 0.6757, 0.5604, 0.4433, 0.3327, 0.2272, 0.1093]"
      ]
     },
     "execution_count": 31,
     "metadata": {},
     "output_type": "execute_result"
    }
   ],
   "source": [
    "#probability of win if switch\n",
    "res_after"
   ]
  },
  {
   "cell_type": "code",
   "execution_count": 32,
   "metadata": {},
   "outputs": [
    {
     "data": {
      "text/plain": [
       "[0.10009999999999997,\n",
       " 0.08920000000000006,\n",
       " 0.07750000000000001,\n",
       " 0.06159999999999999,\n",
       " 0.0408,\n",
       " 0.0403,\n",
       " 0.023800000000000016,\n",
       " 0.005299999999999999]"
      ]
     },
     "execution_count": 32,
     "metadata": {},
     "output_type": "execute_result"
    }
   ],
   "source": [
    "#improved probability by switch\n",
    "res=[]\n",
    "for i in range(8):\n",
    "    res.append(res_after[i]-res_before[i])\n",
    "res"
   ]
  },
  {
   "cell_type": "code",
   "execution_count": null,
   "metadata": {},
   "outputs": [],
   "source": []
  }
 ],
 "metadata": {
  "kernelspec": {
   "display_name": "Python 3",
   "language": "python",
   "name": "python3"
  },
  "language_info": {
   "codemirror_mode": {
    "name": "ipython",
    "version": 3
   },
   "file_extension": ".py",
   "mimetype": "text/x-python",
   "name": "python",
   "nbconvert_exporter": "python",
   "pygments_lexer": "ipython3",
   "version": "3.6.6"
  }
 },
 "nbformat": 4,
 "nbformat_minor": 2
}
