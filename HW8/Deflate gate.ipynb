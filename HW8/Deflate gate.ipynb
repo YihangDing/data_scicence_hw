{
 "cells": [
  {
   "cell_type": "code",
   "execution_count": 1,
   "metadata": {
    "collapsed": true
   },
   "outputs": [],
   "source": [
    "from datascience import *\n",
    "%matplotlib inline\n",
    "import matplotlib.pyplot as plots\n",
    "plots.style.use('fivethirtyeight')\n",
    "import numpy as np"
   ]
  },
  {
   "cell_type": "markdown",
   "metadata": {},
   "source": [
    "## DeflateGate"
   ]
  },
  {
   "cell_type": "markdown",
   "metadata": {},
   "source": [
    "On January 18, 2015, the Indianapolis Colts and the New England Patriots played the\n",
    "American Football Conference (AFC) championship game to determine which of those\n",
    "teams would play in the Super Bowl. After the game, there were allegations that the Patriots'\n",
    "footballs had not been inflated as much as the regulations required; they were softer. This\n",
    "could be an advantage, as softer balls might be easier to catch.\n",
    "\n",
    "For several weeks, the world of American football was consumed by accusations, denials,\n",
    "theories, and suspicions: the press labeled the topic Deflategate, after the Watergate\n",
    "political scandal of the 1970's.\n",
    "The National Football League (NFL) commissioned an\n",
    "independent analysis. In this example, we will perform our own analysis of the data.\n",
    "\n",
    "Pressure is often measured in pounds per square inch (psi). NFL rules stipulate that game\n",
    "balls must be inflated to have pressures in the range 12.5 psi and 13.5 psi. Each team plays\n",
    "with 12 balls. Teams have the responsibility of maintaining the pressure in their own\n",
    "footballs, but game officials inspect the balls. Before the start of the AFC game, all the\n",
    "Patriots' balls were at about 12.5 psi. Most of the Colts' balls were at about 13.0 psi.\n",
    "However, these pre-game data were not recorded.\n",
    "\n",
    "During the second quarter, the Colts intercepted a Patriots ball. On the sidelines, they\n",
    "measured the pressure of the ball and determined that it was below the 12.5 psi threshold.\n",
    "Promptly, they informed officials.\n",
    "\n",
    "At half-time, all the game balls were collected for inspection. Two officials, Clete Blakeman\n",
    "and Dyrol Prioleau, measured the pressure in each of the balls. Here are the data; pressure\n",
    "is measured in psi. The Patriots ball that had been intercepted by the Colts was not\n",
    "inspected at half-time. Nor were most of the Colts' balls – the officials simply ran out of time\n",
    "and had to relinquish the balls for the start of second half play."
   ]
  },
  {
   "cell_type": "code",
   "execution_count": 2,
   "metadata": {},
   "outputs": [
    {
     "data": {
      "text/html": [
       "<table border=\"1\" class=\"dataframe\">\n",
       "    <thead>\n",
       "        <tr>\n",
       "            <th>Ball</th> <th> Blakeman</th> <th> Prioleau</th>\n",
       "        </tr>\n",
       "    </thead>\n",
       "    <tbody>\n",
       "        <tr>\n",
       "            <td>Patriots 1 </td> <td>11.5     </td> <td>11.8     </td>\n",
       "        </tr>\n",
       "    </tbody>\n",
       "        <tr>\n",
       "            <td>Patriots 2 </td> <td>10.85    </td> <td>11.2     </td>\n",
       "        </tr>\n",
       "    </tbody>\n",
       "        <tr>\n",
       "            <td>Patriots 3 </td> <td>11.15    </td> <td>11.5     </td>\n",
       "        </tr>\n",
       "    </tbody>\n",
       "        <tr>\n",
       "            <td>Patriots 4 </td> <td>10.7     </td> <td>11       </td>\n",
       "        </tr>\n",
       "    </tbody>\n",
       "        <tr>\n",
       "            <td>Patriots 5 </td> <td>11.1     </td> <td>11.45    </td>\n",
       "        </tr>\n",
       "    </tbody>\n",
       "        <tr>\n",
       "            <td>Patriots 6 </td> <td>11.6     </td> <td>11.95    </td>\n",
       "        </tr>\n",
       "    </tbody>\n",
       "        <tr>\n",
       "            <td>Patriots 7 </td> <td>11.85    </td> <td>12.3     </td>\n",
       "        </tr>\n",
       "    </tbody>\n",
       "        <tr>\n",
       "            <td>Patriots 8 </td> <td>11.1     </td> <td>11.55    </td>\n",
       "        </tr>\n",
       "    </tbody>\n",
       "        <tr>\n",
       "            <td>Patriots 9 </td> <td>10.95    </td> <td>11.35    </td>\n",
       "        </tr>\n",
       "    </tbody>\n",
       "        <tr>\n",
       "            <td>Patriots 10</td> <td>10.5     </td> <td>10.9     </td>\n",
       "        </tr>\n",
       "    </tbody>\n",
       "        <tr>\n",
       "            <td>Patriots 11</td> <td>10.9     </td> <td>11.35    </td>\n",
       "        </tr>\n",
       "    </tbody>\n",
       "        <tr>\n",
       "            <td>Colts 1    </td> <td>12.7     </td> <td>12.35    </td>\n",
       "        </tr>\n",
       "    </tbody>\n",
       "        <tr>\n",
       "            <td>Colts 2    </td> <td>12.75    </td> <td>12.3     </td>\n",
       "        </tr>\n",
       "    </tbody>\n",
       "        <tr>\n",
       "            <td>Colts 3    </td> <td>12.5     </td> <td>12.95    </td>\n",
       "        </tr>\n",
       "    </tbody>\n",
       "        <tr>\n",
       "            <td>Colts 4    </td> <td>12.55    </td> <td>12.15    </td>\n",
       "        </tr>\n",
       "    </tbody>\n",
       "</table>"
      ],
      "text/plain": [
       "<IPython.core.display.HTML object>"
      ]
     },
     "metadata": {},
     "output_type": "display_data"
    }
   ],
   "source": [
    "football = Table.read_table('football.csv')\n",
    "football.show()"
   ]
  },
  {
   "cell_type": "markdown",
   "metadata": {},
   "source": [
    "For each of the 15 balls that were inspected, the two officials got different results. It is not\n",
    "uncommon that repeated measurements on the same object yield different results,\n",
    "especially when the measurements are performed by different people. So we will assign to\n",
    "each the ball the average of the two measurements made on that ball."
   ]
  },
  {
   "cell_type": "code",
   "execution_count": 3,
   "metadata": {},
   "outputs": [
    {
     "data": {
      "text/html": [
       "<table border=\"1\" class=\"dataframe\">\n",
       "    <thead>\n",
       "        <tr>\n",
       "            <th>Ball</th> <th> Blakeman</th> <th> Prioleau</th> <th>Combined</th>\n",
       "        </tr>\n",
       "    </thead>\n",
       "    <tbody>\n",
       "        <tr>\n",
       "            <td>Patriots 1 </td> <td>11.5     </td> <td>11.8     </td> <td>11.65   </td>\n",
       "        </tr>\n",
       "    </tbody>\n",
       "        <tr>\n",
       "            <td>Patriots 2 </td> <td>10.85    </td> <td>11.2     </td> <td>11.025  </td>\n",
       "        </tr>\n",
       "    </tbody>\n",
       "        <tr>\n",
       "            <td>Patriots 3 </td> <td>11.15    </td> <td>11.5     </td> <td>11.325  </td>\n",
       "        </tr>\n",
       "    </tbody>\n",
       "        <tr>\n",
       "            <td>Patriots 4 </td> <td>10.7     </td> <td>11       </td> <td>10.85   </td>\n",
       "        </tr>\n",
       "    </tbody>\n",
       "        <tr>\n",
       "            <td>Patriots 5 </td> <td>11.1     </td> <td>11.45    </td> <td>11.275  </td>\n",
       "        </tr>\n",
       "    </tbody>\n",
       "        <tr>\n",
       "            <td>Patriots 6 </td> <td>11.6     </td> <td>11.95    </td> <td>11.775  </td>\n",
       "        </tr>\n",
       "    </tbody>\n",
       "        <tr>\n",
       "            <td>Patriots 7 </td> <td>11.85    </td> <td>12.3     </td> <td>12.075  </td>\n",
       "        </tr>\n",
       "    </tbody>\n",
       "        <tr>\n",
       "            <td>Patriots 8 </td> <td>11.1     </td> <td>11.55    </td> <td>11.325  </td>\n",
       "        </tr>\n",
       "    </tbody>\n",
       "        <tr>\n",
       "            <td>Patriots 9 </td> <td>10.95    </td> <td>11.35    </td> <td>11.15   </td>\n",
       "        </tr>\n",
       "    </tbody>\n",
       "        <tr>\n",
       "            <td>Patriots 10</td> <td>10.5     </td> <td>10.9     </td> <td>10.7    </td>\n",
       "        </tr>\n",
       "    </tbody>\n",
       "        <tr>\n",
       "            <td>Patriots 11</td> <td>10.9     </td> <td>11.35    </td> <td>11.125  </td>\n",
       "        </tr>\n",
       "    </tbody>\n",
       "        <tr>\n",
       "            <td>Colts 1    </td> <td>12.7     </td> <td>12.35    </td> <td>12.525  </td>\n",
       "        </tr>\n",
       "    </tbody>\n",
       "        <tr>\n",
       "            <td>Colts 2    </td> <td>12.75    </td> <td>12.3     </td> <td>12.525  </td>\n",
       "        </tr>\n",
       "    </tbody>\n",
       "        <tr>\n",
       "            <td>Colts 3    </td> <td>12.5     </td> <td>12.95    </td> <td>12.725  </td>\n",
       "        </tr>\n",
       "    </tbody>\n",
       "        <tr>\n",
       "            <td>Colts 4    </td> <td>12.55    </td> <td>12.15    </td> <td>12.35   </td>\n",
       "        </tr>\n",
       "    </tbody>\n",
       "</table>"
      ],
      "text/plain": [
       "<IPython.core.display.HTML object>"
      ]
     },
     "metadata": {},
     "output_type": "display_data"
    }
   ],
   "source": [
    "football = football.with_column('Combined',(football.column(1)+football.column(2))/2)\n",
    "football.show()"
   ]
  },
  {
   "cell_type": "markdown",
   "metadata": {},
   "source": [
    "At a glance, it seems apparent that the Patriots' footballs were at a lower pressure than the\n",
    "Colts' balls. Because some deflation is normal during the course of a game, the independent\n",
    "analysts decided to calculate the drop in pressure from the start of the game. Recall that the\n",
    "Patriots' balls had all started out at about 12.5 psi, and the Colts' balls at about 13.0 psi.\n",
    "Therefore the drop in pressure for the Patriots' balls was computed as 12.5 minus the\n",
    "pressure at half-time, and the drop in pressure for the Colts' balls was 13.0 minus the\n",
    "pressure at half-time.\n",
    "Let's construct two tables, one for the Patriots data and one for Colts. The final column of\n",
    "each table is the drop in pressure from the starting value."
   ]
  },
  {
   "cell_type": "code",
   "execution_count": 5,
   "metadata": {},
   "outputs": [
    {
     "data": {
      "text/html": [
       "<table border=\"1\" class=\"dataframe\">\n",
       "    <thead>\n",
       "        <tr>\n",
       "            <th>Ball</th> <th> Blakeman</th> <th> Prioleau</th> <th>Combined</th> <th>Drop</th>\n",
       "        </tr>\n",
       "    </thead>\n",
       "    <tbody>\n",
       "        <tr>\n",
       "            <td>Patriots 1 </td> <td>11.5     </td> <td>11.8     </td> <td>11.65   </td> <td>0.85 </td>\n",
       "        </tr>\n",
       "    </tbody>\n",
       "        <tr>\n",
       "            <td>Patriots 2 </td> <td>10.85    </td> <td>11.2     </td> <td>11.025  </td> <td>1.475</td>\n",
       "        </tr>\n",
       "    </tbody>\n",
       "        <tr>\n",
       "            <td>Patriots 3 </td> <td>11.15    </td> <td>11.5     </td> <td>11.325  </td> <td>1.175</td>\n",
       "        </tr>\n",
       "    </tbody>\n",
       "        <tr>\n",
       "            <td>Patriots 4 </td> <td>10.7     </td> <td>11       </td> <td>10.85   </td> <td>1.65 </td>\n",
       "        </tr>\n",
       "    </tbody>\n",
       "        <tr>\n",
       "            <td>Patriots 5 </td> <td>11.1     </td> <td>11.45    </td> <td>11.275  </td> <td>1.225</td>\n",
       "        </tr>\n",
       "    </tbody>\n",
       "        <tr>\n",
       "            <td>Patriots 6 </td> <td>11.6     </td> <td>11.95    </td> <td>11.775  </td> <td>0.725</td>\n",
       "        </tr>\n",
       "    </tbody>\n",
       "        <tr>\n",
       "            <td>Patriots 7 </td> <td>11.85    </td> <td>12.3     </td> <td>12.075  </td> <td>0.425</td>\n",
       "        </tr>\n",
       "    </tbody>\n",
       "        <tr>\n",
       "            <td>Patriots 8 </td> <td>11.1     </td> <td>11.55    </td> <td>11.325  </td> <td>1.175</td>\n",
       "        </tr>\n",
       "    </tbody>\n",
       "        <tr>\n",
       "            <td>Patriots 9 </td> <td>10.95    </td> <td>11.35    </td> <td>11.15   </td> <td>1.35 </td>\n",
       "        </tr>\n",
       "    </tbody>\n",
       "        <tr>\n",
       "            <td>Patriots 10</td> <td>10.5     </td> <td>10.9     </td> <td>10.7    </td> <td>1.8  </td>\n",
       "        </tr>\n",
       "    </tbody>\n",
       "        <tr>\n",
       "            <td>Patriots 11</td> <td>10.9     </td> <td>11.35    </td> <td>11.125  </td> <td>1.375</td>\n",
       "        </tr>\n",
       "    </tbody>\n",
       "</table>"
      ],
      "text/plain": [
       "<IPython.core.display.HTML object>"
      ]
     },
     "metadata": {},
     "output_type": "display_data"
    }
   ],
   "source": [
    "patriots = football.where('Ball', are.containing('Patriots'))\n",
    "patriots = patriots.with_column('Drop', 12.5-\n",
    "patriots.column('Combined'))\n",
    "patriots.show()"
   ]
  },
  {
   "cell_type": "code",
   "execution_count": 6,
   "metadata": {},
   "outputs": [
    {
     "data": {
      "text/html": [
       "<table border=\"1\" class=\"dataframe\">\n",
       "    <thead>\n",
       "        <tr>\n",
       "            <th>Ball</th> <th> Blakeman</th> <th> Prioleau</th> <th>Combined</th> <th>Drop</th>\n",
       "        </tr>\n",
       "    </thead>\n",
       "    <tbody>\n",
       "        <tr>\n",
       "            <td>Colts 1</td> <td>12.7     </td> <td>12.35    </td> <td>12.525  </td> <td>0.475</td>\n",
       "        </tr>\n",
       "    </tbody>\n",
       "        <tr>\n",
       "            <td>Colts 2</td> <td>12.75    </td> <td>12.3     </td> <td>12.525  </td> <td>0.475</td>\n",
       "        </tr>\n",
       "    </tbody>\n",
       "        <tr>\n",
       "            <td>Colts 3</td> <td>12.5     </td> <td>12.95    </td> <td>12.725  </td> <td>0.275</td>\n",
       "        </tr>\n",
       "    </tbody>\n",
       "        <tr>\n",
       "            <td>Colts 4</td> <td>12.55    </td> <td>12.15    </td> <td>12.35   </td> <td>0.65 </td>\n",
       "        </tr>\n",
       "    </tbody>\n",
       "</table>"
      ],
      "text/plain": [
       "Ball    |  Blakeman |  Prioleau | Combined | Drop\n",
       "Colts 1 | 12.7      | 12.35     | 12.525   | 0.475\n",
       "Colts 2 | 12.75     | 12.3      | 12.525   | 0.475\n",
       "Colts 3 | 12.5      | 12.95     | 12.725   | 0.275\n",
       "Colts 4 | 12.55     | 12.15     | 12.35    | 0.65"
      ]
     },
     "execution_count": 6,
     "metadata": {},
     "output_type": "execute_result"
    }
   ],
   "source": [
    "colts = football.where('Ball', are.containing('Colts'))\n",
    "colts = colts.with_column('Drop', 13.0-colts.column('Combined'))\n",
    "colts"
   ]
  },
  {
   "cell_type": "markdown",
   "metadata": {},
   "source": [
    "It looks as though the Patriots' drops were larger than the Colts'. A natural statistic is the\n",
    "difference between the two average drops. We'll work with that, but you are free to repeat\n",
    "the analysis with other natural statistics such as the difference between the overall average\n",
    "drop and that of the Patriots."
   ]
  },
  {
   "cell_type": "code",
   "execution_count": 7,
   "metadata": {},
   "outputs": [
    {
     "data": {
      "text/plain": [
       "0.73352272727272805"
      ]
     },
     "execution_count": 7,
     "metadata": {},
     "output_type": "execute_result"
    }
   ],
   "source": [
    "patriots_mean = patriots.column('Drop').mean()\n",
    "colts_mean = colts.column('Drop').mean()\n",
    "observed_statistic = patriots_mean - colts_mean\n",
    "observed_statistic"
   ]
  },
  {
   "cell_type": "markdown",
   "metadata": {},
   "source": [
    "This positive difference reflects the fact that the average drop in pressure of the Patriots'\n",
    "balls was greater than that of the Colts.\n",
    "Could this difference be due to chance, or are the Patriot drops too large? This question is\n",
    "very much like the question that we asked in an earlier example about the scores in one\n",
    "section of a large class. We'll set up the null and alternative hypotheses just as we did in that\n",
    "example.\n",
    "\n",
    "\n",
    "### Null hypothesis. \n",
    "The Patriots' drops are like a random sample of 11 out of all 15 drops. The\n",
    "average came out higher than that of the Colts' drops due to chance variation.\n",
    "\n",
    "\n",
    "### Alternative hypotheis. \n",
    "The Patriots' drops are too large to be the result of chance variation\n",
    "alone.\n",
    "\n",
    "\n",
    "If the null hypothesis were true, then the Patriots' drops would be comparable to 11 drops\n",
    "drawn at random without replacement from all 15 drops. So let's create an array of all 15\n",
    "drops and draw at random from it."
   ]
  },
  {
   "cell_type": "code",
   "execution_count": 8,
   "metadata": {},
   "outputs": [
    {
     "data": {
      "text/html": [
       "<table border=\"1\" class=\"dataframe\">\n",
       "    <thead>\n",
       "        <tr>\n",
       "            <th>Drop</th>\n",
       "        </tr>\n",
       "    </thead>\n",
       "    <tbody>\n",
       "        <tr>\n",
       "            <td>0.85 </td>\n",
       "        </tr>\n",
       "    </tbody>\n",
       "        <tr>\n",
       "            <td>1.475</td>\n",
       "        </tr>\n",
       "    </tbody>\n",
       "        <tr>\n",
       "            <td>1.175</td>\n",
       "        </tr>\n",
       "    </tbody>\n",
       "        <tr>\n",
       "            <td>1.65 </td>\n",
       "        </tr>\n",
       "    </tbody>\n",
       "        <tr>\n",
       "            <td>1.225</td>\n",
       "        </tr>\n",
       "    </tbody>\n",
       "        <tr>\n",
       "            <td>0.725</td>\n",
       "        </tr>\n",
       "    </tbody>\n",
       "        <tr>\n",
       "            <td>0.425</td>\n",
       "        </tr>\n",
       "    </tbody>\n",
       "        <tr>\n",
       "            <td>1.175</td>\n",
       "        </tr>\n",
       "    </tbody>\n",
       "        <tr>\n",
       "            <td>1.35 </td>\n",
       "        </tr>\n",
       "    </tbody>\n",
       "        <tr>\n",
       "            <td>1.8  </td>\n",
       "        </tr>\n",
       "    </tbody>\n",
       "        <tr>\n",
       "            <td>1.375</td>\n",
       "        </tr>\n",
       "    </tbody>\n",
       "        <tr>\n",
       "            <td>0.475</td>\n",
       "        </tr>\n",
       "    </tbody>\n",
       "        <tr>\n",
       "            <td>0.475</td>\n",
       "        </tr>\n",
       "    </tbody>\n",
       "        <tr>\n",
       "            <td>0.275</td>\n",
       "        </tr>\n",
       "    </tbody>\n",
       "        <tr>\n",
       "            <td>0.65 </td>\n",
       "        </tr>\n",
       "    </tbody>\n",
       "</table>"
      ],
      "text/plain": [
       "<IPython.core.display.HTML object>"
      ]
     },
     "metadata": {},
     "output_type": "display_data"
    }
   ],
   "source": [
    "drops = Table().with_column(\n",
    "'Drop', np.append(patriots.column('Drop'),\n",
    "colts.column('Drop'))\n",
    ")\n",
    "drops.show()"
   ]
  },
  {
   "cell_type": "markdown",
   "metadata": {},
   "source": [
    " "
   ]
  },
  {
   "cell_type": "code",
   "execution_count": 12,
   "metadata": {},
   "outputs": [
    {
     "data": {
      "text/html": [
       "<table border=\"1\" class=\"dataframe\">\n",
       "    <thead>\n",
       "        <tr>\n",
       "            <th>Drop</th>\n",
       "        </tr>\n",
       "    </thead>\n",
       "    <tbody>\n",
       "        <tr>\n",
       "            <td>1.175</td>\n",
       "        </tr>\n",
       "    </tbody>\n",
       "        <tr>\n",
       "            <td>1.8  </td>\n",
       "        </tr>\n",
       "    </tbody>\n",
       "        <tr>\n",
       "            <td>0.725</td>\n",
       "        </tr>\n",
       "    </tbody>\n",
       "        <tr>\n",
       "            <td>0.475</td>\n",
       "        </tr>\n",
       "    </tbody>\n",
       "        <tr>\n",
       "            <td>0.425</td>\n",
       "        </tr>\n",
       "    </tbody>\n",
       "        <tr>\n",
       "            <td>0.475</td>\n",
       "        </tr>\n",
       "    </tbody>\n",
       "        <tr>\n",
       "            <td>0.85 </td>\n",
       "        </tr>\n",
       "    </tbody>\n",
       "        <tr>\n",
       "            <td>1.35 </td>\n",
       "        </tr>\n",
       "    </tbody>\n",
       "        <tr>\n",
       "            <td>1.475</td>\n",
       "        </tr>\n",
       "    </tbody>\n",
       "        <tr>\n",
       "            <td>0.275</td>\n",
       "        </tr>\n",
       "    </tbody>\n",
       "        <tr>\n",
       "            <td>0.65 </td>\n",
       "        </tr>\n",
       "    </tbody>\n",
       "        <tr>\n",
       "            <td>1.225</td>\n",
       "        </tr>\n",
       "    </tbody>\n",
       "        <tr>\n",
       "            <td>1.375</td>\n",
       "        </tr>\n",
       "    </tbody>\n",
       "        <tr>\n",
       "            <td>1.175</td>\n",
       "        </tr>\n",
       "    </tbody>\n",
       "        <tr>\n",
       "            <td>1.65 </td>\n",
       "        </tr>\n",
       "    </tbody>\n",
       "</table>"
      ],
      "text/plain": [
       "<IPython.core.display.HTML object>"
      ]
     },
     "metadata": {},
     "output_type": "display_data"
    }
   ],
   "source": [
    "drops.sample(with_replacement=False).show()"
   ]
  },
  {
   "cell_type": "markdown",
   "metadata": {},
   "source": [
    "Notice the use of sample without a sample size. That is because the default sample size\n",
    "used by sample is the number of rows of the table; if you don't specify a sample size, you\n",
    "get back a sample of the same size as the original table. This is ideal for our purposes,\n",
    "because when you sample without replacement (by specifiying with_replacement=False ) the\n",
    "same number of times as there are rows, you end up with a random shuffle of all the rows.\n",
    "Run the cell above a few times to see how the output changes.\n",
    "\n",
    "We can now use the first 11 rows of the shuffled table as a simulation of the Patriots' drops\n",
    "under the null hypothesis. The remaining four rows form the simulation of the corresponding\n",
    "Colts' drops. We can use these two simulated arrays to simulate our test statistic under the\n",
    "null."
   ]
  },
  {
   "cell_type": "code",
   "execution_count": 16,
   "metadata": {},
   "outputs": [
    {
     "data": {
      "text/plain": [
       "0.25624999999999942"
      ]
     },
     "execution_count": 16,
     "metadata": {},
     "output_type": "execute_result"
    }
   ],
   "source": [
    "shuffled = drops.sample(with_replacement=False)\n",
    "new_patriots = shuffled.take(np.arange(11))\n",
    "new_patriots_mean = new_patriots.column(0).mean()\n",
    "new_colts = shuffled.take(np.arange(11, drops.num_rows))\n",
    "new_colts_mean = new_colts.column(0).mean()\n",
    "simulated_stat = new_patriots_mean - new_colts_mean\n",
    "simulated_stat"
   ]
  },
  {
   "cell_type": "markdown",
   "metadata": {},
   "source": [
    "Run the cell above a few times to see how the test statistic varies. Remember that the\n",
    "simulation is under the null hypothesis that the Patriots' drops are like a random sample of al\n",
    "15 drops.\n",
    "\n",
    "It's time for a step that is now familiar. We will do repeated simulations of the test statistic\n",
    "under the null hypothesis. At the end of the simulation, the array simulated_statistics will\n",
    "contain all of the simulated test statistics."
   ]
  },
  {
   "cell_type": "code",
   "execution_count": 14,
   "metadata": {
    "collapsed": true
   },
   "outputs": [],
   "source": [
    "simulated_statistics = make_array()\n",
    "repetitions = 10000\n",
    "for i in np.arange(repetitions):\n",
    "  shuffled = drops.sample(with_replacement=False)\n",
    "  new_patriots_mean = shuffled.take(np.arange(11)).column(0).mean()\n",
    "  new_colts_mean = shuffled.take(np.arange(11,drops.num_rows)).column(0).mean()\n",
    "  new_statistic = new_patriots_mean - new_colts_mean\n",
    "  simulated_statistics = np.append(simulated_statistics, new_statistic)"
   ]
  },
  {
   "cell_type": "markdown",
   "metadata": {},
   "source": [
    "Now for the empirical P-value, which is the chance (computed under the null hypothesis) of\n",
    "getting a test statistic equal to the one that was observed or more in the direction of the\n",
    "alternative. To figure out how to calculate this, it's important to recall the alternative\n",
    "hypothesis:\n",
    "\n",
    "### Alternative hypotheis. \n",
    "The Patriots' drops are too large to be the result of chance variation\n",
    "alone.\n",
    "\n",
    "The \"direction of the alternative\" is towards large drops for the Patriots, with correspondingly\n",
    "large values for out test statistic \"Patriots' mean - Colts' mean\". So the P-value is the chance\n",
    "(computed under the null hypothesis) of getting a test statistic equal to our observed value of\n",
    "0.73352272727272805 or larger."
   ]
  },
  {
   "cell_type": "code",
   "execution_count": 19,
   "metadata": {},
   "outputs": [
    {
     "data": {
      "text/plain": [
       "0.0033"
      ]
     },
     "execution_count": 19,
     "metadata": {},
     "output_type": "execute_result"
    }
   ],
   "source": [
    "empirical_P = np.count_nonzero(simulated_statistics >=\n",
    "observed_statistic)/repetitions\n",
    "empirical_P"
   ]
  },
  {
   "cell_type": "markdown",
   "metadata": {},
   "source": [
    "That's a pretty small P-value. To visualize this, here is the empirical distribution of the test\n",
    "statistic under the null hypothesis, with the observed statistic marked on the horizontal axis."
   ]
  },
  {
   "cell_type": "code",
   "execution_count": 20,
   "metadata": {},
   "outputs": [
    {
     "name": "stdout",
     "output_type": "stream",
     "text": [
      "Observed Statistic: 0.733522727273\n",
      "Empirical P: 0.0033\n"
     ]
    },
    {
     "data": {
      "image/png": "[encoded data removed]",
      "text/plain": [
       "<matplotlib.figure.Figure at 0x1a13126f60>"
      ]
     },
     "metadata": {},
     "output_type": "display_data"
    }
   ],
   "source": [
    "print('Observed Statistic:', observed_statistic)\n",
    "print('Empirical P:', empirical_P)\n",
    "results = Table().with_column('Simulated Statistic',\n",
    "simulated_statistics)\n",
    "results.hist()\n",
    "plots.scatter(observed_statistic, 0, color='red', s=30);"
   ]
  },
  {
   "cell_type": "markdown",
   "metadata": {},
   "source": [
    "Notice that the bulk of the distribution is centered around 0. Under the null hypothesis, the\n",
    "Patriots' drops are a random sample of all 15 drops, and therefore so are the Colts'.\n",
    "Therefore the two sets of drops should be about equal on average, and therefore their\n",
    "difference should be around 0.\n",
    "\n",
    "But the observed value of the test statistic is quite far away from the heart of the distribution.\n",
    "By any reasonable cutoff for what is \"small\", the empirical P-value is small. So we end up\n",
    "rejecting the null hypothesis of randomness, and conclude that the Patriots drops were too\n",
    "large to reflect chance variation alone.\n",
    "\n",
    "The independent investiagtive team analyzed the data in several different ways, taking into\n",
    "account the laws of physics. The final report said,\n",
    "\n",
    "\"[T]he average pressure drop of the Patriots game balls exceeded the average\n",
    "pressure drop of the Colts balls by 0.45 to 1.02 psi, depending on various possible\n",
    "assumptions regarding the gauges used, and assuming an initial pressure of 12.5 psi\n",
    "for the Patriots balls and 13.0 for the Colts balls.\"\n",
    "-- Investigative report commissioned by the NFL regarding the AFC Championship\n",
    "game on January 18, 2015\n",
    "\n",
    "Our analysis shows an average pressure drop of about 0.73 psi, which is close to the center\n",
    "of the interval \"0.45 to 1.02 psi\" and therefore consistent with the official analysis.\n",
    "\n",
    "Remember that our test of hypotheses does not establish the reason why the difference is\n",
    "not due to chance. Establishing causality is usually more complex than running a test of\n",
    "hypotheses.\n",
    "\n",
    "But the all-important question in the football world was about causation: the question was\n",
    "whether the excess drop of pressure in the Patriots' footballs was deliberate."
   ]
  },
  {
   "cell_type": "code",
   "execution_count": null,
   "metadata": {
    "collapsed": true
   },
   "outputs": [],
   "source": []
  }
 ],
 "metadata": {
  "kernelspec": {
   "display_name": "Python 3",
   "language": "python",
   "name": "python3"
  },
  "language_info": {
   "codemirror_mode": {
    "name": "ipython",
    "version": 3
   },
   "file_extension": ".py",
   "mimetype": "text/x-python",
   "name": "python",
   "nbconvert_exporter": "python",
   "pygments_lexer": "ipython3",
   "version": "3.6.6"
  }
 },
 "nbformat": 4,
 "nbformat_minor": 2
}
