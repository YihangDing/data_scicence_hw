{
 "cells": [
  {
   "cell_type": "code",
   "execution_count": 47,
   "metadata": {},
   "outputs": [],
   "source": [
    "import numpy as np\n",
    "import scipy"
   ]
  },
  {
   "cell_type": "markdown",
   "metadata": {},
   "source": [
    "1. In class, we discussed deflategate, and analyzed whether the New England Patriots cheated in 2015. We used the statistic that was the mean value of the balls for each team. Choose a different statistic and create a jupyter notebook that repeats the analysis for the new statistic. Briefly justify your choice of statistic."
   ]
  },
  {
   "cell_type": "markdown",
   "metadata": {},
   "source": [
    "Repeat the analysis with: the difference between the Overall Average Drop and the Average Drop of the Patriots."
   ]
  },
  {
   "cell_type": "code",
   "execution_count": 78,
   "metadata": {},
   "outputs": [],
   "source": [
    "from datascience import *\n",
    "%matplotlib inline\n",
    "import matplotlib.pyplot as plt\n",
    "plt.style.use('fivethirtyeight')"
   ]
  },
  {
   "cell_type": "code",
   "execution_count": 79,
   "metadata": {},
   "outputs": [
    {
     "name": "stderr",
     "output_type": "stream",
     "text": [
      "/Users/apple/anaconda3/lib/python3.6/site-packages/datascience/tables.py:132: FutureWarning: read_table is deprecated, use read_csv instead.\n",
      "  df = pandas.read_table(filepath_or_buffer, *args, **vargs)\n"
     ]
    },
    {
     "data": {
      "text/html": [
       "<table border=\"1\" class=\"dataframe\">\n",
       "    <thead>\n",
       "        <tr>\n",
       "            <th>Ball</th> <th> Blakeman</th> <th> Prioleau</th>\n",
       "        </tr>\n",
       "    </thead>\n",
       "    <tbody>\n",
       "        <tr>\n",
       "            <td>Patriots 1 </td> <td>11.5     </td> <td>11.8     </td>\n",
       "        </tr>\n",
       "        <tr>\n",
       "            <td>Patriots 2 </td> <td>10.85    </td> <td>11.2     </td>\n",
       "        </tr>\n",
       "        <tr>\n",
       "            <td>Patriots 3 </td> <td>11.15    </td> <td>11.5     </td>\n",
       "        </tr>\n",
       "        <tr>\n",
       "            <td>Patriots 4 </td> <td>10.7     </td> <td>11       </td>\n",
       "        </tr>\n",
       "        <tr>\n",
       "            <td>Patriots 5 </td> <td>11.1     </td> <td>11.45    </td>\n",
       "        </tr>\n",
       "        <tr>\n",
       "            <td>Patriots 6 </td> <td>11.6     </td> <td>11.95    </td>\n",
       "        </tr>\n",
       "        <tr>\n",
       "            <td>Patriots 7 </td> <td>11.85    </td> <td>12.3     </td>\n",
       "        </tr>\n",
       "        <tr>\n",
       "            <td>Patriots 8 </td> <td>11.1     </td> <td>11.55    </td>\n",
       "        </tr>\n",
       "        <tr>\n",
       "            <td>Patriots 9 </td> <td>10.95    </td> <td>11.35    </td>\n",
       "        </tr>\n",
       "        <tr>\n",
       "            <td>Patriots 10</td> <td>10.5     </td> <td>10.9     </td>\n",
       "        </tr>\n",
       "        <tr>\n",
       "            <td>Patriots 11</td> <td>10.9     </td> <td>11.35    </td>\n",
       "        </tr>\n",
       "        <tr>\n",
       "            <td>Colts 1    </td> <td>12.7     </td> <td>12.35    </td>\n",
       "        </tr>\n",
       "        <tr>\n",
       "            <td>Colts 2    </td> <td>12.75    </td> <td>12.3     </td>\n",
       "        </tr>\n",
       "        <tr>\n",
       "            <td>Colts 3    </td> <td>12.5     </td> <td>12.95    </td>\n",
       "        </tr>\n",
       "        <tr>\n",
       "            <td>Colts 4    </td> <td>12.55    </td> <td>12.15    </td>\n",
       "        </tr>\n",
       "    </tbody>\n",
       "</table>"
      ],
      "text/plain": [
       "<IPython.core.display.HTML object>"
      ]
     },
     "metadata": {},
     "output_type": "display_data"
    }
   ],
   "source": [
    "#read csv\n",
    "football = Table.read_table('football.csv')\n",
    "football.show()"
   ]
  },
  {
   "cell_type": "code",
   "execution_count": 82,
   "metadata": {},
   "outputs": [
    {
     "data": {
      "text/html": [
       "<table border=\"1\" class=\"dataframe\">\n",
       "    <thead>\n",
       "        <tr>\n",
       "            <th>Ball</th> <th> Blakeman</th> <th> Prioleau</th> <th>Combined</th>\n",
       "        </tr>\n",
       "    </thead>\n",
       "    <tbody>\n",
       "        <tr>\n",
       "            <td>Patriots 1 </td> <td>11.5     </td> <td>11.8     </td> <td>11.65   </td>\n",
       "        </tr>\n",
       "        <tr>\n",
       "            <td>Patriots 2 </td> <td>10.85    </td> <td>11.2     </td> <td>11.025  </td>\n",
       "        </tr>\n",
       "        <tr>\n",
       "            <td>Patriots 3 </td> <td>11.15    </td> <td>11.5     </td> <td>11.325  </td>\n",
       "        </tr>\n",
       "        <tr>\n",
       "            <td>Patriots 4 </td> <td>10.7     </td> <td>11       </td> <td>10.85   </td>\n",
       "        </tr>\n",
       "        <tr>\n",
       "            <td>Patriots 5 </td> <td>11.1     </td> <td>11.45    </td> <td>11.275  </td>\n",
       "        </tr>\n",
       "        <tr>\n",
       "            <td>Patriots 6 </td> <td>11.6     </td> <td>11.95    </td> <td>11.775  </td>\n",
       "        </tr>\n",
       "        <tr>\n",
       "            <td>Patriots 7 </td> <td>11.85    </td> <td>12.3     </td> <td>12.075  </td>\n",
       "        </tr>\n",
       "        <tr>\n",
       "            <td>Patriots 8 </td> <td>11.1     </td> <td>11.55    </td> <td>11.325  </td>\n",
       "        </tr>\n",
       "        <tr>\n",
       "            <td>Patriots 9 </td> <td>10.95    </td> <td>11.35    </td> <td>11.15   </td>\n",
       "        </tr>\n",
       "        <tr>\n",
       "            <td>Patriots 10</td> <td>10.5     </td> <td>10.9     </td> <td>10.7    </td>\n",
       "        </tr>\n",
       "        <tr>\n",
       "            <td>Patriots 11</td> <td>10.9     </td> <td>11.35    </td> <td>11.125  </td>\n",
       "        </tr>\n",
       "        <tr>\n",
       "            <td>Colts 1    </td> <td>12.7     </td> <td>12.35    </td> <td>12.525  </td>\n",
       "        </tr>\n",
       "        <tr>\n",
       "            <td>Colts 2    </td> <td>12.75    </td> <td>12.3     </td> <td>12.525  </td>\n",
       "        </tr>\n",
       "        <tr>\n",
       "            <td>Colts 3    </td> <td>12.5     </td> <td>12.95    </td> <td>12.725  </td>\n",
       "        </tr>\n",
       "        <tr>\n",
       "            <td>Colts 4    </td> <td>12.55    </td> <td>12.15    </td> <td>12.35   </td>\n",
       "        </tr>\n",
       "    </tbody>\n",
       "</table>"
      ],
      "text/plain": [
       "<IPython.core.display.HTML object>"
      ]
     },
     "metadata": {},
     "output_type": "display_data"
    }
   ],
   "source": [
    "#get mean pressure\n",
    "football = football.with_column('Combined',(football.column(1)+football.column(2))/2)\n",
    "football.show()"
   ]
  },
  {
   "cell_type": "code",
   "execution_count": 83,
   "metadata": {},
   "outputs": [
    {
     "data": {
      "text/html": [
       "<table border=\"1\" class=\"dataframe\">\n",
       "    <thead>\n",
       "        <tr>\n",
       "            <th>Ball</th> <th> Blakeman</th> <th> Prioleau</th> <th>Combined</th> <th>Drop</th>\n",
       "        </tr>\n",
       "    </thead>\n",
       "    <tbody>\n",
       "        <tr>\n",
       "            <td>Patriots 1 </td> <td>11.5     </td> <td>11.8     </td> <td>11.65   </td> <td>0.85 </td>\n",
       "        </tr>\n",
       "        <tr>\n",
       "            <td>Patriots 2 </td> <td>10.85    </td> <td>11.2     </td> <td>11.025  </td> <td>1.475</td>\n",
       "        </tr>\n",
       "        <tr>\n",
       "            <td>Patriots 3 </td> <td>11.15    </td> <td>11.5     </td> <td>11.325  </td> <td>1.175</td>\n",
       "        </tr>\n",
       "        <tr>\n",
       "            <td>Patriots 4 </td> <td>10.7     </td> <td>11       </td> <td>10.85   </td> <td>1.65 </td>\n",
       "        </tr>\n",
       "        <tr>\n",
       "            <td>Patriots 5 </td> <td>11.1     </td> <td>11.45    </td> <td>11.275  </td> <td>1.225</td>\n",
       "        </tr>\n",
       "        <tr>\n",
       "            <td>Patriots 6 </td> <td>11.6     </td> <td>11.95    </td> <td>11.775  </td> <td>0.725</td>\n",
       "        </tr>\n",
       "        <tr>\n",
       "            <td>Patriots 7 </td> <td>11.85    </td> <td>12.3     </td> <td>12.075  </td> <td>0.425</td>\n",
       "        </tr>\n",
       "        <tr>\n",
       "            <td>Patriots 8 </td> <td>11.1     </td> <td>11.55    </td> <td>11.325  </td> <td>1.175</td>\n",
       "        </tr>\n",
       "        <tr>\n",
       "            <td>Patriots 9 </td> <td>10.95    </td> <td>11.35    </td> <td>11.15   </td> <td>1.35 </td>\n",
       "        </tr>\n",
       "        <tr>\n",
       "            <td>Patriots 10</td> <td>10.5     </td> <td>10.9     </td> <td>10.7    </td> <td>1.8  </td>\n",
       "        </tr>\n",
       "        <tr>\n",
       "            <td>Patriots 11</td> <td>10.9     </td> <td>11.35    </td> <td>11.125  </td> <td>1.375</td>\n",
       "        </tr>\n",
       "    </tbody>\n",
       "</table>"
      ],
      "text/plain": [
       "<IPython.core.display.HTML object>"
      ]
     },
     "metadata": {},
     "output_type": "display_data"
    }
   ],
   "source": [
    "patriots = football.where('Ball', are.containing('Patriots'))\n",
    "patriots = patriots.with_column('Drop', 12.5-patriots.column('Combined'))\n",
    "patriots.show()"
   ]
  },
  {
   "cell_type": "code",
   "execution_count": 84,
   "metadata": {},
   "outputs": [
    {
     "data": {
      "text/html": [
       "<table border=\"1\" class=\"dataframe\">\n",
       "    <thead>\n",
       "        <tr>\n",
       "            <th>Ball</th> <th> Blakeman</th> <th> Prioleau</th> <th>Combined</th> <th>Drop</th>\n",
       "        </tr>\n",
       "    </thead>\n",
       "    <tbody>\n",
       "        <tr>\n",
       "            <td>Colts 1</td> <td>12.7     </td> <td>12.35    </td> <td>12.525  </td> <td>0.475</td>\n",
       "        </tr>\n",
       "        <tr>\n",
       "            <td>Colts 2</td> <td>12.75    </td> <td>12.3     </td> <td>12.525  </td> <td>0.475</td>\n",
       "        </tr>\n",
       "        <tr>\n",
       "            <td>Colts 3</td> <td>12.5     </td> <td>12.95    </td> <td>12.725  </td> <td>0.275</td>\n",
       "        </tr>\n",
       "        <tr>\n",
       "            <td>Colts 4</td> <td>12.55    </td> <td>12.15    </td> <td>12.35   </td> <td>0.65 </td>\n",
       "        </tr>\n",
       "    </tbody>\n",
       "</table>"
      ],
      "text/plain": [
       "Ball    |  Blakeman |  Prioleau | Combined | Drop\n",
       "Colts 1 | 12.7      | 12.35     | 12.525   | 0.475\n",
       "Colts 2 | 12.75     | 12.3      | 12.525   | 0.475\n",
       "Colts 3 | 12.5      | 12.95     | 12.725   | 0.275\n",
       "Colts 4 | 12.55     | 12.15     | 12.35    | 0.65"
      ]
     },
     "execution_count": 84,
     "metadata": {},
     "output_type": "execute_result"
    }
   ],
   "source": [
    "colts = football.where('Ball', are.containing('Colts'))\n",
    "colts = colts.with_column('Drop', 13.0-colts.column('Combined'))\n",
    "colts"
   ]
  },
  {
   "cell_type": "code",
   "execution_count": 88,
   "metadata": {},
   "outputs": [
    {
     "data": {
      "text/plain": [
       "1.202272727272728"
      ]
     },
     "execution_count": 88,
     "metadata": {},
     "output_type": "execute_result"
    }
   ],
   "source": [
    "patriots_mean = patriots.column('Drop').mean()\n",
    "patriots_mean"
   ]
  },
  {
   "cell_type": "code",
   "execution_count": 86,
   "metadata": {},
   "outputs": [
    {
     "data": {
      "text/plain": [
       "1.0066666666666673"
      ]
     },
     "execution_count": 86,
     "metadata": {},
     "output_type": "execute_result"
    }
   ],
   "source": [
    "overall_mean = (np.sum(patriots.column('Drop'))+np.sum(colts.column('Drop')))/(patriots.column('Drop').shape[0]+colts.column('Drop').shape[0])\n",
    "overall_mean"
   ]
  },
  {
   "cell_type": "code",
   "execution_count": 91,
   "metadata": {},
   "outputs": [
    {
     "data": {
      "text/plain": [
       "0.19560606060606078"
      ]
     },
     "execution_count": 91,
     "metadata": {},
     "output_type": "execute_result"
    }
   ],
   "source": [
    "#observed statistic = patriots_mean - overall_mean\n",
    "observed_statistic = patriots_mean - overall_mean\n",
    "observed_statistic"
   ]
  },
  {
   "cell_type": "markdown",
   "metadata": {},
   "source": [
    "Null hypothesis.\n",
    "The Patriots' drops are like a random sample of 11 out of all 15 drops. The average came out higher than that of the Colts' drops due to chance variation.\n",
    "\n",
    "Alternative hypotheis.\n",
    "The Patriots' drops are too large to be the result of chance variation alone.\n",
    "\n",
    "If the null hypothesis were true, then the Patriots' drops would be comparable to 11 drops drawn at random without replacement from all 15 drops. So let's create an array of all 15 drops and draw at random from it.\n"
   ]
  },
  {
   "cell_type": "code",
   "execution_count": 92,
   "metadata": {},
   "outputs": [
    {
     "data": {
      "text/html": [
       "<table border=\"1\" class=\"dataframe\">\n",
       "    <thead>\n",
       "        <tr>\n",
       "            <th>Drop</th>\n",
       "        </tr>\n",
       "    </thead>\n",
       "    <tbody>\n",
       "        <tr>\n",
       "            <td>0.85 </td>\n",
       "        </tr>\n",
       "        <tr>\n",
       "            <td>1.475</td>\n",
       "        </tr>\n",
       "        <tr>\n",
       "            <td>1.175</td>\n",
       "        </tr>\n",
       "        <tr>\n",
       "            <td>1.65 </td>\n",
       "        </tr>\n",
       "        <tr>\n",
       "            <td>1.225</td>\n",
       "        </tr>\n",
       "        <tr>\n",
       "            <td>0.725</td>\n",
       "        </tr>\n",
       "        <tr>\n",
       "            <td>0.425</td>\n",
       "        </tr>\n",
       "        <tr>\n",
       "            <td>1.175</td>\n",
       "        </tr>\n",
       "        <tr>\n",
       "            <td>1.35 </td>\n",
       "        </tr>\n",
       "        <tr>\n",
       "            <td>1.8  </td>\n",
       "        </tr>\n",
       "        <tr>\n",
       "            <td>1.375</td>\n",
       "        </tr>\n",
       "        <tr>\n",
       "            <td>0.475</td>\n",
       "        </tr>\n",
       "        <tr>\n",
       "            <td>0.475</td>\n",
       "        </tr>\n",
       "        <tr>\n",
       "            <td>0.275</td>\n",
       "        </tr>\n",
       "        <tr>\n",
       "            <td>0.65 </td>\n",
       "        </tr>\n",
       "    </tbody>\n",
       "</table>"
      ],
      "text/plain": [
       "<IPython.core.display.HTML object>"
      ]
     },
     "metadata": {},
     "output_type": "display_data"
    }
   ],
   "source": [
    "drops = Table().with_column(\n",
    "'Drop', np.append(patriots.column('Drop'),\n",
    "colts.column('Drop'))\n",
    ")\n",
    "drops.show()"
   ]
  },
  {
   "cell_type": "code",
   "execution_count": 93,
   "metadata": {},
   "outputs": [],
   "source": [
    "#do experiment for 10000 times, sample without repalcement\n",
    "#new_statistic = patriots_mean - overall_mean\n",
    "#no need to compute overall mean again\n",
    "simulated_statistics = make_array()\n",
    "repetitions = 10000\n",
    "for i in np.arange(repetitions):\n",
    "  shuffled = drops.sample(with_replacement=False)\n",
    "  new_patriots_mean = shuffled.take(np.arange(11)).column(0).mean()\n",
    "  new_statistic = new_patriots_mean - overall_mean\n",
    "  simulated_statistics = np.append(simulated_statistics, new_statistic)"
   ]
  },
  {
   "cell_type": "code",
   "execution_count": 94,
   "metadata": {},
   "outputs": [
    {
     "data": {
      "text/plain": [
       "0.0032"
      ]
     },
     "execution_count": 94,
     "metadata": {},
     "output_type": "execute_result"
    }
   ],
   "source": [
    "empirical_P = np.count_nonzero(simulated_statistics >= observed_statistic)/repetitions\n",
    "empirical_P"
   ]
  },
  {
   "cell_type": "code",
   "execution_count": 96,
   "metadata": {},
   "outputs": [
    {
     "name": "stdout",
     "output_type": "stream",
     "text": [
      "Observed Statistic: 0.19560606060606078\n",
      "Empirical P: 0.0032\n"
     ]
    },
    {
     "data": {
      "image/png": "[encoded data removed]",
      "text/plain": [
       "<Figure size 432x288 with 1 Axes>"
      ]
     },
     "metadata": {},
     "output_type": "display_data"
    }
   ],
   "source": [
    "print('Observed Statistic:', observed_statistic)\n",
    "print('Empirical P:', empirical_P)\n",
    "results = Table().with_column('Simulated Statistic', simulated_statistics)\n",
    "results.hist()\n",
    "plt.scatter(observed_statistic, 0, color='red', s=30);"
   ]
  },
  {
   "cell_type": "markdown",
   "metadata": {},
   "source": [
    "The observed value of the test statistic is quite far away from the heart of the distribution. By any reasonable cutoff for what is \"small\", the empirical P-value is small. \n",
    "\n",
    "So we end up rejecting the null hypothesis of randomness, and conclude that the Patriots drops were too large to reflect chance variation alone.\n",
    "\n"
   ]
  },
  {
   "cell_type": "markdown",
   "metadata": {},
   "source": [
    "2. Write a function that computes the correlation coefficient r. Your input should two arrays x and y, and you should return the r value. Don’t use a package that already contains an r method, write code that implements the definition."
   ]
  },
  {
   "cell_type": "markdown",
   "metadata": {},
   "source": [
    "r = cov(x,y) / (Std(x)*Std(y))\n",
    "\n",
    " = SUM(xi - Avg(x)) * (yi - Avg(y)) / (Std(x) * Std(y) * (n-1))"
   ]
  },
  {
   "cell_type": "code",
   "execution_count": 75,
   "metadata": {},
   "outputs": [],
   "source": [
    "def compute_r(x,y):\n",
    "    mean_x,mean_y=np.mean(x),np.mean(y)\n",
    "    cov=0\n",
    "    for i,xi in enumerate(x):\n",
    "        cov+=(xi-mean_x)*(y[i]-mean_y)\n",
    "    return cov/(np.std(x)*np.std(y)*len(x))"
   ]
  },
  {
   "cell_type": "code",
   "execution_count": 76,
   "metadata": {},
   "outputs": [],
   "source": [
    "#compute covariance\n",
    "def compute_cov(x,y):\n",
    "    mean_x,mean_y=np.mean(x),np.mean(y)\n",
    "    cov=0\n",
    "    for i,xi in enumerate(x):\n",
    "        cov+=(xi-mean_x)*(y[i]-mean_y)\n",
    "    return cov/len(x)"
   ]
  },
  {
   "cell_type": "code",
   "execution_count": 77,
   "metadata": {},
   "outputs": [
    {
     "name": "stdout",
     "output_type": "stream",
     "text": [
      "Pearson R: 0.7665298003226024\n",
      "Covariance: 3.4444444444444446\n"
     ]
    }
   ],
   "source": [
    "#do experiment\n",
    "a=[1,2,3,8,5,3,5,7,2]\n",
    "b=[3,2,1,8,4,3,6,4,3]\n",
    "print('Pearson R:',compute_r(a,b))\n",
    "print('Covariance:',compute_cov(a,b))"
   ]
  },
  {
   "cell_type": "code",
   "execution_count": 61,
   "metadata": {},
   "outputs": [
    {
     "name": "stdout",
     "output_type": "stream",
     "text": [
      "Pearson R from scipy package: 0.7665298003226024\n"
     ]
    }
   ],
   "source": [
    "#compare the result to the functions in scipy package\n",
    "print('Pearson R from scipy package:',scipy.stats.pearsonr(a,b)[0])"
   ]
  },
  {
   "cell_type": "markdown",
   "metadata": {},
   "source": [
    "3. Use the correlation coefficient function you wrote to answer the following questions:"
   ]
  },
  {
   "cell_type": "markdown",
   "metadata": {},
   "source": [
    "(a) What happens to r if you double each of the values in your data. How does this compare to what happens to the covariance?"
   ]
  },
  {
   "cell_type": "code",
   "execution_count": 62,
   "metadata": {},
   "outputs": [
    {
     "data": {
      "text/plain": [
       "(array([ 2,  4,  6, 16, 10,  6, 10, 14,  4]),\n",
       " array([ 6,  4,  2, 16,  8,  6, 12,  8,  6]))"
      ]
     },
     "execution_count": 62,
     "metadata": {},
     "output_type": "execute_result"
    }
   ],
   "source": [
    "#double data\n",
    "a,b=np.array(a),np.array(b)\n",
    "a2=a*2\n",
    "b2=b*2\n",
    "a2,b2"
   ]
  },
  {
   "cell_type": "code",
   "execution_count": 63,
   "metadata": {},
   "outputs": [
    {
     "name": "stdout",
     "output_type": "stream",
     "text": [
      "Pearson R, double value: 0.7665298003226024\n",
      "Covariance, double value: 13.777777777777779\n"
     ]
    }
   ],
   "source": [
    "print('Pearson R, double value:',compute_r(a2,b2))\n",
    "print('Covariance, double value:',compute_cov(a2,b2))"
   ]
  },
  {
   "cell_type": "code",
   "execution_count": 64,
   "metadata": {},
   "outputs": [
    {
     "data": {
      "text/plain": [
       "4.0"
      ]
     },
     "execution_count": 64,
     "metadata": {},
     "output_type": "execute_result"
    }
   ],
   "source": [
    "compute_cov(a2,b2)/compute_cov(a,b)"
   ]
  },
  {
   "cell_type": "markdown",
   "metadata": {},
   "source": [
    "The Pearson R value stay the same after double each element, while the covariance is 4(2 to the power of 2) times of the original value"
   ]
  },
  {
   "cell_type": "markdown",
   "metadata": {},
   "source": [
    "(b) What happens to r is you add 100 to each value in your data set. How does this compare to what happens to the covariance?"
   ]
  },
  {
   "cell_type": "code",
   "execution_count": 65,
   "metadata": {},
   "outputs": [
    {
     "data": {
      "text/plain": [
       "(array([101, 102, 103, 108, 105, 103, 105, 107, 102]),\n",
       " array([103, 102, 101, 108, 104, 103, 106, 104, 103]))"
      ]
     },
     "execution_count": 65,
     "metadata": {},
     "output_type": "execute_result"
    }
   ],
   "source": [
    "#add 100 to each value\n",
    "a+=100\n",
    "b+=100\n",
    "a,b"
   ]
  },
  {
   "cell_type": "code",
   "execution_count": 66,
   "metadata": {},
   "outputs": [
    {
     "name": "stdout",
     "output_type": "stream",
     "text": [
      "Pearson R, add 100 to value: 0.7665298003226023\n",
      "Covariance, add 100 to value: 3.4444444444444446\n"
     ]
    }
   ],
   "source": [
    "print('Pearson R, add 100 to value:',compute_r(a,b))\n",
    "print('Covariance, add 100 to value:',compute_cov(a,b))"
   ]
  },
  {
   "cell_type": "markdown",
   "metadata": {},
   "source": [
    "Both the Pearson R value and covariance value stay the same after add 100 to each element"
   ]
  },
  {
   "cell_type": "code",
   "execution_count": null,
   "metadata": {},
   "outputs": [],
   "source": []
  }
 ],
 "metadata": {
  "kernelspec": {
   "display_name": "Python 3",
   "language": "python",
   "name": "python3"
  },
  "language_info": {
   "codemirror_mode": {
    "name": "ipython",
    "version": 3
   },
   "file_extension": ".py",
   "mimetype": "text/x-python",
   "name": "python",
   "nbconvert_exporter": "python",
   "pygments_lexer": "ipython3",
   "version": "3.6.6"
  }
 },
 "nbformat": 4,
 "nbformat_minor": 2
}
