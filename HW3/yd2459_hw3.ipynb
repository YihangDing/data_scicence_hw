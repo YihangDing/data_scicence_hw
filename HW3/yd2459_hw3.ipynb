{
 "cells": [
  {
   "cell_type": "markdown",
   "metadata": {},
   "source": [
    "# Homework 3\n",
    "\n",
    "Run the cell below to import the libraries you might need for this homework. Add any libraries you think you will need, then use methods from class to answer the following questions."
   ]
  },
  {
   "cell_type": "code",
   "execution_count": 1,
   "metadata": {},
   "outputs": [],
   "source": [
    "%matplotlib inline\n",
    "import numpy as np\n",
    "from datascience import *\n",
    "import matplotlib.pyplot as plt\n",
    "plt.style.use('fivethirtyeight')"
   ]
  },
  {
   "cell_type": "markdown",
   "metadata": {},
   "source": [
    "## 1. Birth Rates\n"
   ]
  },
  {
   "cell_type": "markdown",
   "metadata": {},
   "source": [
    "The following table gives census-based population estimates for each state on July 1, 2015 and July 1, 2016. The last four columns describe the components of the estimated change in population during this time interval. *For all questions below, assume that the word \"states\" refers to all 52 rows including Puerto Rico & the District of Columbia.* Run the cell below to get the table in the correct format, upon which this problem is based."
   ]
  },
  {
   "cell_type": "code",
   "execution_count": 3,
   "metadata": {},
   "outputs": [
    {
     "name": "stderr",
     "output_type": "stream",
     "text": [
      "/Users/apple/anaconda3/lib/python3.6/site-packages/datascience/tables.py:132: FutureWarning: read_table is deprecated, use read_csv instead.\n",
      "  df = pandas.read_table(filepath_or_buffer, *args, **vargs)\n"
     ]
    },
    {
     "data": {
      "text/html": [
       "<table border=\"1\" class=\"dataframe\">\n",
       "    <thead>\n",
       "        <tr>\n",
       "            <th>REGION</th> <th>NAME</th> <th>2015</th> <th>2016</th> <th>BIRTHS</th> <th>DEATHS</th> <th>MIGRATION</th> <th>OTHER</th>\n",
       "        </tr>\n",
       "    </thead>\n",
       "    <tbody>\n",
       "        <tr>\n",
       "            <td>3     </td> <td>Alabama   </td> <td>4,853,875 </td> <td>4,863,300 </td> <td>58,556 </td> <td>52,405 </td> <td>3,874    </td> <td>-600  </td>\n",
       "        </tr>\n",
       "        <tr>\n",
       "            <td>4     </td> <td>Alaska    </td> <td>737,709   </td> <td>741,894   </td> <td>11,255 </td> <td>4,511  </td> <td>-2,557   </td> <td>-2    </td>\n",
       "        </tr>\n",
       "        <tr>\n",
       "            <td>4     </td> <td>Arizona   </td> <td>6,817,565 </td> <td>6,931,071 </td> <td>87,204 </td> <td>56,564 </td> <td>76,405   </td> <td>6,461 </td>\n",
       "        </tr>\n",
       "        <tr>\n",
       "            <td>3     </td> <td>Arkansas  </td> <td>2,977,853 </td> <td>2,988,248 </td> <td>37,936 </td> <td>30,581 </td> <td>3,530    </td> <td>-490  </td>\n",
       "        </tr>\n",
       "        <tr>\n",
       "            <td>4     </td> <td>California</td> <td>38,993,940</td> <td>39,250,017</td> <td>502,848</td> <td>273,850</td> <td>33,530   </td> <td>-6,451</td>\n",
       "        </tr>\n",
       "    </tbody>\n",
       "</table>\n",
       "<p>... (47 rows omitted)</p>"
      ],
      "text/plain": [
       "<IPython.core.display.HTML object>"
      ]
     },
     "metadata": {},
     "output_type": "display_data"
    }
   ],
   "source": [
    "# Don't change this cell; just run it.\n",
    "# From http://www2.census.gov/programs-surveys/popest/datasets/2010-2016/national/totals/nst-est2016-alldata.csv\n",
    "# See http://www2.census.gov/programs-surveys/popest/datasets/2010-2015/national/totals/nst-est2015-alldata.pdf\n",
    "#     for column descriptions. (As of Feb 2017, no descriptions were posted for 2010-2016.)\n",
    "pop = Table.read_table('nst-est2016-alldata.csv').where('SUMLEV', 40).select([1, 4, 12, 13, 27, 34, 62, 69])\n",
    "pop = pop.relabeled(2, '2015').relabeled(3, '2016')\n",
    "pop = pop.relabeled(4, 'BIRTHS').relabeled(5, 'DEATHS')\n",
    "pop = pop.relabeled(6, 'MIGRATION').relabeled(7, 'OTHER')\n",
    "pop.set_format([2, 3, 4, 5, 6, 7], NumberFormatter(decimals=0)).show(5)"
   ]
  },
  {
   "cell_type": "markdown",
   "metadata": {},
   "source": [
    "**Question 1 (3 points).** The annual birth rate for a year-long period is the number of births in that period as a proportion of the population at the start of the period. Which state had the least birth rate?"
   ]
  },
  {
   "cell_type": "code",
   "execution_count": 9,
   "metadata": {},
   "outputs": [
    {
     "data": {
      "text/html": [
       "<table border=\"1\" class=\"dataframe\">\n",
       "    <thead>\n",
       "        <tr>\n",
       "            <th>REGION</th> <th>NAME</th> <th>2015</th> <th>2016</th> <th>BIRTHS</th> <th>DEATHS</th> <th>MIGRATION</th> <th>OTHER</th> <th>birth rate</th>\n",
       "        </tr>\n",
       "    </thead>\n",
       "    <tbody>\n",
       "        <tr>\n",
       "            <td>X     </td> <td>Puerto Rico</td> <td>3,473,181</td> <td>3,411,307</td> <td>30,991</td> <td>28,108</td> <td>-64,757  </td> <td>0    </td> <td>0.00892294</td>\n",
       "        </tr>\n",
       "    </tbody>\n",
       "</table>"
      ],
      "text/plain": [
       "REGION | NAME        | 2015      | 2016      | BIRTHS | DEATHS | MIGRATION | OTHER | birth rate\n",
       "X      | Puerto Rico | 3,473,181 | 3,411,307 | 30,991 | 28,108 | -64,757   | 0     | 0.00892294"
      ]
     },
     "execution_count": 9,
     "metadata": {},
     "output_type": "execute_result"
    }
   ],
   "source": [
    "birth=pop.with_column('birth rate',pop.column('BIRTHS')/pop.column('2015'))\n",
    "birth.sort('birth rate').take(0)"
   ]
  },
  {
   "cell_type": "markdown",
   "metadata": {},
   "source": [
    "It's Puerto Rico"
   ]
  },
  {
   "cell_type": "markdown",
   "metadata": {},
   "source": [
    "**Question 2 (5 points).** Give a table that holds information about the states that had more deaths than births.\n",
    "*Hint: This question requires a method that we used in class. However, this method should be used differently. Remember that to learn about any method and its possible arguments, you may type the method name followed by a \"?\" as shown below. Think of the method that you want to use first, then read about it.*"
   ]
  },
  {
   "cell_type": "code",
   "execution_count": 10,
   "metadata": {},
   "outputs": [
    {
     "data": {
      "text/html": [
       "<table border=\"1\" class=\"dataframe\">\n",
       "    <thead>\n",
       "        <tr>\n",
       "            <th>NAME</th> <th>BIRTHS</th> <th>DEATHS</th>\n",
       "        </tr>\n",
       "    </thead>\n",
       "    <tbody>\n",
       "        <tr>\n",
       "            <td>Maine        </td> <td>12,542</td> <td>13,842</td>\n",
       "        </tr>\n",
       "        <tr>\n",
       "            <td>West Virginia</td> <td>19,799</td> <td>22,479</td>\n",
       "        </tr>\n",
       "    </tbody>\n",
       "</table>"
      ],
      "text/plain": [
       "NAME          | BIRTHS | DEATHS\n",
       "Maine         | 12,542 | 13,842\n",
       "West Virginia | 19,799 | 22,479"
      ]
     },
     "execution_count": 10,
     "metadata": {},
     "output_type": "execute_result"
    }
   ],
   "source": [
    "pop.select('NAME','BIRTHS','DEATHS').where(pop.column('BIRTHS')-pop.column('DEATHS'),are.below(0))\n",
    "#We chose just an arbitrary method here to remind you how to learn about different methods"
   ]
  },
  {
   "cell_type": "markdown",
   "metadata": {},
   "source": [
    "**Question 3 (4 points).** The annual rate of migration for a year-long period is the net number of migrations (in and out) as a proportion of the population at the start of the period. The `MIGRATION` column contains estimated annual net migration counts by state. Write a function called `displayHighestMovers`, which takes a table as input and returns as output an array holding the names of states with annual rate of migration was higher than 1%. The array should display the name of these states in the order of their corresponding annual rate of migration from highest to lowest."
   ]
  },
  {
   "cell_type": "code",
   "execution_count": 14,
   "metadata": {},
   "outputs": [
    {
     "data": {
      "text/plain": [
       "array(['Florida', 'Nevada', 'Oregon', 'Washington', 'Idaho', 'Arizona',\n",
       "       'Colorado', 'South Carolina'], dtype='<U20')"
      ]
     },
     "execution_count": 14,
     "metadata": {},
     "output_type": "execute_result"
    }
   ],
   "source": [
    "def displayHighestMovers(tab):\n",
    "    mig='MIGRATION'\n",
    "    pop='2015'\n",
    "    res=tab.with_column('MIGRATION RATE',tab.column(mig)/tab.column(pop))\n",
    "    res=res.where(res.column('MIGRATION RATE'),are.above(0.01)).sort('MIGRATION RATE',descending=True)\n",
    "    return res.column('NAME')\n",
    "rate = displayHighestMovers(pop)\n",
    "rate"
   ]
  },
  {
   "cell_type": "markdown",
   "metadata": {},
   "source": [
    "**Question 4 (2 points).** Construct a table that gives the total number of births in each region."
   ]
  },
  {
   "cell_type": "code",
   "execution_count": 18,
   "metadata": {},
   "outputs": [
    {
     "data": {
      "text/html": [
       "<table border=\"1\" class=\"dataframe\">\n",
       "    <thead>\n",
       "        <tr>\n",
       "            <th>REGION</th> <th>TOTAL BIRTHS sum</th>\n",
       "        </tr>\n",
       "    </thead>\n",
       "    <tbody>\n",
       "        <tr>\n",
       "            <td>1     </td> <td>629063          </td>\n",
       "        </tr>\n",
       "        <tr>\n",
       "            <td>2     </td> <td>828188          </td>\n",
       "        </tr>\n",
       "        <tr>\n",
       "            <td>3     </td> <td>1540837         </td>\n",
       "        </tr>\n",
       "        <tr>\n",
       "            <td>4     </td> <td>979657          </td>\n",
       "        </tr>\n",
       "        <tr>\n",
       "            <td>X     </td> <td>30991           </td>\n",
       "        </tr>\n",
       "    </tbody>\n",
       "</table>"
      ],
      "text/plain": [
       "REGION | TOTAL BIRTHS sum\n",
       "1      | 629063\n",
       "2      | 828188\n",
       "3      | 1540837\n",
       "4      | 979657\n",
       "X      | 30991"
      ]
     },
     "execution_count": 18,
     "metadata": {},
     "output_type": "execute_result"
    }
   ],
   "source": [
    "birth_tab=Table().with_column('REGION',pop.column('REGION'),'TOTAL BIRTHS',pop.column('BIRTHS')).group('REGION',sum)\n",
    "birth_tab"
   ]
  },
  {
   "cell_type": "markdown",
   "metadata": {},
   "source": [
    "**Question 5 (2 points).** How many states had a total population in 2016 that was smaller than the total number of babies born in region 4?"
   ]
  },
  {
   "cell_type": "code",
   "execution_count": 24,
   "metadata": {},
   "outputs": [
    {
     "data": {
      "text/plain": [
       "979657"
      ]
     },
     "execution_count": 24,
     "metadata": {},
     "output_type": "execute_result"
    }
   ],
   "source": [
    "#get total number of babies born in region 4\n",
    "bi=birth_tab.where('REGION',are.equal_to('4')).column('TOTAL BIRTHS sum')\n",
    "bi[0]"
   ]
  },
  {
   "cell_type": "code",
   "execution_count": 31,
   "metadata": {},
   "outputs": [
    {
     "name": "stdout",
     "output_type": "stream",
     "text": [
      "Answer: 7\n"
     ]
    }
   ],
   "source": [
    "small=pop.where('2016',are.below(bi[0]))\n",
    "ans=len(list(small.column(0)))\n",
    "print('Answer:',ans)"
   ]
  },
  {
   "cell_type": "markdown",
   "metadata": {},
   "source": [
    "**Question 6 (4 points).** Was there an association between birth rate and death rate during this time interval? Support your conclusion with a chart. If an association exists, what might explain it? "
   ]
  },
  {
   "cell_type": "code",
   "execution_count": 50,
   "metadata": {},
   "outputs": [
    {
     "data": {
      "image/png": "[encoded data removed]",
      "text/plain": [
       "<Figure size 360x360 with 1 Axes>"
      ]
     },
     "metadata": {},
     "output_type": "display_data"
    }
   ],
   "source": [
    "normal=pop.with_column('NORM BIRTHS',pop.column('BIRTHS')/pop.column('2015'),'NORM DEATHS',pop.column('DEATHS')/pop.column('2015'))\n",
    "normal.scatter('NORM BIRTHS','NORM DEATHS')"
   ]
  },
  {
   "cell_type": "markdown",
   "metadata": {},
   "source": [
    "As birth rate goes up, death rate goes down."
   ]
  },
  {
   "cell_type": "markdown",
   "metadata": {},
   "source": [
    "## 2. Consumer Financial Protection Bureau Complaints\n"
   ]
  },
  {
   "cell_type": "markdown",
   "metadata": {},
   "source": [
    "The Consumer Financial Protection Bureau has collected and published consumer complaints against financial companies since 2011.  These financial companies offer a variety of products. The data are available [here](https://dev.socrata.com/foundry/data.consumerfinance.gov/jhzv-w97w) (or at this [direct link](https://data.consumerfinance.gov/resource/jhzv-w97w.csv)). "
   ]
  },
  {
   "cell_type": "markdown",
   "metadata": {},
   "source": [
    "**Question 1 (2 points).** Read in the data and keep the complaints from 2016 only."
   ]
  },
  {
   "cell_type": "code",
   "execution_count": 4,
   "metadata": {},
   "outputs": [],
   "source": [
    "comp=Table.read_table('cc_2016_final.csv')"
   ]
  },
  {
   "cell_type": "code",
   "execution_count": 5,
   "metadata": {},
   "outputs": [
    {
     "data": {
      "text/html": [
       "<table border=\"1\" class=\"dataframe\">\n",
       "    <thead>\n",
       "        <tr>\n",
       "            <th>Date received</th> <th>Product</th> <th>Sub-product</th> <th>Issue</th> <th>Sub-issue</th> <th>Consumer complaint narrative</th> <th>Company public response</th> <th>Company</th> <th>State</th> <th>ZIP code</th> <th>Tags</th> <th>Consumer consent provided?</th> <th>Submitted via</th> <th>Date sent to company</th> <th>Company response to consumer</th> <th>Timely response?</th> <th>Consumer disputed?</th> <th>Complaint ID</th>\n",
       "        </tr>\n",
       "    </thead>\n",
       "    <tbody>\n",
       "        <tr>\n",
       "            <td>12/31/16     </td> <td>Debt collection</td> <td>Medical                           </td> <td>Improper contact or sharing of info  </td> <td>Talked to a third party about my debt</td> <td>nan                                                         </td> <td>Company believes it acted appropriately as authorized by ...</td> <td>AmeriCollect                     </td> <td>FL   </td> <td>32068   </td> <td>nan </td> <td>Consent not provided      </td> <td>Web          </td> <td>12/31/16            </td> <td>Closed with explanation        </td> <td>Yes             </td> <td>No                </td> <td>2270572     </td>\n",
       "        </tr>\n",
       "        <tr>\n",
       "            <td>12/31/16     </td> <td>Consumer Loan  </td> <td>Vehicle loan                      </td> <td>Managing the loan or lease           </td> <td>nan                                  </td> <td>nan                                                         </td> <td>nan                                                         </td> <td>TOYOTA MOTOR CREDIT CORPORATION  </td> <td>PA   </td> <td>18020   </td> <td>nan </td> <td>Consent not provided      </td> <td>Web          </td> <td>12/31/16            </td> <td>Closed with explanation        </td> <td>Yes             </td> <td>No                </td> <td>2270662     </td>\n",
       "        </tr>\n",
       "        <tr>\n",
       "            <td>12/31/16     </td> <td>Consumer Loan  </td> <td>Installment loan                  </td> <td>Taking out the loan or lease         </td> <td>nan                                  </td> <td>nan                                                         </td> <td>nan                                                         </td> <td>DISCOVER BANK                    </td> <td>OH   </td> <td>44138   </td> <td>nan </td> <td>Consent not provided      </td> <td>Web          </td> <td>1/3/17              </td> <td>Closed with explanation        </td> <td>Yes             </td> <td>No                </td> <td>2270746     </td>\n",
       "        </tr>\n",
       "        <tr>\n",
       "            <td>12/31/16     </td> <td>Credit card    </td> <td>nan                               </td> <td>Delinquent account                   </td> <td>nan                                  </td> <td>nan                                                         </td> <td>Company has responded to the consumer and the CFPB and c ...</td> <td>SYNCHRONY FINANCIAL              </td> <td>TX   </td> <td>77471   </td> <td>nan </td> <td>Consent not provided      </td> <td>Web          </td> <td>12/31/16            </td> <td>Closed with non-monetary relief</td> <td>Yes             </td> <td>No                </td> <td>2270618     </td>\n",
       "        </tr>\n",
       "        <tr>\n",
       "            <td>12/31/16     </td> <td>Credit card    </td> <td>nan                               </td> <td>Identity theft / Fraud / Embezzlement</td> <td>nan                                  </td> <td>nan                                                         </td> <td>nan                                                         </td> <td>CAPITAL ONE FINANCIAL CORPORATION</td> <td>NY   </td> <td>10466   </td> <td>nan </td> <td>Consent not provided      </td> <td>Web          </td> <td>12/31/16            </td> <td>Closed with explanation        </td> <td>Yes             </td> <td>No                </td> <td>2270636     </td>\n",
       "        </tr>\n",
       "        <tr>\n",
       "            <td>12/31/16     </td> <td>Student loan   </td> <td>Federal student loan servicing    </td> <td>Dealing with my lender or servicer   </td> <td>Having problems with customer service</td> <td>nan                                                         </td> <td>Company believes it acted appropriately as authorized by ...</td> <td>GREAT LAKES                      </td> <td>AZ   </td> <td>85142   </td> <td>nan </td> <td>Consent not provided      </td> <td>Web          </td> <td>1/3/17              </td> <td>Closed with explanation        </td> <td>Yes             </td> <td>No                </td> <td>2270784     </td>\n",
       "        </tr>\n",
       "        <tr>\n",
       "            <td>12/31/16     </td> <td>Mortgage       </td> <td>Home equity loan or line of credit</td> <td>Credit decision / Underwriting       </td> <td>nan                                  </td> <td>nan                                                         </td> <td>nan                                                         </td> <td>PNC Bank N.A.                    </td> <td>NJ   </td> <td>7032    </td> <td>nan </td> <td>Consent not provided      </td> <td>Web          </td> <td>12/31/16            </td> <td>Closed with explanation        </td> <td>Yes             </td> <td>No                </td> <td>2270626     </td>\n",
       "        </tr>\n",
       "        <tr>\n",
       "            <td>12/31/16     </td> <td>Consumer Loan  </td> <td>Installment loan                  </td> <td>Taking out the loan or lease         </td> <td>nan                                  </td> <td>nan                                                         </td> <td>nan                                                         </td> <td>PAYPAL HOLDINGS INC.             </td> <td>NC   </td> <td>28813   </td> <td>nan </td> <td>Other                     </td> <td>Web          </td> <td>1/19/17             </td> <td>Closed with explanation        </td> <td>Yes             </td> <td>Yes               </td> <td>2270730     </td>\n",
       "        </tr>\n",
       "        <tr>\n",
       "            <td>12/31/16     </td> <td>Mortgage       </td> <td>Conventional fixed mortgage       </td> <td>Credit decision / Underwriting       </td> <td>nan                                  </td> <td>nan                                                         </td> <td>nan                                                         </td> <td>Ditech Financial LLC             </td> <td>IL   </td> <td>605XX   </td> <td>nan </td> <td>Consent not provided      </td> <td>Web          </td> <td>12/31/16            </td> <td>Closed with explanation        </td> <td>Yes             </td> <td>No                </td> <td>2270635     </td>\n",
       "        </tr>\n",
       "        <tr>\n",
       "            <td>12/31/16     </td> <td>Credit card    </td> <td>nan                               </td> <td>Billing statement                    </td> <td>nan                                  </td> <td>Wells Fargo does not show the customer the statement bal ...</td> <td>Company has responded to the consumer and the CFPB and c ...</td> <td>WELLS FARGO & COMPANY            </td> <td>TX   </td> <td>752XX   </td> <td>nan </td> <td>Consent provided          </td> <td>Web          </td> <td>12/31/16            </td> <td>Closed with explanation        </td> <td>No              </td> <td>No                </td> <td>2270321     </td>\n",
       "        </tr>\n",
       "    </tbody>\n",
       "</table>\n",
       "<p>... (10567 rows omitted)</p>"
      ],
      "text/plain": [
       "Date received | Product         | Sub-product                        | Issue                                 | Sub-issue                             | Consumer complaint narrative                                 | Company public response                                      | Company                           | State | ZIP code | Tags | Consumer consent provided? | Submitted via | Date sent to company | Company response to consumer    | Timely response? | Consumer disputed? | Complaint ID\n",
       "12/31/16      | Debt collection | Medical                            | Improper contact or sharing of info   | Talked to a third party about my debt | nan                                                          | Company believes it acted appropriately as authorized by ... | AmeriCollect                      | FL    | 32068    | nan  | Consent not provided       | Web           | 12/31/16             | Closed with explanation         | Yes              | No                 | 2270572\n",
       "12/31/16      | Consumer Loan   | Vehicle loan                       | Managing the loan or lease            | nan                                   | nan                                                          | nan                                                          | TOYOTA MOTOR CREDIT CORPORATION   | PA    | 18020    | nan  | Consent not provided       | Web           | 12/31/16             | Closed with explanation         | Yes              | No                 | 2270662\n",
       "12/31/16      | Consumer Loan   | Installment loan                   | Taking out the loan or lease          | nan                                   | nan                                                          | nan                                                          | DISCOVER BANK                     | OH    | 44138    | nan  | Consent not provided       | Web           | 1/3/17               | Closed with explanation         | Yes              | No                 | 2270746\n",
       "12/31/16      | Credit card     | nan                                | Delinquent account                    | nan                                   | nan                                                          | Company has responded to the consumer and the CFPB and c ... | SYNCHRONY FINANCIAL               | TX    | 77471    | nan  | Consent not provided       | Web           | 12/31/16             | Closed with non-monetary relief | Yes              | No                 | 2270618\n",
       "12/31/16      | Credit card     | nan                                | Identity theft / Fraud / Embezzlement | nan                                   | nan                                                          | nan                                                          | CAPITAL ONE FINANCIAL CORPORATION | NY    | 10466    | nan  | Consent not provided       | Web           | 12/31/16             | Closed with explanation         | Yes              | No                 | 2270636\n",
       "12/31/16      | Student loan    | Federal student loan servicing     | Dealing with my lender or servicer    | Having problems with customer service | nan                                                          | Company believes it acted appropriately as authorized by ... | GREAT LAKES                       | AZ    | 85142    | nan  | Consent not provided       | Web           | 1/3/17               | Closed with explanation         | Yes              | No                 | 2270784\n",
       "12/31/16      | Mortgage        | Home equity loan or line of credit | Credit decision / Underwriting        | nan                                   | nan                                                          | nan                                                          | PNC Bank N.A.                     | NJ    | 7032     | nan  | Consent not provided       | Web           | 12/31/16             | Closed with explanation         | Yes              | No                 | 2270626\n",
       "12/31/16      | Consumer Loan   | Installment loan                   | Taking out the loan or lease          | nan                                   | nan                                                          | nan                                                          | PAYPAL HOLDINGS INC.              | NC    | 28813    | nan  | Other                      | Web           | 1/19/17              | Closed with explanation         | Yes              | Yes                | 2270730\n",
       "12/31/16      | Mortgage        | Conventional fixed mortgage        | Credit decision / Underwriting        | nan                                   | nan                                                          | nan                                                          | Ditech Financial LLC              | IL    | 605XX    | nan  | Consent not provided       | Web           | 12/31/16             | Closed with explanation         | Yes              | No                 | 2270635\n",
       "12/31/16      | Credit card     | nan                                | Billing statement                     | nan                                   | Wells Fargo does not show the customer the statement bal ... | Company has responded to the consumer and the CFPB and c ... | WELLS FARGO & COMPANY             | TX    | 752XX    | nan  | Consent provided           | Web           | 12/31/16             | Closed with explanation         | No               | No                 | 2270321\n",
       "... (10567 rows omitted)"
      ]
     },
     "execution_count": 5,
     "metadata": {},
     "output_type": "execute_result"
    }
   ],
   "source": [
    "comp=comp.where(comp.column('Date received'),are.between_or_equal_to('1/1/16', '12/31/16'))\n",
    "comp"
   ]
  },
  {
   "cell_type": "code",
   "execution_count": 17,
   "metadata": {},
   "outputs": [
    {
     "data": {
      "text/plain": [
       "10577"
      ]
     },
     "execution_count": 17,
     "metadata": {},
     "output_type": "execute_result"
    }
   ],
   "source": [
    "#size of comp\n",
    "length=len(list(comp.column(0)))\n",
    "length"
   ]
  },
  {
   "cell_type": "markdown",
   "metadata": {},
   "source": [
    "**Question 2 (5 points).** Draw a sorted bar chart that shows the number of complaints per product in descending order."
   ]
  },
  {
   "cell_type": "code",
   "execution_count": 9,
   "metadata": {},
   "outputs": [
    {
     "data": {
      "text/html": [
       "<table border=\"1\" class=\"dataframe\">\n",
       "    <thead>\n",
       "        <tr>\n",
       "            <th>Product</th> <th>count</th>\n",
       "        </tr>\n",
       "    </thead>\n",
       "    <tbody>\n",
       "        <tr>\n",
       "            <td>Bank account or service</td> <td>1215 </td>\n",
       "        </tr>\n",
       "        <tr>\n",
       "            <td>Consumer Loan          </td> <td>1025 </td>\n",
       "        </tr>\n",
       "        <tr>\n",
       "            <td>Credit card            </td> <td>2284 </td>\n",
       "        </tr>\n",
       "        <tr>\n",
       "            <td>Credit reporting       </td> <td>2455 </td>\n",
       "        </tr>\n",
       "        <tr>\n",
       "            <td>Debt collection        </td> <td>2224 </td>\n",
       "        </tr>\n",
       "        <tr>\n",
       "            <td>Money transfers        </td> <td>139  </td>\n",
       "        </tr>\n",
       "        <tr>\n",
       "            <td>Mortgage               </td> <td>470  </td>\n",
       "        </tr>\n",
       "        <tr>\n",
       "            <td>Other financial service</td> <td>34   </td>\n",
       "        </tr>\n",
       "        <tr>\n",
       "            <td>Payday loan            </td> <td>105  </td>\n",
       "        </tr>\n",
       "        <tr>\n",
       "            <td>Prepaid card           </td> <td>118  </td>\n",
       "        </tr>\n",
       "    </tbody>\n",
       "</table>\n",
       "<p>... (2 rows omitted)</p>"
      ],
      "text/plain": [
       "Product                 | count\n",
       "Bank account or service | 1215\n",
       "Consumer Loan           | 1025\n",
       "Credit card             | 2284\n",
       "Credit reporting        | 2455\n",
       "Debt collection         | 2224\n",
       "Money transfers         | 139\n",
       "Mortgage                | 470\n",
       "Other financial service | 34\n",
       "Payday loan             | 105\n",
       "Prepaid card            | 118\n",
       "... (2 rows omitted)"
      ]
     },
     "execution_count": 9,
     "metadata": {},
     "output_type": "execute_result"
    }
   ],
   "source": [
    "per=comp.select('Product','Complaint ID').group('Product')\n",
    "per"
   ]
  },
  {
   "cell_type": "code",
   "execution_count": 10,
   "metadata": {},
   "outputs": [
    {
     "data": {
      "image/png": "[encoded data removed]",
      "text/plain": [
       "<Figure size 432x432 with 1 Axes>"
      ]
     },
     "metadata": {
      "needs_background": "light"
     },
     "output_type": "display_data"
    }
   ],
   "source": [
    "per.barh('Product','count')"
   ]
  },
  {
   "cell_type": "markdown",
   "metadata": {},
   "source": [
    "**Question 3 (4 points).** Construct a table that summarizes the number of complaints per company and decide whether it's a good idea to draw a bar chart of that data. Explain your answer."
   ]
  },
  {
   "cell_type": "code",
   "execution_count": 13,
   "metadata": {},
   "outputs": [
    {
     "name": "stdout",
     "output_type": "stream",
     "text": [
      "Num of companies: 576\n"
     ]
    }
   ],
   "source": [
    "company=comp.select('Company','Complaint ID').group('Company').column('Company')\n",
    "print('Num of companies:',len(list(company)))"
   ]
  },
  {
   "cell_type": "markdown",
   "metadata": {},
   "source": [
    "It's NOT a good idea, since there are too many companies(576)."
   ]
  },
  {
   "cell_type": "markdown",
   "metadata": {},
   "source": [
    "**Question 4 (4 points).** We denote ${rf}_c$ as the [relative frequency](https://www.mathsisfun.com/data/relative-frequency.html) of complaints made for company c. Draw a bar chart of the 10 companies with highest ${rf}_c$."
   ]
  },
  {
   "cell_type": "markdown",
   "metadata": {},
   "source": [
    "**Note:** Graphs aren't very useful without accurate labels.  Make sure that the text on the horizontal axis of the graph makes sense."
   ]
  },
  {
   "cell_type": "code",
   "execution_count": 24,
   "metadata": {},
   "outputs": [],
   "source": [
    "hi10=comp.select('Company','Complaint ID').group('Company')"
   ]
  },
  {
   "cell_type": "code",
   "execution_count": 25,
   "metadata": {},
   "outputs": [
    {
     "data": {
      "text/html": [
       "<table border=\"1\" class=\"dataframe\">\n",
       "    <thead>\n",
       "        <tr>\n",
       "            <th>Company</th> <th>count</th> <th>FREQUENCY</th>\n",
       "        </tr>\n",
       "    </thead>\n",
       "    <tbody>\n",
       "        <tr>\n",
       "            <td>Experian Information Solutions Inc.</td> <td>2321 </td> <td>0.219438 </td>\n",
       "        </tr>\n",
       "        <tr>\n",
       "            <td>WELLS FARGO & COMPANY              </td> <td>829  </td> <td>0.0783776</td>\n",
       "        </tr>\n",
       "        <tr>\n",
       "            <td>JPMORGAN CHASE & CO.               </td> <td>802  </td> <td>0.0758249</td>\n",
       "        </tr>\n",
       "        <tr>\n",
       "            <td>CAPITAL ONE FINANCIAL CORPORATION  </td> <td>582  </td> <td>0.0550251</td>\n",
       "        </tr>\n",
       "        <tr>\n",
       "            <td>SYNCHRONY FINANCIAL                </td> <td>473  </td> <td>0.0447197</td>\n",
       "        </tr>\n",
       "        <tr>\n",
       "            <td>AMERICAN EXPRESS COMPANY           </td> <td>302  </td> <td>0.0285525</td>\n",
       "        </tr>\n",
       "        <tr>\n",
       "            <td>U.S. BANCORP                       </td> <td>241  </td> <td>0.0227853</td>\n",
       "        </tr>\n",
       "        <tr>\n",
       "            <td>DISCOVER BANK                      </td> <td>218  </td> <td>0.0206108</td>\n",
       "        </tr>\n",
       "        <tr>\n",
       "            <td>ENCORE CAPITAL GROUP INC.          </td> <td>201  </td> <td>0.0190035</td>\n",
       "        </tr>\n",
       "        <tr>\n",
       "            <td>PORTFOLIO RECOVERY ASSOCIATES INC  </td> <td>195  </td> <td>0.0184362</td>\n",
       "        </tr>\n",
       "    </tbody>\n",
       "</table>"
      ],
      "text/plain": [
       "Company                             | count | FREQUENCY\n",
       "Experian Information Solutions Inc. | 2321  | 0.219438\n",
       "WELLS FARGO & COMPANY               | 829   | 0.0783776\n",
       "JPMORGAN CHASE & CO.                | 802   | 0.0758249\n",
       "CAPITAL ONE FINANCIAL CORPORATION   | 582   | 0.0550251\n",
       "SYNCHRONY FINANCIAL                 | 473   | 0.0447197\n",
       "AMERICAN EXPRESS COMPANY            | 302   | 0.0285525\n",
       "U.S. BANCORP                        | 241   | 0.0227853\n",
       "DISCOVER BANK                       | 218   | 0.0206108\n",
       "ENCORE CAPITAL GROUP INC.           | 201   | 0.0190035\n",
       "PORTFOLIO RECOVERY ASSOCIATES INC   | 195   | 0.0184362"
      ]
     },
     "execution_count": 25,
     "metadata": {},
     "output_type": "execute_result"
    }
   ],
   "source": [
    "hi10=hi10.with_column('FREQUENCY',hi10.column('count')/length).sort('FREQUENCY',descending=True).take(np.arange(10))\n",
    "hi10"
   ]
  },
  {
   "cell_type": "code",
   "execution_count": 26,
   "metadata": {},
   "outputs": [
    {
     "data": {
      "image/png": "[encoded data removed]",
      "text/plain": [
       "<Figure size 432x360 with 1 Axes>"
      ]
     },
     "metadata": {
      "needs_background": "light"
     },
     "output_type": "display_data"
    }
   ],
   "source": [
    "hi10.barh('Company','FREQUENCY')"
   ]
  },
  {
   "cell_type": "markdown",
   "metadata": {},
   "source": [
    "## 3. Text Analysis (15 points)\n"
   ]
  },
  {
   "cell_type": "markdown",
   "metadata": {},
   "source": [
    "Go to the website gutenberg.org (as done in lecture).\n",
    "1. Choose a book or books to download (other than the ones already dicussed) and parse it the way you like.\n",
    "2. Formulate an interesting question about your book(s). You could be exploring a certain aspect of one book or comparing a certain aspect across different books. \n",
    "3. Analyze the data to answer your question.\n",
    "4. If applicable, mention one thing about the data, that if collected, would have helped you do better analysis.\n",
    "\n",
    "Be sure to generate at least one chart or graph that helps you answer your question.\n",
    "\n",
    "**Note:** This question is opened ended. There is no one right or wrong answer. \n",
    "    It mimics what happens in real life with data science. You often get \n",
    "    dry data and need to see what you can interpret out of the provided data,\n",
    "    then possibly suggest what kind of extra data you wish to collect to make more useful comments.   Remember that you are doing science, and try to come up with a question that is both interesting, and requires a non-trivial amount of work to answer.\n",
    "    "
   ]
  },
  {
   "cell_type": "markdown",
   "metadata": {},
   "source": [
    "1. Book Selected: Alice’s Adventures in Wonderland by Lewis Carroll"
   ]
  },
  {
   "cell_type": "code",
   "execution_count": 31,
   "metadata": {},
   "outputs": [],
   "source": [
    "import re\n",
    "from urllib.request import urlopen #library for reading urls"
   ]
  },
  {
   "cell_type": "code",
   "execution_count": 34,
   "metadata": {},
   "outputs": [
    {
     "data": {
      "text/html": [
       "<table border=\"1\" class=\"dataframe\">\n",
       "    <thead>\n",
       "        <tr>\n",
       "            <th>Alice</th>\n",
       "        </tr>\n",
       "    </thead>\n",
       "    <tbody>\n",
       "        <tr>\n",
       "            <td>I. Down the Rabbit-Hole Alice was beginning to get very  ...</td>\n",
       "        </tr>\n",
       "        <tr>\n",
       "            <td>II. The Pool of Tears ‘Curiouser and curiouser!’ cried A ...</td>\n",
       "        </tr>\n",
       "        <tr>\n",
       "            <td>III. A Caucus-Race and a Long Tale They were indeed a qu ...</td>\n",
       "        </tr>\n",
       "        <tr>\n",
       "            <td>IV. The Rabbit Sends in a Little Bill It was the White R ...</td>\n",
       "        </tr>\n",
       "        <tr>\n",
       "            <td>V. Advice from a Caterpillar The Caterpillar and Alice l ...</td>\n",
       "        </tr>\n",
       "        <tr>\n",
       "            <td>VI. Pig and Pepper For a minute or two she stood looking ...</td>\n",
       "        </tr>\n",
       "        <tr>\n",
       "            <td>VII. A Mad Tea-Party There was a table set out under a t ...</td>\n",
       "        </tr>\n",
       "        <tr>\n",
       "            <td>VIII. The Queen’s Croquet-Ground A large rose-tree stood ...</td>\n",
       "        </tr>\n",
       "        <tr>\n",
       "            <td>IX. The Mock Turtle’s Story ‘You can’t think how glad I  ...</td>\n",
       "        </tr>\n",
       "        <tr>\n",
       "            <td>X. The Lobster Quadrille The Mock Turtle sighed deeply,  ...</td>\n",
       "        </tr>\n",
       "    </tbody>\n",
       "</table>\n",
       "<p>... (2 rows omitted)</p>"
      ],
      "text/plain": [
       "Alice\n",
       "I. Down the Rabbit-Hole Alice was beginning to get very  ...\n",
       "II. The Pool of Tears ‘Curiouser and curiouser!’ cried A ...\n",
       "III. A Caucus-Race and a Long Tale They were indeed a qu ...\n",
       "IV. The Rabbit Sends in a Little Bill It was the White R ...\n",
       "V. Advice from a Caterpillar The Caterpillar and Alice l ...\n",
       "VI. Pig and Pepper For a minute or two she stood looking ...\n",
       "VII. A Mad Tea-Party There was a table set out under a t ...\n",
       "VIII. The Queen’s Croquet-Ground A large rose-tree stood ...\n",
       "IX. The Mock Turtle’s Story ‘You can’t think how glad I  ...\n",
       "X. The Lobster Quadrille The Mock Turtle sighed deeply,  ...\n",
       "... (2 rows omitted)"
      ]
     },
     "execution_count": 34,
     "metadata": {},
     "output_type": "execute_result"
    }
   ],
   "source": [
    "alice_url='http://www.gutenberg.org/files/11/11-0.txt'\n",
    "alice_chapters = re.sub('\\\\s+', ' ', urlopen(alice_url).read().decode()).split('CHAPTER ')[1:]\n",
    "alice_data = Table().with_columns('Alice', alice_chapters)\n",
    "alice_data"
   ]
  },
  {
   "cell_type": "markdown",
   "metadata": {},
   "source": [
    "2. Question: What kind of moves are rarely written in the book? What can we tell about the stressness of the book from the moves appeared?"
   ]
  },
  {
   "cell_type": "code",
   "execution_count": 39,
   "metadata": {},
   "outputs": [
    {
     "data": {
      "text/html": [
       "<table border=\"1\" class=\"dataframe\">\n",
       "    <thead>\n",
       "        <tr>\n",
       "            <th>Chapter</th> <th>Run</th> <th>Walk</th> <th>Jump</th> <th>Wave</th> <th>Swim</th> <th>Wander</th> <th>Look</th>\n",
       "        </tr>\n",
       "    </thead>\n",
       "    <tbody>\n",
       "        <tr>\n",
       "            <td>1      </td> <td>5   </td> <td>5   </td> <td>2   </td> <td>0   </td> <td>0   </td> <td>1     </td> <td>30  </td>\n",
       "        </tr>\n",
       "        <tr>\n",
       "            <td>2      </td> <td>3   </td> <td>1   </td> <td>0   </td> <td>0   </td> <td>9   </td> <td>0     </td> <td>21  </td>\n",
       "        </tr>\n",
       "        <tr>\n",
       "            <td>3      </td> <td>4   </td> <td>4   </td> <td>0   </td> <td>0   </td> <td>0   </td> <td>0     </td> <td>21  </td>\n",
       "        </tr>\n",
       "        <tr>\n",
       "            <td>4      </td> <td>14  </td> <td>1   </td> <td>2   </td> <td>0   </td> <td>1   </td> <td>2     </td> <td>30  </td>\n",
       "        </tr>\n",
       "        <tr>\n",
       "            <td>5      </td> <td>2   </td> <td>0   </td> <td>0   </td> <td>0   </td> <td>0   </td> <td>2     </td> <td>23  </td>\n",
       "        </tr>\n",
       "        <tr>\n",
       "            <td>6      </td> <td>10  </td> <td>5   </td> <td>4   </td> <td>2   </td> <td>0   </td> <td>0     </td> <td>36  </td>\n",
       "        </tr>\n",
       "        <tr>\n",
       "            <td>7      </td> <td>1   </td> <td>4   </td> <td>2   </td> <td>0   </td> <td>0   </td> <td>0     </td> <td>24  </td>\n",
       "        </tr>\n",
       "        <tr>\n",
       "            <td>8      </td> <td>10  </td> <td>8   </td> <td>4   </td> <td>0   </td> <td>0   </td> <td>2     </td> <td>49  </td>\n",
       "        </tr>\n",
       "        <tr>\n",
       "            <td>9      </td> <td>1   </td> <td>6   </td> <td>0   </td> <td>0   </td> <td>0   </td> <td>0     </td> <td>19  </td>\n",
       "        </tr>\n",
       "        <tr>\n",
       "            <td>10     </td> <td>7   </td> <td>1   </td> <td>2   </td> <td>1   </td> <td>0   </td> <td>0     </td> <td>14  </td>\n",
       "        </tr>\n",
       "    </tbody>\n",
       "</table>\n",
       "<p>... (2 rows omitted)</p>"
      ],
      "text/plain": [
       "Chapter | Run  | Walk | Jump | Wave | Swim | Wander | Look\n",
       "1       | 5    | 5    | 2    | 0    | 0    | 1      | 30\n",
       "2       | 3    | 1    | 0    | 0    | 9    | 0      | 21\n",
       "3       | 4    | 4    | 0    | 0    | 0    | 0      | 21\n",
       "4       | 14   | 1    | 2    | 0    | 1    | 2      | 30\n",
       "5       | 2    | 0    | 0    | 0    | 0    | 2      | 23\n",
       "6       | 10   | 5    | 4    | 2    | 0    | 0      | 36\n",
       "7       | 1    | 4    | 2    | 0    | 0    | 0      | 24\n",
       "8       | 10   | 8    | 4    | 0    | 0    | 2      | 49\n",
       "9       | 1    | 6    | 0    | 0    | 0    | 0      | 19\n",
       "10      | 7    | 1    | 2    | 1    | 0    | 0      | 14\n",
       "... (2 rows omitted)"
      ]
     },
     "execution_count": 39,
     "metadata": {},
     "output_type": "execute_result"
    }
   ],
   "source": [
    "\n",
    "move=Table().with_columns(\n",
    "    'Chapter',np.arange(1,13),\n",
    "    'Run',np.char.count(alice_chapters,'run')+np.char.count(alice_chapters,'ran')+np.char.count(alice_chapters,'running')+np.char.count(alice_chapters,'runs')+np.char.count(alice_chapters,'escape')+np.char.count(alice_chapters,'escaped')+np.char.count(alice_chapters,'escaping')+np.char.count(alice_chapters,'escapes'),\n",
    "    'Walk',np.char.count(alice_chapters,'walk')+np.char.count(alice_chapters,'walked')+np.char.count(alice_chapters,'walking')+np.char.count(alice_chapters,'walks'),\n",
    "    'Jump',np.char.count(alice_chapters,'jump')+np.char.count(alice_chapters,'jumped')+np.char.count(alice_chapters,'jumping')+np.char.count(alice_chapters,'jumps'),\n",
    "    'Wave',np.char.count(alice_chapters,'wave')+np.char.count(alice_chapters,'waved')+np.char.count(alice_chapters,'waving')+np.char.count(alice_chapters,'waves'),\n",
    "    'Swim',np.char.count(alice_chapters,'swim')+np.char.count(alice_chapters,'swam')+np.char.count(alice_chapters,'swimming')+np.char.count(alice_chapters,'swims'),\n",
    "    'Wander',np.char.count(alice_chapters,'wander')+np.char.count(alice_chapters,'wandered')+np.char.count(alice_chapters,'wandering')+np.char.count(alice_chapters,'wanders'),\n",
    "    'Look',np.char.count(alice_chapters,'look')+np.char.count(alice_chapters,'looked')+np.char.count(alice_chapters,'looking')+np.char.count(alice_chapters,'looks')+np.char.count(alice_chapters,'see')+np.char.count(alice_chapters,'saw')+np.char.count(alice_chapters,'seeing')+np.char.count(alice_chapters,'sees')\n",
    ")\n",
    "move    \n",
    "    "
   ]
  },
  {
   "cell_type": "code",
   "execution_count": 41,
   "metadata": {},
   "outputs": [
    {
     "data": {
      "text/plain": [
       "Text(0.5, 1.08, 'Types of Moves')"
      ]
     },
     "execution_count": 41,
     "metadata": {},
     "output_type": "execute_result"
    },
    {
     "data": {
      "image/png": "[encoded data removed]",
      "text/plain": [
       "<Figure size 864x360 with 1 Axes>"
      ]
     },
     "metadata": {
      "needs_background": "light"
     },
     "output_type": "display_data"
    }
   ],
   "source": [
    "move.plot(column_for_xticks = 0, select = np.arange(1,7), width = 12, height = 5)\n",
    "plt.title('Types of Moves', y=1.08)"
   ]
  },
  {
   "cell_type": "markdown",
   "metadata": {},
   "source": [
    "3. Analization: \n",
    "    Swimming and wander rarely appears in the book.\n",
    "    And it seems that chapter 4,8 and 12 are more stressed ,as more 'fierce' moves such as running and jumping appear in the chapter."
   ]
  },
  {
   "cell_type": "markdown",
   "metadata": {},
   "source": [
    "4. It would be helpful if the character that makes the corresponding move are recorded, to better analyze the stressness of the book."
   ]
  },
  {
   "cell_type": "code",
   "execution_count": null,
   "metadata": {},
   "outputs": [],
   "source": []
  }
 ],
 "metadata": {
  "kernelspec": {
   "display_name": "Python 3",
   "language": "python",
   "name": "python3"
  },
  "language_info": {
   "codemirror_mode": {
    "name": "ipython",
    "version": 3
   },
   "file_extension": ".py",
   "mimetype": "text/x-python",
   "name": "python",
   "nbconvert_exporter": "python",
   "pygments_lexer": "ipython3",
   "version": "3.6.6"
  }
 },
 "nbformat": 4,
 "nbformat_minor": 1
}
