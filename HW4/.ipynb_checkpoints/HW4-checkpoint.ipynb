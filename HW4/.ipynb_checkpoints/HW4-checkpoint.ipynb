{
 "cells": [
  {
   "cell_type": "markdown",
   "metadata": {},
   "source": [
    "# Question 1"
   ]
  },
  {
   "cell_type": "markdown",
   "metadata": {},
   "source": [
    "The histogram below shows the time $t$, measured in minutes, it took students to finish their homework. "
   ]
  },
  {
   "cell_type": "code",
   "execution_count": 38,
   "metadata": {},
   "outputs": [
    {
     "data": {
      "image/png": "[encoded data removed]",
      "text/plain": [
       "<IPython.core.display.Image object>"
      ]
     },
     "execution_count": 38,
     "metadata": {},
     "output_type": "execute_result"
    }
   ],
   "source": [
    "%matplotlib inline\n",
    "from matplotlib import pyplot as plt\n",
    "from IPython.display import Image\n",
    "Image(\"histogram.png\")"
   ]
  },
  {
   "cell_type": "markdown",
   "metadata": {},
   "source": [
    "**a)** Construct a frequency table for $t$.\n",
    "\n",
    "**b)** Estimate mean time taken to complete the homework.\n",
    "\n",
    "**c)** Estimate the percentage of students who took less than 20 minutes to finish their homework."
   ]
  },
  {
   "cell_type": "code",
   "execution_count": 5,
   "metadata": {},
   "outputs": [],
   "source": [
    "# a) frequency table\n",
    "from datascience import *\n",
    "import numpy as np"
   ]
  },
  {
   "cell_type": "code",
   "execution_count": 11,
   "metadata": {},
   "outputs": [
    {
     "data": {
      "text/html": [
       "<table border=\"1\" class=\"dataframe\">\n",
       "    <thead>\n",
       "        <tr>\n",
       "            <th>Time Range</th> <th>Start</th> <th>End</th> <th>Persons</th> <th>Frequency</th>\n",
       "        </tr>\n",
       "    </thead>\n",
       "    <tbody>\n",
       "        <tr>\n",
       "            <td>[5,10)    </td> <td>5    </td> <td>10  </td> <td>2      </td> <td>0.111111 </td>\n",
       "        </tr>\n",
       "        <tr>\n",
       "            <td>[10,14)   </td> <td>10   </td> <td>14  </td> <td>4      </td> <td>0.222222 </td>\n",
       "        </tr>\n",
       "        <tr>\n",
       "            <td>[14,18)   </td> <td>14   </td> <td>18  </td> <td>6      </td> <td>0.333333 </td>\n",
       "        </tr>\n",
       "        <tr>\n",
       "            <td>[18,25)   </td> <td>18   </td> <td>25  </td> <td>5      </td> <td>0.277778 </td>\n",
       "        </tr>\n",
       "        <tr>\n",
       "            <td>[25,40)   </td> <td>25   </td> <td>40  </td> <td>1      </td> <td>0.0555556</td>\n",
       "        </tr>\n",
       "    </tbody>\n",
       "</table>"
      ],
      "text/plain": [
       "Time Range | Start | End  | Persons | Frequency\n",
       "[5,10)     | 5     | 10   | 2       | 0.111111\n",
       "[10,14)    | 10    | 14   | 4       | 0.222222\n",
       "[14,18)    | 14    | 18   | 6       | 0.333333\n",
       "[18,25)    | 18    | 25   | 5       | 0.277778\n",
       "[25,40)    | 25    | 40   | 1       | 0.0555556"
      ]
     },
     "execution_count": 11,
     "metadata": {},
     "output_type": "execute_result"
    }
   ],
   "source": [
    "freq=Table().with_column('Time Range',make_array('[5,10)','[10,14)','[14,18)','[18,25)','[25,40)'))\\\n",
    "            .with_column('Start',make_array(5,10,14,18,25)).with_column('End',make_array(10,14,18,25,40))\\\n",
    "            .with_column('Persons',make_array(2,4,6,5,1))\n",
    "freq=freq.with_column('Frequency',freq.column('Persons')/sum([2,4,6,5,1]))\n",
    "freq"
   ]
  },
  {
   "cell_type": "code",
   "execution_count": 14,
   "metadata": {},
   "outputs": [
    {
     "data": {
      "text/plain": [
       "[7.5, 12.0, 16.0, 21.5, 32.5]"
      ]
     },
     "execution_count": 14,
     "metadata": {},
     "output_type": "execute_result"
    }
   ],
   "source": [
    "# b) estimate mean time\n",
    "start=freq.column('Start')\n",
    "end=freq.column('End')\n",
    "#compute mean time for each range\n",
    "each_mean=[np.mean([start[i],end[i]]) for i in range(start.shape[0])]\n",
    "each_mean"
   ]
  },
  {
   "cell_type": "code",
   "execution_count": 20,
   "metadata": {},
   "outputs": [
    {
     "name": "stdout",
     "output_type": "stream",
     "text": [
      "Mean time:  16.61111111111111\n"
     ]
    }
   ],
   "source": [
    "persons=freq.column('Persons')\n",
    "#compute total time: sum(each mean time * number of students in that range)\n",
    "mean_time=[each_mean[i]*persons[i] for i in range(start.shape[0])]\n",
    "mean_time=sum(mean_time)/sum(persons)\n",
    "print('Mean time: ',mean_time)"
   ]
  },
  {
   "cell_type": "code",
   "execution_count": null,
   "metadata": {},
   "outputs": [],
   "source": [
    "#c) Estimate the percentage of students who took less than 20 minutes to finish their homework."
   ]
  },
  {
   "cell_type": "code",
   "execution_count": 22,
   "metadata": {},
   "outputs": [
    {
     "name": "stdout",
     "output_type": "stream",
     "text": [
      "The percentage of students who took less than 20 minutes to finish is: 0.746031746031746\n"
     ]
    }
   ],
   "source": [
    "#P = 1- P(students who take more than 20 minutes)\n",
    "#compute P(students who take more than 20 minutes)\n",
    "percentage=(5*(25-20)/(25-18)+1)/sum(persons)\n",
    "percentage=1-percentage\n",
    "print('The percentage of students who took less than 20 minutes to finish is:',percentage)"
   ]
  },
  {
   "cell_type": "markdown",
   "metadata": {},
   "source": [
    "# Question 2"
   ]
  },
  {
   "cell_type": "markdown",
   "metadata": {},
   "source": [
    "XYZ is an insurance company that is asking for your help to visualize the age distribution of its clients' database and draw conclusions. For confedentiality reasons, you given the data as a CSV file that has only two columns: The first gives the client ID (to keep clients anonymous) and the second is the client's age in years (the variable of interest). Load the data from `Ages.csv` into a `Table`, explore it then explain how you would be able to help XYZ. You may use the following questions as guidelines, but are welcome to be creative:\n",
    "\n",
    "1. Which plots can you generate from the data?\n",
    "2. Which plot is most suitable for visualizing the distribution of data?\n",
    "3. How would you divide or group your data to make best sense of it?\n",
    "4. How would you label the axes on your plot?\n",
    "5. What insights can be drawn from the plot?\n",
    "\n",
    "Your answer should start with a brief paragraph explaining how you want to approach the company's question and what options you have. After you decide which is the best way to visualize the data, proceed with writing the code and providing at least one plot which you think fits the goal of XYZ. Finally, give at least two useful insights you can conclude from looking at your plot.\n",
    "\n",
    "Remember in data science there is no right or wrong; do what you think is right but be able to explain what you are doing and why you are doing it this way."
   ]
  },
  {
   "cell_type": "code",
   "execution_count": 76,
   "metadata": {},
   "outputs": [
    {
     "data": {
      "text/html": [
       "<table border=\"1\" class=\"dataframe\">\n",
       "    <thead>\n",
       "        <tr>\n",
       "            <th>Client ID</th> <th>Age</th>\n",
       "        </tr>\n",
       "    </thead>\n",
       "    <tbody>\n",
       "        <tr>\n",
       "            <td>11371    </td> <td>35  </td>\n",
       "        </tr>\n",
       "        <tr>\n",
       "            <td>11876    </td> <td>13  </td>\n",
       "        </tr>\n",
       "        <tr>\n",
       "            <td>12469    </td> <td>32  </td>\n",
       "        </tr>\n",
       "        <tr>\n",
       "            <td>13030    </td> <td>43  </td>\n",
       "        </tr>\n",
       "        <tr>\n",
       "            <td>13380    </td> <td>95  </td>\n",
       "        </tr>\n",
       "        <tr>\n",
       "            <td>15297    </td> <td>11  </td>\n",
       "        </tr>\n",
       "        <tr>\n",
       "            <td>15364    </td> <td>10  </td>\n",
       "        </tr>\n",
       "        <tr>\n",
       "            <td>17280    </td> <td>72  </td>\n",
       "        </tr>\n",
       "        <tr>\n",
       "            <td>17999    </td> <td>3   </td>\n",
       "        </tr>\n",
       "        <tr>\n",
       "            <td>18053    </td> <td>55  </td>\n",
       "        </tr>\n",
       "    </tbody>\n",
       "</table>\n",
       "<p>... (90 rows omitted)</p>"
      ],
      "text/plain": [
       "Client ID | Age\n",
       "11371     | 35\n",
       "11876     | 13\n",
       "12469     | 32\n",
       "13030     | 43\n",
       "13380     | 95\n",
       "15297     | 11\n",
       "15364     | 10\n",
       "17280     | 72\n",
       "17999     | 3\n",
       "18053     | 55\n",
       "... (90 rows omitted)"
      ]
     },
     "execution_count": 76,
     "metadata": {},
     "output_type": "execute_result"
    }
   ],
   "source": [
    "ages=Table().read_table('Ages.csv')\n",
    "ages"
   ]
  },
  {
   "cell_type": "markdown",
   "metadata": {},
   "source": [
    "1. I can generate the number of clients w.r.t. the ages, to show the distribution of the ages of clients. Histogram is most suitable for visualizing the distribution, as it shows the number of each age clearly.\n",
    "    \n",
    "    X axis should be age range, and Y aixs should be percentage."
   ]
  },
  {
   "cell_type": "code",
   "execution_count": 85,
   "metadata": {},
   "outputs": [
    {
     "data": {
      "text/plain": [
       "100"
      ]
     },
     "execution_count": 85,
     "metadata": {},
     "output_type": "execute_result"
    }
   ],
   "source": [
    "age=ages.column('Age')\n",
    "num=age.shape[0]\n",
    "num"
   ]
  },
  {
   "cell_type": "code",
   "execution_count": 44,
   "metadata": {
    "scrolled": false
   },
   "outputs": [
    {
     "data": {
      "image/png": "[encoded data removed]",
      "text/plain": [
       "<Figure size 360x288 with 1 Axes>"
      ]
     },
     "metadata": {
      "needs_background": "light"
     },
     "output_type": "display_data"
    }
   ],
   "source": [
    "# get an overview of distribution\n",
    "# draw histgram with unit=5\n",
    "ages.select('Age').hist(bins=np.arange(0,100,5), width=5)"
   ]
  },
  {
   "cell_type": "code",
   "execution_count": 47,
   "metadata": {},
   "outputs": [
    {
     "data": {
      "image/png": "[encoded data removed]",
      "text/plain": [
       "<Figure size 360x288 with 1 Axes>"
      ]
     },
     "metadata": {
      "needs_background": "light"
     },
     "output_type": "display_data"
    }
   ],
   "source": [
    "# draw histgram with unit=10\n",
    "ages.select('Age').hist(bins=np.arange(0,100,10), width=5)"
   ]
  },
  {
   "cell_type": "code",
   "execution_count": 87,
   "metadata": {},
   "outputs": [
    {
     "data": {
      "text/plain": [
       "array([ 8., 18., 13., 19., 15., 10.,  6.,  6.,  3.])"
      ]
     },
     "execution_count": 87,
     "metadata": {},
     "output_type": "execute_result"
    }
   ],
   "source": [
    "#use a counter array to compute percentage of number of persons that belong to specific age range\n",
    "ages_cnt=ages.group('Age')\n",
    "counter=np.zeros(9)\n",
    "for i in range(9):\n",
    "    counter[i]=ages.select('Age').where('Age',are.between(10*i,10*i+10)).num_rows/num*100\n",
    "counter"
   ]
  },
  {
   "cell_type": "code",
   "execution_count": 88,
   "metadata": {},
   "outputs": [
    {
     "data": {
      "text/html": [
       "<table border=\"1\" class=\"dataframe\">\n",
       "    <thead>\n",
       "        <tr>\n",
       "            <th>AGE</th> <th>Percent</th>\n",
       "        </tr>\n",
       "    </thead>\n",
       "    <tbody>\n",
       "        <tr>\n",
       "            <td>[0,10) </td> <td>8      </td>\n",
       "        </tr>\n",
       "        <tr>\n",
       "            <td>[10,20)</td> <td>18     </td>\n",
       "        </tr>\n",
       "        <tr>\n",
       "            <td>[20,30)</td> <td>13     </td>\n",
       "        </tr>\n",
       "        <tr>\n",
       "            <td>[30,40)</td> <td>19     </td>\n",
       "        </tr>\n",
       "        <tr>\n",
       "            <td>[40,50)</td> <td>15     </td>\n",
       "        </tr>\n",
       "        <tr>\n",
       "            <td>[50,60)</td> <td>10     </td>\n",
       "        </tr>\n",
       "        <tr>\n",
       "            <td>[60,70)</td> <td>6      </td>\n",
       "        </tr>\n",
       "        <tr>\n",
       "            <td>[70,80)</td> <td>6      </td>\n",
       "        </tr>\n",
       "        <tr>\n",
       "            <td>[80,90]</td> <td>3      </td>\n",
       "        </tr>\n",
       "    </tbody>\n",
       "</table>"
      ],
      "text/plain": [
       "AGE     | Percent\n",
       "[0,10)  | 8\n",
       "[10,20) | 18\n",
       "[20,30) | 13\n",
       "[30,40) | 19\n",
       "[40,50) | 15\n",
       "[50,60) | 10\n",
       "[60,70) | 6\n",
       "[70,80) | 6\n",
       "[80,90] | 3"
      ]
     },
     "execution_count": 88,
     "metadata": {},
     "output_type": "execute_result"
    }
   ],
   "source": [
    "#create table to provide label\n",
    "ages_group=Table().with_column('AGE',make_array('[0,10)','[10,20)','[20,30)','[30,40)','[40,50)','[50,60)','[60,70)','[70,80)','[80,90]'))\\\n",
    "                .with_column('Percent',counter)\n",
    "ages_group"
   ]
  },
  {
   "cell_type": "code",
   "execution_count": 89,
   "metadata": {},
   "outputs": [
    {
     "data": {
      "image/png": "[encoded data removed]",
      "text/plain": [
       "<Figure size 720x288 with 1 Axes>"
      ]
     },
     "metadata": {
      "needs_background": "light"
     },
     "output_type": "display_data"
    }
   ],
   "source": [
    "ages_group.bar('AGE','Percent',width=10)"
   ]
  },
  {
   "cell_type": "markdown",
   "metadata": {},
   "source": [
    "Insights:\n",
    "\n",
    "    1. People older than 60 only makes 15% of the total sale, which is a lot lower than the proportion of elderly people in the whole population, thus the company could try expanding the business among the elders.\n",
    "    \n",
    "    2. The majority of customers are between 20 to 60, which might be most profitable"
   ]
  },
  {
   "cell_type": "markdown",
   "metadata": {},
   "source": [
    "# Question 3"
   ]
  },
  {
   "cell_type": "markdown",
   "metadata": {},
   "source": [
    "The file `Flowers.csv` contains information about the color of 100 flowers. Use the data to plot a histogram for the colors. Label your axes appropriately. "
   ]
  },
  {
   "cell_type": "code",
   "execution_count": 70,
   "metadata": {},
   "outputs": [
    {
     "data": {
      "text/html": [
       "<table border=\"1\" class=\"dataframe\">\n",
       "    <thead>\n",
       "        <tr>\n",
       "            <th>Color</th>\n",
       "        </tr>\n",
       "    </thead>\n",
       "    <tbody>\n",
       "        <tr>\n",
       "            <td>white </td>\n",
       "        </tr>\n",
       "        <tr>\n",
       "            <td>red   </td>\n",
       "        </tr>\n",
       "        <tr>\n",
       "            <td>yellow</td>\n",
       "        </tr>\n",
       "        <tr>\n",
       "            <td>purple</td>\n",
       "        </tr>\n",
       "        <tr>\n",
       "            <td>white </td>\n",
       "        </tr>\n",
       "        <tr>\n",
       "            <td>red   </td>\n",
       "        </tr>\n",
       "        <tr>\n",
       "            <td>yellow</td>\n",
       "        </tr>\n",
       "        <tr>\n",
       "            <td>red   </td>\n",
       "        </tr>\n",
       "        <tr>\n",
       "            <td>white </td>\n",
       "        </tr>\n",
       "        <tr>\n",
       "            <td>yellow</td>\n",
       "        </tr>\n",
       "    </tbody>\n",
       "</table>\n",
       "<p>... (90 rows omitted)</p>"
      ],
      "text/plain": [
       "Color\n",
       "white\n",
       "red\n",
       "yellow\n",
       "purple\n",
       "white\n",
       "red\n",
       "yellow\n",
       "red\n",
       "white\n",
       "yellow\n",
       "... (90 rows omitted)"
      ]
     },
     "execution_count": 70,
     "metadata": {},
     "output_type": "execute_result"
    }
   ],
   "source": [
    "flower=Table().read_table('Flowers.csv')\n",
    "flower"
   ]
  },
  {
   "cell_type": "code",
   "execution_count": 73,
   "metadata": {},
   "outputs": [
    {
     "data": {
      "text/html": [
       "<table border=\"1\" class=\"dataframe\">\n",
       "    <thead>\n",
       "        <tr>\n",
       "            <th>Color</th> <th>Count sum</th>\n",
       "        </tr>\n",
       "    </thead>\n",
       "    <tbody>\n",
       "        <tr>\n",
       "            <td>blue  </td> <td>6        </td>\n",
       "        </tr>\n",
       "        <tr>\n",
       "            <td>pink  </td> <td>1        </td>\n",
       "        </tr>\n",
       "        <tr>\n",
       "            <td>purple</td> <td>12       </td>\n",
       "        </tr>\n",
       "        <tr>\n",
       "            <td>red   </td> <td>21       </td>\n",
       "        </tr>\n",
       "        <tr>\n",
       "            <td>white </td> <td>13       </td>\n",
       "        </tr>\n",
       "        <tr>\n",
       "            <td>yellow</td> <td>47       </td>\n",
       "        </tr>\n",
       "    </tbody>\n",
       "</table>"
      ],
      "text/plain": [
       "Color  | Count sum\n",
       "blue   | 6\n",
       "pink   | 1\n",
       "purple | 12\n",
       "red    | 21\n",
       "white  | 13\n",
       "yellow | 47"
      ]
     },
     "execution_count": 73,
     "metadata": {},
     "output_type": "execute_result"
    }
   ],
   "source": [
    "#add a row of 1 for grouping\n",
    "length=flower.column('Color').shape[0]\n",
    "flower=flower.with_column('Count',np.ones(length))\n",
    "flower=flower.group('Color',sum)\n",
    "flower"
   ]
  },
  {
   "cell_type": "code",
   "execution_count": 75,
   "metadata": {},
   "outputs": [
    {
     "data": {
      "image/png": "[encoded data removed]",
      "text/plain": [
       "<Figure size 720x288 with 1 Axes>"
      ]
     },
     "metadata": {
      "needs_background": "light"
     },
     "output_type": "display_data"
    }
   ],
   "source": [
    "flower.bar('Color','Count sum', width=10)"
   ]
  },
  {
   "cell_type": "code",
   "execution_count": null,
   "metadata": {},
   "outputs": [],
   "source": []
  }
 ],
 "metadata": {
  "kernelspec": {
   "display_name": "Python 3",
   "language": "python",
   "name": "python3"
  },
  "language_info": {
   "codemirror_mode": {
    "name": "ipython",
    "version": 3
   },
   "file_extension": ".py",
   "mimetype": "text/x-python",
   "name": "python",
   "nbconvert_exporter": "python",
   "pygments_lexer": "ipython3",
   "version": "3.6.6"
  }
 },
 "nbformat": 4,
 "nbformat_minor": 2
}
