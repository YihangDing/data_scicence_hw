{
 "cells": [
  {
   "cell_type": "markdown",
   "metadata": {},
   "source": [
    "# Solutions for HW4\n",
    "### Nicolas Gianoli, Nouri Sakr"
   ]
  },
  {
   "cell_type": "code",
   "execution_count": 15,
   "metadata": {
    "collapsed": true
   },
   "outputs": [],
   "source": [
    "import numpy as np\n",
    "from datascience import *\n",
    "import matplotlib.pyplot as plots\n",
    "plots.style.use('fivethirtyeight')\n",
    "%matplotlib inline"
   ]
  },
  {
   "cell_type": "markdown",
   "metadata": {
    "collapsed": true
   },
   "source": [
    "## Question 1\n",
    "\n",
    "Coins are fair, so :\n",
    "\n",
    "$$ P(H) =P(T) = \\frac{1}{2} $$\n",
    "\n",
    "Thus:\n",
    "\n",
    "$$P(N_{Head}=i) = \\dbinom{n}{i} (\\frac{1}{2})^i (1 - \\frac{1}{2})^{n-i}$$\n",
    "$$P(N_{Head}=i) = \\frac{1}{2^n} \\dbinom{n}{i} $$\n",
    "and :\n",
    "\n",
    "$$P(N_{Head}\\geq i) = \\sum_{k=i}^n P(N_{Head}=k) $$\n",
    "$$P(N_{Head}\\geq i) = \\sum_{k=i}^n\\frac{1}{2^n} \\dbinom{n}{k} $$\n",
    "$$P(N_{Head}\\geq i) = \\frac{1}{2^n} \\sum_{k=i}^n \\dbinom{n}{k} $$\n",
    "\n"
   ]
  },
  {
   "cell_type": "markdown",
   "metadata": {},
   "source": [
    "## Question 2\n",
    "\n",
    "Let D denotes the random variable of a die value.\n",
    "\n",
    "Let S denotes the random variable of sum of three dice values.\n",
    "\n",
    "D can take 6 values $ \\{1,2,3,4,5,6\\}$, 3 are odd, 3 are even. Thus:\n",
    "\n",
    "$ P(\\text{D odd})= P(\\text{D even})= \\frac{1}{2} $\n",
    "\n",
    "and we can use the fact that :\n",
    "\n",
    "$$ P(\\text{S odd}) =  P(\\text{3 dices odd}) + P(\\text{2 dices even and one dice odd}) $$\n",
    "$$ P(\\text{S odd}) =  (\\frac{1}{2})^3 + (\\frac{1}{2})^3 \\dbinom{3}{2} $$\n",
    "$$ P(\\text{S odd}) =  \\frac{1}{2}$$\n"
   ]
  },
  {
   "cell_type": "markdown",
   "metadata": {},
   "source": [
    "## Question 3\n",
    "\n",
    "How many potential 4 card hands ? $\\dbinom{52}{4}  = \\frac{49 \\cdot 50 \\cdot 51 \\cdot 52}{24} $\n",
    "\n",
    "How many 4 card hands with 2 kings ? $\\dbinom{4}{2} \\dbinom{48}{2} = 3 \\cdot 47 \\cdot 48$\n",
    "\n",
    "How many 4 card hands with 3 kings ? $\\dbinom{4}{3} \\dbinom{48}{1} = 4 \\cdot 48 $\n",
    "\n",
    "How many 4 card hands with 4 kings ? $\\dbinom{4}{4} \\dbinom{48}{0} = 1$  \n",
    "\n",
    "\n",
    "$$ P = \\dbinom{9}{1} \\cdot \\frac{(3 \\cdot 47 \\cdot 48) + (4 \\cdot 48) + 1}{\\frac{49 \\cdot 50 \\cdot 51 \\cdot 52}{24} } $$ \n",
    "$$ P = 9 \\cdot 24 \\cdot \\frac{(3 \\cdot 47 \\cdot 48) + (4 \\cdot 48) + 1}{49 \\cdot 50 \\cdot 51 \\cdot 52} $$ "
   ]
  },
  {
   "cell_type": "code",
   "execution_count": 16,
   "metadata": {},
   "outputs": [
    {
     "data": {
      "text/plain": [
       "0.23141194939514267"
      ]
     },
     "execution_count": 16,
     "metadata": {},
     "output_type": "execute_result"
    }
   ],
   "source": [
    "P = 9*24 * ( (3 * 47 * 48) + (4 * 48) + 1 )/(49 * 50 * 51 * 52)\n",
    "P"
   ]
  },
  {
   "cell_type": "markdown",
   "metadata": {},
   "source": [
    "## Question 4\n",
    "\n",
    "Let the random variables $C_1$ and $C_2$ denote the first and the second cards.\n",
    "\n",
    "$$ P(a) = P(C_1=\\text{King})\\cdot P(C_2=\\text{Ace}) + P(C_1=\\text{King})\\cdot P(C_2=\\text{Ace})$$\n",
    "$$ P(a) = \\frac{4}{52} \\cdot \\frac{4}{51} + \\frac{4}{52} \\cdot \\frac{4}{51} $$\n",
    "$$ P(a) =  \\frac{8}{13\\cdot51} $$\n",
    "\n",
    "Similarly :\n",
    "\n",
    "$$ P(b) = P(C_1=\\text{King})\\cdot P(C_2=\\text{Ace}) + P(C_1=\\text{King})\\cdot P(C_2=\\text{Ace})$$\n",
    "$$ P(b) = \\frac{1}{13} \\cdot \\frac{1}{12} + \\frac{1}{13} \\cdot \\frac{1}{12} $$\n",
    "$$ P(b) =  \\frac{1}{13\\cdot6} $$\n",
    "\n",
    "(b) is more likely, but those probabilities are almost the same."
   ]
  },
  {
   "cell_type": "markdown",
   "metadata": {},
   "source": [
    "## Question 5"
   ]
  },
  {
   "cell_type": "code",
   "execution_count": 17,
   "metadata": {},
   "outputs": [
    {
     "name": "stdout",
     "output_type": "stream",
     "text": [
      "Estimated mean time taken to complete the homework :  18.91\n"
     ]
    }
   ],
   "source": [
    "# (a)\n",
    "# The frequencies are calculated as the areas of the corresponding rectangles\n",
    "frequencies = Table().with_columns([\n",
    "    't', ['5-10','10_14','14_18','18_25','25_40'],\n",
    "    'Frequency', [10,16,24,35,15]])\n",
    "\n",
    "# (b)\n",
    "frequencies = frequencies.with_column('average t', [7.5, 12, 16, 21.5, 32.5])\n",
    "estimated_mean_t = (frequencies['Frequency'] * frequencies['average t']).sum()/frequencies['Frequency'].sum()\n",
    "print('Estimated mean time taken to complete the homework : ', estimated_mean_t)"
   ]
  },
  {
   "cell_type": "markdown",
   "metadata": {},
   "source": [
    "**(c)**\n",
    "There are $ 10+16+24 =50 $ students who finished in less than 18 minutes.\n",
    "\n",
    "35 students finished between 18 and 25 minutes.\n",
    "\n",
    "If we assumed that the distribution is uniform, it means that approximately $35 \\times \\frac{20-18}{25-18} = 10$ students finished between 18 and 20.\n",
    "\n",
    "Finally the percentage is $\\frac{60}{100} \\times 100\\% = 60\\% $\n",
    "\n"
   ]
  },
  {
   "cell_type": "markdown",
   "metadata": {},
   "source": [
    "## Question 6"
   ]
  },
  {
   "cell_type": "code",
   "execution_count": 18,
   "metadata": {},
   "outputs": [
    {
     "name": "stdout",
     "output_type": "stream",
     "text": [
      "max age :  95\n"
     ]
    }
   ],
   "source": [
    "ages = Table.read_table('Ages.csv').drop('Client ID')\n",
    "count_ages = ages.group('Age').sort('Age')\n",
    "print('max age : ', count_ages['Age'].max())"
   ]
  },
  {
   "cell_type": "code",
   "execution_count": 19,
   "metadata": {},
   "outputs": [
    {
     "data": {
      "image/png": "[encoded data removed]",
      "text/plain": [
       "<matplotlib.figure.Figure at 0x10a6faef0>"
      ]
     },
     "metadata": {},
     "output_type": "display_data"
    }
   ],
   "source": [
    "# We can start with a cumulative distribution plot\n",
    "cum_sum = np.cumsum(count_ages['count'])\n",
    "plots.plot(count_ages['Age'], cum_sum)\n",
    "plots.xlabel('Age')\n",
    "plots.ylabel('Cumulative percentage of clients')\n",
    "plots.show()"
   ]
  },
  {
   "cell_type": "code",
   "execution_count": 20,
   "metadata": {},
   "outputs": [
    {
     "data": {
      "image/png": "[encoded data removed]",
      "text/plain": [
       "<matplotlib.figure.Figure at 0x10a77b588>"
      ]
     },
     "metadata": {},
     "output_type": "display_data"
    }
   ],
   "source": [
    "# we can plot several histograms\n",
    "# An idea could be to define bins according to the insurance age groups.\n",
    "plots.hist(ages['Age'])\n",
    "plots.xlabel('Age')\n",
    "plots.ylabel('Percentage of clients')\n",
    "plots.show()"
   ]
  },
  {
   "cell_type": "code",
   "execution_count": 22,
   "metadata": {},
   "outputs": [
    {
     "data": {
      "image/png": "[encoded data removed]",
      "text/plain": [
       "<matplotlib.figure.Figure at 0x10a1dbf60>"
      ]
     },
     "metadata": {},
     "output_type": "display_data"
    }
   ],
   "source": [
    "plots.hist(ages['Age'], bins=np.arange(6)*20)\n",
    "plots.xlabel('Age')\n",
    "plots.ylabel('Percentage of clients')\n",
    "plots.show()"
   ]
  },
  {
   "cell_type": "code",
   "execution_count": 24,
   "metadata": {},
   "outputs": [
    {
     "data": {
      "image/png": "[encoded data removed]",
      "text/plain": [
       "<matplotlib.figure.Figure at 0x10a5ee860>"
      ]
     },
     "metadata": {},
     "output_type": "display_data"
    }
   ],
   "source": [
    "plt.hist(ages['Age'], bins=[0, 5, 15, 20, 25, 30, 35, 45, 55, 65, 75, 95])\n",
    "plt.xlabel('Age')\n",
    "plt.ylabel('Percentage of clients')\n",
    "plt.show()"
   ]
  },
  {
   "cell_type": "markdown",
   "metadata": {},
   "source": [
    "We are very limited by the data.\n",
    "\n",
    "We do not have population age distribution to compare with.\n",
    "\n",
    "We are only about to comment the distribution:\n",
    "- most clients are between 0 and 60\n",
    "- they have lots of clients between 12 and 16 and between 21 and 24.\n",
    "- the number of insured children is almost the same as the number of middle-aged adults (who would have children in that age range) and so since children won't go insure themselves, it might be these are dependents of the older clients.\n",
    "\n"
   ]
  },
  {
   "cell_type": "markdown",
   "metadata": {},
   "source": [
    "## Question 7"
   ]
  },
  {
   "cell_type": "code",
   "execution_count": 10,
   "metadata": {},
   "outputs": [
    {
     "data": {
      "text/html": [
       "<table border=\"1\" class=\"dataframe\">\n",
       "    <thead>\n",
       "        <tr>\n",
       "            <th>Color</th>\n",
       "        </tr>\n",
       "    </thead>\n",
       "    <tbody>\n",
       "        <tr>\n",
       "            <td>white </td>\n",
       "        </tr>\n",
       "    </tbody>\n",
       "        <tr>\n",
       "            <td>red   </td>\n",
       "        </tr>\n",
       "    </tbody>\n",
       "        <tr>\n",
       "            <td>yellow</td>\n",
       "        </tr>\n",
       "    </tbody>\n",
       "        <tr>\n",
       "            <td>purple</td>\n",
       "        </tr>\n",
       "    </tbody>\n",
       "        <tr>\n",
       "            <td>white </td>\n",
       "        </tr>\n",
       "    </tbody>\n",
       "</table>\n",
       "<p>... (95 rows omitted)</p"
      ],
      "text/plain": [
       "<IPython.core.display.HTML object>"
      ]
     },
     "metadata": {},
     "output_type": "display_data"
    }
   ],
   "source": [
    "flowers = Table.read_table('Flowers.csv')\n",
    "flowers.show(5)"
   ]
  },
  {
   "cell_type": "markdown",
   "metadata": {},
   "source": [
    "### ** You can't draw histograms for a qualitative dataset! **\n",
    "\n",
    "If the question was to plot a bar chart, you could have done this :"
   ]
  },
  {
   "cell_type": "code",
   "execution_count": 23,
   "metadata": {},
   "outputs": [
    {
     "data": {
      "image/png": "[encoded data removed]",
      "text/plain": [
       "<matplotlib.figure.Figure at 0x1a13399160>"
      ]
     },
     "metadata": {},
     "output_type": "display_data"
    }
   ],
   "source": [
    "flower_colors = flowers.group('Color')\n",
    "fig, ax = plt.subplots()\n",
    "plots.barh(flower_colors['Color'], flower_colors['count'])\n",
    "ax.set_xlabel('Color')\n",
    "ax.set_ylabel('Number of flower')\n",
    "plt.show()"
   ]
  }
 ],
 "metadata": {
  "kernelspec": {
   "display_name": "Python 3",
   "language": "python",
   "name": "python3"
  },
  "language_info": {
   "codemirror_mode": {
    "name": "ipython",
    "version": 3
   },
   "file_extension": ".py",
   "mimetype": "text/x-python",
   "name": "python",
   "nbconvert_exporter": "python",
   "pygments_lexer": "ipython3",
   "version": "3.6.6"
  }
 },
 "nbformat": 4,
 "nbformat_minor": 2
}
