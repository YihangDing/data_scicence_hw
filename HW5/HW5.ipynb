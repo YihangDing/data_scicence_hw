{
 "cells": [
  {
   "cell_type": "code",
   "execution_count": 2,
   "metadata": {},
   "outputs": [],
   "source": [
    "import random\n",
    "import numpy as np"
   ]
  },
  {
   "cell_type": "code",
   "execution_count": 20,
   "metadata": {},
   "outputs": [],
   "source": [
    "#test: set length as input\n",
    "def test(n):\n",
    "    total_streak=0\n",
    "    for _ in range(10000):\n",
    "        sin_streak=tmp=0\n",
    "        rand=np.random.randint(0,2,size=n)\n",
    "        for i,item in enumerate(rand[:-1]):\n",
    "            if item == rand[i+1]:\n",
    "                tmp+=1\n",
    "            else:\n",
    "                if sin_streak<tmp:\n",
    "                    sin_streak=tmp\n",
    "                tmp=0\n",
    "        if sin_streak<tmp:\n",
    "            sin_streak=tmp\n",
    "        total_streak+=sin_streak \n",
    "    return total_streak/10000"
   ]
  },
  {
   "cell_type": "code",
   "execution_count": 22,
   "metadata": {},
   "outputs": [
    {
     "name": "stdout",
     "output_type": "stream",
     "text": [
      "n=10, expected max streak length is: 2.6699\n"
     ]
    }
   ],
   "source": [
    "streak=test(10)\n",
    "print('n=10, expected max streak length is:',streak)"
   ]
  },
  {
   "cell_type": "code",
   "execution_count": 23,
   "metadata": {},
   "outputs": [
    {
     "name": "stdout",
     "output_type": "stream",
     "text": [
      "n=100, expected max streak length is: 5.9667\n"
     ]
    }
   ],
   "source": [
    "streak=test(100)\n",
    "print('n=100, expected max streak length is:',streak)"
   ]
  },
  {
   "cell_type": "code",
   "execution_count": 24,
   "metadata": {},
   "outputs": [
    {
     "name": "stdout",
     "output_type": "stream",
     "text": [
      "n=1000, expected max streak length is: 9.2746\n"
     ]
    }
   ],
   "source": [
    "streak=test(1000)\n",
    "print('n=1000, expected max streak length is:',streak)"
   ]
  },
  {
   "cell_type": "code",
   "execution_count": 25,
   "metadata": {},
   "outputs": [
    {
     "name": "stdout",
     "output_type": "stream",
     "text": [
      "n=10000, expected max streak length is: 12.6158\n"
     ]
    }
   ],
   "source": [
    "streak=test(10000)\n",
    "print('n=10000, expected max streak length is:',streak)"
   ]
  },
  {
   "cell_type": "code",
   "execution_count": 26,
   "metadata": {},
   "outputs": [
    {
     "name": "stdout",
     "output_type": "stream",
     "text": [
      "n=100000, expected max streak length is: 15.9214\n"
     ]
    }
   ],
   "source": [
    "streak=test(100000)\n",
    "print('n=100000, expected max streak length is:',streak)"
   ]
  },
  {
   "cell_type": "markdown",
   "metadata": {},
   "source": [
    "2. In a computer dating application, each person answers 1000 questions, and on each question, the answer is an integer between 0 and 10. We say that two people match on an answer if their scores are within two of each other. We say two people are compatible if their answers match on at least k of the questions. Suppose that you have 100 people using your application and you want to be confident that with probability .99 at least one match exists. How should you set k?"
   ]
  },
  {
   "cell_type": "code",
   "execution_count": 29,
   "metadata": {},
   "outputs": [],
   "source": [
    "from scipy.special import comb"
   ]
  },
  {
   "cell_type": "code",
   "execution_count": 31,
   "metadata": {},
   "outputs": [
    {
     "data": {
      "text/plain": [
       "0.9990000000000001"
      ]
     },
     "execution_count": 31,
     "metadata": {},
     "output_type": "execute_result"
    }
   ],
   "source": [
    "#P(C)= 1- P(not B)^|100 2|>0.99\n",
    "comb100=comb(100,2)\n",
    "pnb=1\n",
    "while 1-pow(pnb,comb100)<=0.99:\n",
    "    pnb-=0.0001\n",
    "pnb"
   ]
  },
  {
   "cell_type": "code",
   "execution_count": 32,
   "metadata": {},
   "outputs": [
    {
     "data": {
      "text/plain": [
       "454"
      ]
     },
     "execution_count": 32,
     "metadata": {},
     "output_type": "execute_result"
    }
   ],
   "source": [
    "#P(notB)=sum(|1000 k|P(A)^k*P(not A)^(1000-k))<0.999\n",
    "sump=k=0\n",
    "while sump<pnb:\n",
    "    sump+=comb(1000,k)*pow(49/121,k)*pow(1-49/121,1000-k)\n",
    "    k+=1\n",
    "k"
   ]
  },
  {
   "cell_type": "code",
   "execution_count": null,
   "metadata": {},
   "outputs": [],
   "source": []
  }
 ],
 "metadata": {
  "kernelspec": {
   "display_name": "Python 3",
   "language": "python",
   "name": "python3"
  },
  "language_info": {
   "codemirror_mode": {
    "name": "ipython",
    "version": 3
   },
   "file_extension": ".py",
   "mimetype": "text/x-python",
   "name": "python",
   "nbconvert_exporter": "python",
   "pygments_lexer": "ipython3",
   "version": "3.6.6"
  }
 },
 "nbformat": 4,
 "nbformat_minor": 2
}
